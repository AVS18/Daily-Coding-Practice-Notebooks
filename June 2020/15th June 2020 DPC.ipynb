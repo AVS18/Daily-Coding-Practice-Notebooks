{
 "cells": [
  {
   "cell_type": "markdown",
   "metadata": {},
   "source": [
    "# Question\n",
    "\n",
    "Print all elements in sorted order from row and column wise matrix.\n",
    "\n",
    "Input: mat = [[10,20,30,40],<br>\n",
    "              [15,25,35,45],<br>\n",
    "              [27,29,37,48],<br>\n",
    "              [32,33,39,50]]<br>\n",
    "          \n",
    "Output: 10,15,20,25,27,29,30,32,33,35,37,39,40,45,48,50"
   ]
  },
  {
   "cell_type": "code",
   "execution_count": 1,
   "metadata": {},
   "outputs": [
    {
     "name": "stdout",
     "output_type": "stream",
     "text": [
      "10 20 30 40 15 25 35 45 27 29 37 48 32 33 39 50\n"
     ]
    }
   ],
   "source": [
    "mat_ele=list(map(int,input().split()))\n",
    "mat_ele.sort()"
   ]
  },
  {
   "cell_type": "code",
   "execution_count": 2,
   "metadata": {},
   "outputs": [
    {
     "data": {
      "text/plain": [
       "[10, 15, 20, 25, 27, 29, 30, 32, 33, 35, 37, 39, 40, 45, 48, 50]"
      ]
     },
     "execution_count": 2,
     "metadata": {},
     "output_type": "execute_result"
    }
   ],
   "source": [
    "mat_ele"
   ]
  },
  {
   "cell_type": "markdown",
   "metadata": {},
   "source": [
    "# Question\n",
    "\n",
    "Mirror of matrix across diagonals.\n",
    "\n",
    "Input: 1 2 4<br>\n",
    "       5 9 0<br>\n",
    "       3 1 7<br>\n",
    "       \n",
    "Output: 1 5 3<br>\n",
    "        2 9 1<br>\n",
    "        4 0 7<br>"
   ]
  },
  {
   "cell_type": "code",
   "execution_count": 3,
   "metadata": {},
   "outputs": [
    {
     "name": "stdout",
     "output_type": "stream",
     "text": [
      "3 3\n",
      "1 2 4 5 9 0 3 1 7\n",
      "[[1 5 3]\n",
      " [2 9 1]\n",
      " [4 0 7]]\n"
     ]
    }
   ],
   "source": [
    "import numpy as np\n",
    "r,c=list(map(int,input().split()))\n",
    "matrix=list(map(int,input().split()))\n",
    "arr=np.array(matrix).reshape(r,c)\n",
    "print(arr.T)"
   ]
  },
  {
   "cell_type": "markdown",
   "metadata": {},
   "source": [
    "# Question\n",
    "\n",
    "Find if there is a rectangle in binary matrix with corners as 1.\n",
    "\n",
    "Input: 1 0 1 1 0<br>\n",
    "       0 0 0 0 1<br>\n",
    "       0 0 0 1 0<br>\n",
    "       1 0 1 0 1<br>\n",
    "\n",
    "Output: Yes\n",
    "        1 0 1<br>\n",
    "        0 0 0<br>\n",
    "        0 0 0<br>\n",
    "        1 0 1<br>"
   ]
  },
  {
   "cell_type": "code",
   "execution_count": 5,
   "metadata": {},
   "outputs": [
    {
     "name": "stdout",
     "output_type": "stream",
     "text": [
      "4\n",
      "5\n",
      "1 0 1 1 0 0 0 0 0 1 0 0 0 1 0 1 0 1 0 1\n",
      "[(0, 0), (0, 2), (0, 3), (1, 4), (2, 3), (3, 0), (3, 2), (3, 4)]\n"
     ]
    }
   ],
   "source": [
    "#general approach\n",
    "import numpy as np\n",
    "r,c=int(input()),int(input())\n",
    "mat=list(map(int,input().split()))\n",
    "arr=np.array(mat).reshape(r,c)\n",
    "li=[]\n",
    "for i in range(0,r):\n",
    "    for j in range(0,c):\n",
    "        if arr[i,j]==1:\n",
    "            li.append((i,j))\n",
    "print(li)"
   ]
  },
  {
   "cell_type": "code",
   "execution_count": 12,
   "metadata": {},
   "outputs": [
    {
     "name": "stdout",
     "output_type": "stream",
     "text": [
      "(0, 0) (0, 2) (3, 0) (3, 2) Yes\n"
     ]
    }
   ],
   "source": [
    "from itertools import combinations\n",
    "for item in combinations(li,4):\n",
    "    item=list(item)\n",
    "    item.sort()\n",
    "    a,b,c,d=item\n",
    "    dist1=(abs(a[0]-b[0])**2+abs(a[1]-b[1])**2)**0.5\n",
    "    dist2=(abs(b[0]-c[0])**2+abs(b[1]-c[1])**2)**0.5\n",
    "    dist3=(abs(c[0]-d[0])**2+abs(c[1]-d[1])**2)**0.5\n",
    "    dist4=(abs(a[0]-d[0])**2+abs(a[1]-d[1])**2)**0.5\n",
    "    if (dist1==dist3 and dist2==dist4) and (dist1!=dist2!=dist3!=dist4):\n",
    "        print(a,b,c,d,'Yes')\n",
    "        break"
   ]
  },
  {
   "cell_type": "markdown",
   "metadata": {},
   "source": [
    "# Question\n",
    "\n",
    "You are given an array of n integers find the elements which are repeated more than n/3 times. If there are no such elements print -1.\n",
    "\n",
    "Input: 1 2 3 1 1\n",
    "\n",
    "Output: 1\n"
   ]
  },
  {
   "cell_type": "code",
   "execution_count": 16,
   "metadata": {},
   "outputs": [
    {
     "name": "stdout",
     "output_type": "stream",
     "text": [
      "1 2 3 4 5\n",
      "-1\n"
     ]
    }
   ],
   "source": [
    "from collections import Counter\n",
    "li=list(map(int,input().split()))\n",
    "n=len(li)\n",
    "di=dict(Counter(li))\n",
    "li=[key for key,value in di.items() if value>n/3]\n",
    "if len(li)==0:\n",
    "    print(-1)\n",
    "else:\n",
    "    print(li)"
   ]
  },
  {
   "cell_type": "markdown",
   "metadata": {},
   "source": [
    "# Question\n",
    "\n",
    "Calculate the maximum product of 4 adjacent elements in a matrix.\n",
    "\n",
    "Input: n = 4<br>\n",
    "       6, 2, 3, 4<br>\n",
    "       5, 4, 3, 1<br>\n",
    "       7, 4, 5, 6<br>\n",
    "       8, 1, 3, 0<br>"
   ]
  },
  {
   "cell_type": "code",
   "execution_count": 32,
   "metadata": {},
   "outputs": [
    {
     "name": "stdout",
     "output_type": "stream",
     "text": [
      "5\n",
      "1 2 3 4 5 6 7 8 9 1 2 3 4 5 6 7 8 9 1 0 9 6 4 2 3\n",
      "[24, 84, 3024, 336, 120, 864, 504, 180, 432, 0, 28, 2592]\n",
      "3024\n"
     ]
    }
   ],
   "source": [
    "import numpy as np\n",
    "n=int(input())\n",
    "li=list(map(int,input().split()))   \n",
    "arr=np.array(li).reshape(n,n)\n",
    "prod=[]\n",
    "for i in range(0,n):\n",
    "    li=list(arr[i,:])\n",
    "    if len(li)<=4:\n",
    "        prod.append(li[0]*li[1]*li[2]*li[3])\n",
    "    else:\n",
    "        for j in range(0,len(li)-4):\n",
    "            prod.append(li[j+0]*li[j+1]*li[j+2]*li[j+3])\n",
    "    li=list(arr[:,i])\n",
    "    if len(li)<=4:\n",
    "        prod.append(li[0]*li[1]*li[2]*li[3])\n",
    "    else:\n",
    "        for j in range(0,len(li)-4):\n",
    "            prod.append(li[j+0]*li[j+1]*li[j+2]*li[j+3])\n",
    "li=np.diagonal(arr)\n",
    "if len(li)<=4:\n",
    "    prod.append(li[0]*li[1]*li[2]*li[3])\n",
    "else:\n",
    "    for j in range(0,len(li)-4):\n",
    "        prod.append(li[j+0]*li[j+1]*li[j+2]*li[j+3])\n",
    "sec_arr=np.flipud(arr)\n",
    "li=np.diagonal(sec_arr)\n",
    "if len(li)<=4:\n",
    "    prod.append(li[0]*li[1]*li[2]*li[3])\n",
    "else:\n",
    "    for j in range(0,len(li)-4):\n",
    "        prod.append(li[j+0]*li[j+1]*li[j+2]*li[j+3])\n",
    "print(prod)\n",
    "print(max(prod))"
   ]
  },
  {
   "cell_type": "markdown",
   "metadata": {},
   "source": []
  }
 ],
 "metadata": {
  "kernelspec": {
   "display_name": "Python 3",
   "language": "python",
   "name": "python3"
  },
  "language_info": {
   "codemirror_mode": {
    "name": "ipython",
    "version": 3
   },
   "file_extension": ".py",
   "mimetype": "text/x-python",
   "name": "python",
   "nbconvert_exporter": "python",
   "pygments_lexer": "ipython3",
   "version": "3.7.3"
  }
 },
 "nbformat": 4,
 "nbformat_minor": 2
}
