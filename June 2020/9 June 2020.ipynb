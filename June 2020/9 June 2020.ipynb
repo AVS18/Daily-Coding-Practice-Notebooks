{
 "cells": [
  {
   "cell_type": "markdown",
   "metadata": {},
   "source": [
    "# Question\n",
    "\n",
    "Maximum sum of hour glass in a matrix.\n",
    "\n",
    "Input: 1 1 1 0 0 <br>\n",
    "       0 1 0 0 0 <br>\n",
    "       1 1 1 0 0 <br>\n",
    "       0 0 0 0 0 <br>\n",
    "       0 0 0 0 0 <br>\n",
    "       \n",
    "Output: 3"
   ]
  },
  {
   "cell_type": "code",
   "execution_count": 6,
   "metadata": {},
   "outputs": [
    {
     "name": "stdout",
     "output_type": "stream",
     "text": [
      "5 5\n",
      "1 1 1 0 0 0 1 0 0 0 1 1 1 0 0 0 0 0 0 0 0 0 0 0 0\n",
      "7\n"
     ]
    }
   ],
   "source": [
    "import numpy as np\n",
    "r,c=list(map(int,input().split()))\n",
    "elements=list(map(int,input().split()))\n",
    "arr=np.array(elements).reshape(r,c)\n",
    "vals=[]\n",
    "for i in range(0,r-2):\n",
    "    for j in range(0,c-2):\n",
    "        item=list(arr[i,j:j+3])\n",
    "        item.append(arr[i+1,j+1])\n",
    "        item.extend(list(arr[i+2,j:j+3]))\n",
    "        vals.append(sum(item))\n",
    "print(max(vals))"
   ]
  },
  {
   "cell_type": "markdown",
   "metadata": {},
   "source": [
    "# Question\n",
    "\n",
    "sort elements based on their factors\n",
    "\n",
    "Input: 5 11 10 20 9 16 23\n",
    "\n",
    "Output: 20 16 10 9 5 11 23"
   ]
  },
  {
   "cell_type": "code",
   "execution_count": 17,
   "metadata": {},
   "outputs": [
    {
     "name": "stdout",
     "output_type": "stream",
     "text": [
      "5 11 10 20 9 16 23\n",
      "[20, 16, 10, 9, 5, 11, 23]\n"
     ]
    }
   ],
   "source": [
    "def factor_count(ele):\n",
    "    count=0\n",
    "    for i in range(2,ele):\n",
    "        if ele%i==0:\n",
    "            count+=1\n",
    "    return count+2\n",
    "arr=list(map(int,input().split()))\n",
    "di={}\n",
    "for item in arr:\n",
    "    val=factor_count(item)\n",
    "    if val not in di:\n",
    "        di[val]=[item]\n",
    "    else:\n",
    "        di[val].append(item)\n",
    "ans=[]\n",
    "for item in sorted(di,reverse=True):\n",
    "    v=di[item]\n",
    "    v.sort()\n",
    "    ans.extend(v)\n",
    "print(ans)"
   ]
  },
  {
   "cell_type": "markdown",
   "metadata": {},
   "source": [
    "# Question\n",
    "\n",
    "Check whether a given matrix is magic square or not.\n",
    "\n",
    "Input: 2 7 6<br> \n",
    "       9 5 1<br>\n",
    "       4 3 8<br>\n",
    "     \n",
    "Output: Yes"
   ]
  },
  {
   "cell_type": "code",
   "execution_count": 35,
   "metadata": {},
   "outputs": [
    {
     "name": "stdout",
     "output_type": "stream",
     "text": [
      "3\n",
      "2 7 6 9 5 1 4 3 8\n",
      "Yes\n"
     ]
    }
   ],
   "source": [
    "import numpy as np\n",
    "r=int(input())\n",
    "arr=list(map(int,input().split()))\n",
    "arr=np.array(arr).reshape(r,c)\n",
    "ans=[]\n",
    "for i in range(0,r):\n",
    "    ans.append(sum(arr[i,:]))\n",
    "    ans.append(sum(arr[:,i]))\n",
    "val=ans[0]\n",
    "val=[ans[0]]*(r+c)\n",
    "if val==ans:\n",
    "    print(\"Yes\")\n",
    "else:\n",
    "    print(\"No\")"
   ]
  },
  {
   "cell_type": "markdown",
   "metadata": {},
   "source": [
    "# Question\n",
    "\n",
    "Print the pattern below"
   ]
  },
  {
   "cell_type": "code",
   "execution_count": 33,
   "metadata": {},
   "outputs": [
    {
     "name": "stdout",
     "output_type": "stream",
     "text": [
      "7\n",
      "1  *  A  2  *  B  3  \n",
      "*  A  2  *  B  3  *  \n",
      "A  2  *  B  3  *  C  \n",
      "2  *  B  3  *  C  4  \n",
      "*  B  3  *  C  4  *  \n",
      "B  3  *  C  4  *  D  \n",
      "3  *  C  4  *  D  5  \n"
     ]
    }
   ],
   "source": [
    "def print_with_space(string):\n",
    "    for item in string:\n",
    "        print(item,' ',end='')\n",
    "    print()\n",
    "n=int(input())\n",
    "start_char='A'\n",
    "start_num=1\n",
    "init_string=''\n",
    "for i in range(0,n,3):\n",
    "    init_string+=str(start_num)+'*'+start_char\n",
    "    start_char=chr(ord(start_char)+1)\n",
    "    start_num+=1\n",
    "init_string=init_string[:n:]\n",
    "for i in range(0,n):\n",
    "    print_with_space(init_string)\n",
    "    val_last=init_string[-1]\n",
    "    if val_last.isdigit():\n",
    "        init_string+='*'\n",
    "    elif val_last=='*':\n",
    "        init_string+=chr(ord(init_string[-3])+1)\n",
    "    elif val_last.isalpha():\n",
    "        init_string+=str(int(init_string[-3])+1)\n",
    "    init_string=init_string[1:]    "
   ]
  },
  {
   "cell_type": "markdown",
   "metadata": {},
   "source": [
    "# Question\n",
    "\n",
    "Sum of all elements between k1th and k2th smallest element.\n",
    "\n",
    "Input: 10 2 50 12 48 13 k1=4 k2=6\n",
    "\n",
    "Output: 73"
   ]
  },
  {
   "cell_type": "code",
   "execution_count": 47,
   "metadata": {},
   "outputs": [
    {
     "name": "stdout",
     "output_type": "stream",
     "text": [
      "10 2 50 12 48 13\n",
      "4\n",
      "6\n",
      "73\n"
     ]
    }
   ],
   "source": [
    "import copy\n",
    "arr=list(map(int,input().split()))\n",
    "k1=int(input())\n",
    "k2=int(input())\n",
    "arr2=copy.deepcopy(arr)\n",
    "arr2.sort()\n",
    "k1_ele,k2_ele=arr2[k1-1],arr2[k2-1]\n",
    "index_k1_or,index_k2_or=arr.index(k1_ele),arr.index(k2_ele)\n",
    "if index_k1_or<index_k2_or:\n",
    "    print(sum(arr[index_k1_or:index_k2_or:]))\n",
    "else:\n",
    "    print(sum(arr[index_k1_or:index_k2_or:-1]))"
   ]
  },
  {
   "cell_type": "markdown",
   "metadata": {},
   "source": [
    "# Question\n",
    "\n",
    "Maximum XOR value for a complete row or column in a matrix.\n",
    "\n",
    "Input: 3 3<br> 1 0 4 <br> 3 7 2 <br> 5 9 10<br>\n",
    "Output: 14"
   ]
  },
  {
   "cell_type": "code",
   "execution_count": 48,
   "metadata": {},
   "outputs": [
    {
     "name": "stdout",
     "output_type": "stream",
     "text": [
      "3 3\n",
      "1 0 4 3 7 2 5 9 10\n",
      "14\n"
     ]
    }
   ],
   "source": [
    "import numpy as np\n",
    "r,c=list(map(int,input().split()))\n",
    "li=list(map(int,input().split()))\n",
    "arr=np.array(li).reshape(r,c)\n",
    "xor=[]\n",
    "for i in range(0,r):\n",
    "    li=arr[i,:]\n",
    "    val=li[0]\n",
    "    for i in range(1,len(li)):\n",
    "        val=val^li[i]\n",
    "    xor.append(val)\n",
    "for j in range(0,c):\n",
    "    li=arr[:,j]\n",
    "    val=li[0]\n",
    "    for i in range(1,len(li)):\n",
    "        val=val^li[i]\n",
    "    xor.append(val)\n",
    "print(max(xor))"
   ]
  },
  {
   "cell_type": "code",
   "execution_count": null,
   "metadata": {},
   "outputs": [],
   "source": [
    "Need more explanation,#https://www.geeksforgeeks.org/minimum-swaps-to-make-two-array-identical/"
   ]
  }
 ],
 "metadata": {
  "kernelspec": {
   "display_name": "Python 3",
   "language": "python",
   "name": "python3"
  },
  "language_info": {
   "codemirror_mode": {
    "name": "ipython",
    "version": 3
   },
   "file_extension": ".py",
   "mimetype": "text/x-python",
   "name": "python",
   "nbconvert_exporter": "python",
   "pygments_lexer": "ipython3",
   "version": "3.7.3"
  }
 },
 "nbformat": 4,
 "nbformat_minor": 2
}
