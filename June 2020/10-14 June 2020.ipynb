{
 "cells": [
  {
   "cell_type": "markdown",
   "metadata": {},
   "source": [
    "# Question\n",
    "\n",
    "Given an array of size N where every element is from the range, [0,9]. The task is to reach the last element of the array from first index. From ith index we can move to i+1 to i-1 or to any jth index such that a[i]=a[j]\n",
    "\n",
    "Input: arr={1,2,3,4,1,5}<br>\n",
    "output: 2<br>"
   ]
  },
  {
   "cell_type": "code",
   "execution_count": 16,
   "metadata": {},
   "outputs": [
    {
     "name": "stdout",
     "output_type": "stream",
     "text": [
      "1 1 1 1 1 2 2 2 3 1\n",
      "1\n"
     ]
    }
   ],
   "source": [
    "def find_ele(arr,ele,i):\n",
    "    val=i\n",
    "    for index in range(i+1,len(arr)):\n",
    "        if arr[index]==ele:\n",
    "            val=index\n",
    "    return val\n",
    "arr=list(map(int,input().split()))\n",
    "count=0\n",
    "i=0\n",
    "while i<len(arr):\n",
    "    val=find_ele(arr,arr[i],i)\n",
    "    if val!=i:\n",
    "        i=val+1\n",
    "    else:\n",
    "        i=i+1\n",
    "    count+=1\n",
    "print(count)"
   ]
  },
  {
   "cell_type": "markdown",
   "metadata": {},
   "source": [
    "# Question\n",
    "\n",
    "Given an array with 0's and 1's traverse the entire array only once end make  all 0's come first followed by 1's\n",
    "\n",
    "Input: 0 1 0 1 0 0 1 1 1 0<br>\n",
    "Output: 0 0 0 0 0 1 1 1 1 1<br>"
   ]
  },
  {
   "cell_type": "code",
   "execution_count": 18,
   "metadata": {},
   "outputs": [
    {
     "name": "stdout",
     "output_type": "stream",
     "text": [
      "0 1 0 1 0 0 1 1 1 0\n",
      "[0, 0, 0, 0, 0, 1, 1, 1, 1, 1]\n"
     ]
    }
   ],
   "source": [
    "arr=list(map(int,input().split()))\n",
    "count_0,count_1=0,0\n",
    "for i in range(0,len(arr)):\n",
    "    if arr[i]==0:\n",
    "        count_0+=1\n",
    "    else:\n",
    "        count_1+=1\n",
    "arr=[0]*count_0+[1]*count_1\n",
    "print(arr)"
   ]
  },
  {
   "cell_type": "markdown",
   "metadata": {},
   "source": [
    "# Question\n",
    "\n",
    "Sort an array in wave form\n",
    "\n",
    "Input: 10 5 6 3 2 20 100 80\n",
    "\n",
    "Output: 10 5 6 2 20 3 100 80 or 20 5 10 2 80 6 100 3\n",
    "\n",
    "Exp: a[0]>=a[1]<=a[2]>=a[3]<=a[4]..."
   ]
  },
  {
   "cell_type": "code",
   "execution_count": 26,
   "metadata": {},
   "outputs": [
    {
     "name": "stdout",
     "output_type": "stream",
     "text": [
      "10 5 6 3 2 20 100 81 70\n",
      "[10, 5, 6, 2, 20, 3, 100, 70, 81]\n"
     ]
    }
   ],
   "source": [
    "arr=list(map(int,input().split()))\n",
    "sy='gt'\n",
    "for i in range(0,len(arr)-1):\n",
    "    if sy=='gt':\n",
    "        if arr[i]<arr[i+1]:\n",
    "            arr[i],arr[i+1]=arr[i+1],arr[i]\n",
    "        sy='lt'\n",
    "    elif sy=='lt':\n",
    "        if arr[i]>arr[i+1]:\n",
    "            arr[i],arr[i+1]=arr[i+1],arr[i]\n",
    "        sy='gt'\n",
    "print(arr)"
   ]
  },
  {
   "cell_type": "markdown",
   "metadata": {},
   "source": [
    "# Question\n",
    "\n",
    "An array is given, find the length of the subarray having maximum sum.\n",
    "\n",
    "Input: 1 -2 1 1 -2 1\n",
    "\n",
    "Output: 2"
   ]
  },
  {
   "cell_type": "code",
   "execution_count": 27,
   "metadata": {},
   "outputs": [
    {
     "name": "stdout",
     "output_type": "stream",
     "text": [
      "1 -2 1 1 -2 1\n",
      "2\n"
     ]
    }
   ],
   "source": [
    "from itertools import combinations\n",
    "arr=list(map(int,input().split()))\n",
    "ans=min(arr)\n",
    "for i,j in combinations(list(range(0,len(arr)+1)),2):\n",
    "    if ans<sum(arr[i:j]):\n",
    "        ans=sum(arr[i:j])\n",
    "print(ans)"
   ]
  },
  {
   "cell_type": "markdown",
   "metadata": {},
   "source": [
    "# Question\n",
    "\n",
    "Find common elements in three sorted arrays.\n",
    "\n",
    "Input: 1 5 10 20 40 80 <br> 6 7 20 80 100 <br> 3 4 15 20 30 70 80 120<br>\n",
    "\n",
    "Output: 20 80\n",
    "  \n",
    "         "
   ]
  },
  {
   "cell_type": "code",
   "execution_count": 37,
   "metadata": {},
   "outputs": [
    {
     "name": "stdout",
     "output_type": "stream",
     "text": [
      "1 5 10 20 40 80\n",
      "6 7 20 80 100\n",
      "3 4 15 20 30 70 80 120\n",
      "{80, 20}\n"
     ]
    }
   ],
   "source": [
    "a=set(map(int,input().split()))\n",
    "b=set(map(int,input().split()))\n",
    "c=set(map(int,input().split()))\n",
    "a.intersection_update(b)\n",
    "a.intersection_update(c)\n",
    "print(a)"
   ]
  },
  {
   "cell_type": "markdown",
   "metadata": {},
   "source": [
    "# Question\n",
    "\n",
    "Find k pairs with smallest sum in two arrays.\n",
    "\n",
    "Input: 1 7 11 <br> 2 4 6 <br>  k = 3 , k<=N\n",
    "\n",
    "Output: [1,2], [1,4], [1,6]"
   ]
  },
  {
   "cell_type": "code",
   "execution_count": 44,
   "metadata": {},
   "outputs": [
    {
     "name": "stdout",
     "output_type": "stream",
     "text": [
      "1 7 11\n",
      "2 4 6\n",
      "3\n",
      "[(1, 2), (1, 4), (1, 6)]\n"
     ]
    }
   ],
   "source": [
    "a=list(map(int,input().split()))\n",
    "b=list(map(int,input().split()))\n",
    "k=int(input())\n",
    "li=[(i,j) for i in a for j in b]\n",
    "li=sorted(li,key=lambda x: x[0]+x[1])\n",
    "print(li[:k])"
   ]
  },
  {
   "cell_type": "markdown",
   "metadata": {},
   "source": [
    "# Question\n",
    "\n",
    "find the kth smallest abs difference between the elements in an array.\n",
    "\n",
    "Input: 1 2 3 4 <br> 3<br>\n",
    "Output: 1"
   ]
  },
  {
   "cell_type": "code",
   "execution_count": 46,
   "metadata": {},
   "outputs": [
    {
     "name": "stdout",
     "output_type": "stream",
     "text": [
      "1 2 3 4\n",
      "3\n",
      "1\n"
     ]
    }
   ],
   "source": [
    "from itertools import combinations\n",
    "arr=list(map(int,input().split()))\n",
    "k=int(input())\n",
    "li=[]\n",
    "for i,j in combinations(arr,2):\n",
    "    li.append(abs(i-j))\n",
    "li.sort()\n",
    "print(li[k-1])"
   ]
  },
  {
   "cell_type": "markdown",
   "metadata": {},
   "source": [
    "# Question\n",
    "\n",
    "Maximum distinct elements after removing k elements.\n",
    "\n",
    "Input: 5 7 5 5 1 2 2 <br> k = 3\n",
    "\n",
    "Output: 4"
   ]
  },
  {
   "cell_type": "code",
   "execution_count": 49,
   "metadata": {},
   "outputs": [
    {
     "name": "stdout",
     "output_type": "stream",
     "text": [
      "5 7 5 5 1 2 2\n",
      "4\n",
      "3\n"
     ]
    }
   ],
   "source": [
    "arr=list(map(int,input().split()))\n",
    "arr2=set(arr)\n",
    "dups=len(arr)-len(arr2)\n",
    "k=int(input())\n",
    "print(len(arr2)+(dups-k))"
   ]
  },
  {
   "cell_type": "markdown",
   "metadata": {},
   "source": [
    "# Question\n",
    "\n",
    "Find pairs x,y such that x^y>y^x.\n",
    "\n",
    "Input: x={2,1,6}, y={1,5}\n",
    "\n",
    "Output: 3"
   ]
  },
  {
   "cell_type": "code",
   "execution_count": 51,
   "metadata": {},
   "outputs": [
    {
     "name": "stdout",
     "output_type": "stream",
     "text": [
      "2 1 6 \n",
      "1 5\n",
      "[(2, 1), (2, 5), (6, 1)] 3\n"
     ]
    }
   ],
   "source": [
    "x=list(map(int,input().split()))\n",
    "y=list(map(int,input().split()))\n",
    "li=[(i,j) for i in x for j in y if i**j > j**i]\n",
    "print(li,len(li))"
   ]
  },
  {
   "cell_type": "markdown",
   "metadata": {},
   "source": [
    "# Question\n",
    "\n",
    "Find all triplets with zero sum.\n",
    "\n",
    "Input: 0 -1 2 -3 1\n",
    "\n",
    "Output: 0 -1 1 <br> 2 -3 1"
   ]
  },
  {
   "cell_type": "code",
   "execution_count": 52,
   "metadata": {},
   "outputs": [
    {
     "name": "stdout",
     "output_type": "stream",
     "text": [
      "0 -1 2 -3 1\n",
      "(0, -1, 1)\n",
      "(2, -3, 1)\n"
     ]
    }
   ],
   "source": [
    "from itertools import combinations\n",
    "arr=list(map(int,input().split()))\n",
    "for item in combinations(arr,3):\n",
    "    if sum(item)==0:\n",
    "        print(item)"
   ]
  },
  {
   "cell_type": "code",
   "execution_count": null,
   "metadata": {},
   "outputs": [],
   "source": []
  }
 ],
 "metadata": {
  "kernelspec": {
   "display_name": "Python 3",
   "language": "python",
   "name": "python3"
  },
  "language_info": {
   "codemirror_mode": {
    "name": "ipython",
    "version": 3
   },
   "file_extension": ".py",
   "mimetype": "text/x-python",
   "name": "python",
   "nbconvert_exporter": "python",
   "pygments_lexer": "ipython3",
   "version": "3.7.3"
  }
 },
 "nbformat": 4,
 "nbformat_minor": 2
}
