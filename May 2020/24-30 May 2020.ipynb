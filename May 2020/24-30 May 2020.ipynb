{
 "cells": [
  {
   "cell_type": "markdown",
   "metadata": {},
   "source": [
    "# Question\n",
    "\n",
    "Given scores of N athelets, find their relative ranks and the people with the top three high scores who will be awarded medals. \"Gold Medal\", \"Silver Medal\" and \"Bronze Medal\"<br>\n",
    "\n",
    "Input: [5,4,3,2,1]<br>\n",
    "Output: [\"Gold Medal\",\"Silver Medal\",\"Bronze Medal\",4,5]<br>\n",
    "Explanation: 4 and 5 are relative ranks"
   ]
  },
  {
   "cell_type": "code",
   "execution_count": 4,
   "metadata": {},
   "outputs": [
    {
     "name": "stdout",
     "output_type": "stream",
     "text": [
      "5 6 8 1 6\n",
      "['Gold Medal', 'Silver Medal', 'Bronze Medal', 4, 5]\n"
     ]
    }
   ],
   "source": [
    "import copy\n",
    "scores=list(map(int,input().split()))\n",
    "scores.sort(reverse=True)\n",
    "li=[]\n",
    "if len(scores)>3:\n",
    "    li.extend(['Gold Medal','Silver Medal','Bronze Medal'])\n",
    "    for i in range(4,len(scores)+1):\n",
    "        li.append(i)\n",
    "print(li)"
   ]
  },
  {
   "cell_type": "markdown",
   "metadata": {},
   "source": [
    "# Question\n",
    "\n",
    "Given an integer, return its base 7 string representation.\n",
    "\n",
    "Input:100<br>\n",
    "Output:\"202\"\n",
    "\n",
    "Input: -7<br>\n",
    "Output: \"-10\""
   ]
  },
  {
   "cell_type": "markdown",
   "metadata": {},
   "source": [
    "inp=int(input())\n",
    "val,l='',0\n",
    "if inp<0:\n",
    "    l=1\n",
    "    inp*=-1\n",
    "while inp>=7:\n",
    "    k=inp%7\n",
    "    val+=str(k)\n",
    "    inp//=7\n",
    "val+=str(inp)\n",
    "if l==0:\n",
    "    print(val[::-1])\n",
    "else:\n",
    "    print('-'+val[::-1])"
   ]
  },
  {
   "cell_type": "markdown",
   "metadata": {},
   "source": [
    "# Question\n",
    "\n",
    "Given an array of size n containing 0 and 1. Find the number of subarrays that have equal number of 0s and 1s.\n",
    "\n",
    "Input: 7\n",
    "\n",
    "1 0 0 1 0 1 1\n",
    "\n",
    "Output: 8"
   ]
  },
  {
   "cell_type": "code",
   "execution_count": 2,
   "metadata": {},
   "outputs": [
    {
     "name": "stdout",
     "output_type": "stream",
     "text": [
      "1 0 0 1 0 1 1\n",
      "8\n"
     ]
    }
   ],
   "source": [
    "# general approach\n",
    "\n",
    "from itertools import combinations\n",
    "from collections import Counter\n",
    "\n",
    "arr=list(map(int,input().split()))\n",
    "count=0\n",
    "for i,j in combinations(list(range(0,len(arr)+1)),2):\n",
    "    if arr[i:j].count(0)==arr[i:j].count(1):\n",
    "        count+=1\n",
    "print(count)"
   ]
  },
  {
   "cell_type": "markdown",
   "metadata": {},
   "source": [
    "# Question\n",
    "\n",
    "Given a string, check whether it is a panagram or not. A panagram is a sentence containing every letter in english alphabets.\n",
    "\n",
    "Input: 1\n",
    "\n",
    "A quick brown fox jumps over a lazy dog which was fallen asleep by that time.\n",
    "\n",
    "Output: panagram"
   ]
  },
  {
   "cell_type": "code",
   "execution_count": 13,
   "metadata": {},
   "outputs": [
    {
     "name": "stdout",
     "output_type": "stream",
     "text": [
      "1\n",
      "Bawds jog, flick quartz, vex nymph\n",
      "panagram\n"
     ]
    }
   ],
   "source": [
    "import re\n",
    "t=int(input())\n",
    "for i in range(0,t):\n",
    "    string=input()\n",
    "    string=''.join(string.split())\n",
    "    vals=re.findall('[^a-zA-Z]',string)\n",
    "    for item in vals:\n",
    "        string=''.join(string.split(item))\n",
    "    string=string.lower()\n",
    "    if len(set(string))==26:\n",
    "        print('panagram')\n",
    "    else:\n",
    "        print('not a panagram')"
   ]
  },
  {
   "cell_type": "markdown",
   "metadata": {},
   "source": [
    "# Question\n",
    "\n",
    "Extended Eucliedan Algorithm.\n",
    "\n",
    "Given a and b find one of the solution for the equation ax+by=gcd(a,b). Print gcd x and y.\n",
    "\n",
    "Input: 35 15\n",
    "\n",
    "Output: 5 1 -2"
   ]
  },
  {
   "cell_type": "code",
   "execution_count": 4,
   "metadata": {},
   "outputs": [
    {
     "name": "stdout",
     "output_type": "stream",
     "text": [
      "35 15\n",
      "5 1 -2\n"
     ]
    }
   ],
   "source": [
    "def gcd(a,b):\n",
    "    ans=1\n",
    "    for i in range(1,min(a,b)+1):\n",
    "        if a%i==0 and b%i==0:\n",
    "            ans=i\n",
    "    return ans\n",
    "a,b=list(map(int,input().split()))\n",
    "gcd_req=gcd(a,b)\n",
    "print(gcd_req,end=' ')\n",
    "x=1\n",
    "if (gcd_req-a)%b == 0:\n",
    "    y=(gcd_req-a)//b\n",
    "    print(x,y)\n",
    "else:\n",
    "    x=b\n",
    "    y=(gcd_req-a*x)//b\n",
    "    print(x,y)"
   ]
  },
  {
   "cell_type": "markdown",
   "metadata": {},
   "source": [
    "# Question\n",
    "\n",
    "Given a byte, swap the two nibbles in it.<br>\n",
    "Input: 100<br>\n",
    "Output: 70<br>\n",
    "Explanation: 01100100 -> 01000110 <br>\n",
    "\n",
    "Note: Input Numbers will have only 8 digits in their binary representation"
   ]
  },
  {
   "cell_type": "code",
   "execution_count": 13,
   "metadata": {},
   "outputs": [
    {
     "name": "stdout",
     "output_type": "stream",
     "text": [
      "129\n",
      "24\n"
     ]
    }
   ],
   "source": [
    "n=int(input())\n",
    "string_rep=bin(n).replace('0b','')\n",
    "if len(string_rep)<8:\n",
    "    string_rep='0'*(8-len(string_rep))+string_rep\n",
    "string_rep=string_rep[4:]+string_rep[:4]\n",
    "print(int(string_rep,2))"
   ]
  },
  {
   "cell_type": "markdown",
   "metadata": {},
   "source": [
    "# Question\n",
    "\n",
    "Faithful number is a number which is writtened as a sum of distinct powers of 7. Calculate the nth faithful number<br>\n",
    "Input: 7<br>\n",
    "Output: 57<br>"
   ]
  },
  {
   "cell_type": "code",
   "execution_count": 55,
   "metadata": {},
   "outputs": [
    {
     "name": "stdout",
     "output_type": "stream",
     "text": [
      "17\n",
      "2402\n"
     ]
    }
   ],
   "source": [
    "from collections import defaultdict\n",
    "num=int(input())\n",
    "faith={1:1,2:7,3:8}\n",
    "x=2\n",
    "while num not in faith:\n",
    "    last_key=list(faith.keys())[-1]\n",
    "    z=last_key+1\n",
    "    faith[z]=7**x\n",
    "    di=defaultdict(None,faith)\n",
    "    for key in list(faith.keys())[:-1:1]:\n",
    "        di[last_key+1+key]=faith[z]+faith[key]\n",
    "    faith=dict(di)\n",
    "    x+=1\n",
    "print(faith[num])"
   ]
  },
  {
   "cell_type": "markdown",
   "metadata": {},
   "source": [
    "# Question\n",
    "\n",
    "Swap numbers\n",
    "\n",
    "Input: a=2, b=3\n",
    "\n",
    "Output: b=3,a=2"
   ]
  },
  {
   "cell_type": "code",
   "execution_count": 61,
   "metadata": {},
   "outputs": [
    {
     "name": "stdout",
     "output_type": "stream",
     "text": [
      "3 2\n",
      "2 3\n"
     ]
    }
   ],
   "source": [
    "a,b=list(map(int,input().split()))\n",
    "a,b=b,a\n",
    "print(a,b)"
   ]
  },
  {
   "cell_type": "markdown",
   "metadata": {},
   "source": [
    "# Question\n",
    "\n",
    "Multiply strings\n",
    "\n",
    "Input: a,b='33','2'\n",
    "\n",
    "Output: 66"
   ]
  },
  {
   "cell_type": "code",
   "execution_count": 78,
   "metadata": {},
   "outputs": [
    {
     "name": "stdout",
     "output_type": "stream",
     "text": [
      "123 456\n",
      "65088\n"
     ]
    }
   ],
   "source": [
    "#cpp method\n",
    "a,b=input().split()\n",
    "val,carry='',0\n",
    "for value in a[::-1]:\n",
    "    u=int(value)*int(b)+carry\n",
    "    if u>9:\n",
    "        val+=str(u%10)\n",
    "        carry=int(str(u)[:-1:1])\n",
    "    else:\n",
    "        val+=str(u)\n",
    "        carry=0\n",
    "if carry>0:\n",
    "    val+=str(carry)\n",
    "val=val[::-1]\n",
    "print(val)"
   ]
  },
  {
   "cell_type": "markdown",
   "metadata": {},
   "source": [
    "# Question\n",
    "\n",
    "Given a sorted array and a value x. Find the floor of the x in the given array. Floor of x is the largest value y in array such that y<=x\n",
    "\n",
    "Input: 7 10 \n",
    "\n",
    "     1 2 8 10 11 12 13\n",
    "       \n",
    "Output: 8"
   ]
  },
  {
   "cell_type": "code",
   "execution_count": 83,
   "metadata": {},
   "outputs": [
    {
     "name": "stdout",
     "output_type": "stream",
     "text": [
      "7 10\n",
      "1 2 8 10 11 12 13\n",
      "8\n"
     ]
    }
   ],
   "source": [
    "n,x=list(map(int,input().split()))\n",
    "array=list(map(int,input().split()))\n",
    "if x>arr[-1]:\n",
    "    print(arr[-1])\n",
    "else:\n",
    "    for i in range(0,len(arr)):\n",
    "        if arr[i]>x:\n",
    "            print(arr[i-1])\n",
    "            break"
   ]
  },
  {
   "cell_type": "markdown",
   "metadata": {},
   "source": [
    "# Question\n",
    "\n",
    "Sort the binary numbers\n",
    "\n",
    "Input: [11,111,101,10,11111]\n",
    "\n",
    "Output: [10,11,101,111,11111]"
   ]
  },
  {
   "cell_type": "code",
   "execution_count": 26,
   "metadata": {},
   "outputs": [
    {
     "name": "stdout",
     "output_type": "stream",
     "text": [
      "1 10 01 11 110 011 101 \n",
      "['1', '1', '10', '11', '11', '101', '110']\n"
     ]
    }
   ],
   "source": [
    "def fun(x):\n",
    "    return int(x,2)\n",
    "def fun1(x):\n",
    "    return str(bin(x)).replace('0b','')\n",
    "arr=list(map(fun,input().split()))\n",
    "arr.sort()\n",
    "arr=list(map(fun1,arr))\n",
    "print(arr)"
   ]
  },
  {
   "cell_type": "code",
   "execution_count": null,
   "metadata": {},
   "outputs": [],
   "source": []
  }
 ],
 "metadata": {
  "kernelspec": {
   "display_name": "Python 3",
   "language": "python",
   "name": "python3"
  },
  "language_info": {
   "codemirror_mode": {
    "name": "ipython",
    "version": 3
   },
   "file_extension": ".py",
   "mimetype": "text/x-python",
   "name": "python",
   "nbconvert_exporter": "python",
   "pygments_lexer": "ipython3",
   "version": "3.7.3"
  }
 },
 "nbformat": 4,
 "nbformat_minor": 2
}
