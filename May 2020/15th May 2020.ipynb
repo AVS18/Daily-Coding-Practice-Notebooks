{
 "cells": [
  {
   "cell_type": "markdown",
   "metadata": {},
   "source": [
    "# Question\n",
    "\n",
    "Given a list of words and two words calculate the shortest distance between two words in the list.<br>\n",
    "Input: words=['practice','makes','perfect','coding','makes']<br>\n",
    "word1='coding'<br>\n",
    "word2='practice'<br>\n",
    "Output: 3<br>\n",
    "\n",
    "Input: word1 = 'makes'<br>\n",
    "word2 = 'coding'<br>\n",
    "\n",
    "Output: 1<br>"
   ]
  },
  {
   "cell_type": "code",
   "execution_count": 5,
   "metadata": {},
   "outputs": [
    {
     "name": "stdout",
     "output_type": "stream",
     "text": [
      "practice makes perfect coding makes\n",
      "makes\n",
      "coding\n",
      "1\n"
     ]
    }
   ],
   "source": [
    "words=input().split()\n",
    "word1=input()\n",
    "word2=input()\n",
    "word_indx=[i for i in range(0,len(words)) if words[i]==word1 or words[i]==word2]\n",
    "val=abs(word_indx[0]-word_indx[1])\n",
    "if len(word_indx)==2:\n",
    "    print(val)\n",
    "else:\n",
    "    for i in range(0,len(word_indx)-1):\n",
    "        if abs(word_indx[i+1]-word_indx[i])<val:\n",
    "            val=abs(word_indx[i+1]-word_indx[i])\n",
    "    print(val)\n",
    "    "
   ]
  },
  {
   "cell_type": "markdown",
   "metadata": {},
   "source": [
    "# Question\n",
    "\n",
    "Write a program to find the nth ugly number. Ugly numbers are positive numbers whose prime factors only include 2,3,5.<br>\n",
    "Input: n=10,<br> Output=12<br>\n",
    "Explanation: 1,2,3,4,5,6,8,9,10,12 is the sequence of first 10 ugly numbers.<br>"
   ]
  },
  {
   "cell_type": "code",
   "execution_count": 14,
   "metadata": {},
   "outputs": [],
   "source": [
    "#general methood\n",
    "def check_ugly5(num):\n",
    "    if num<=1:\n",
    "        return True\n",
    "    if num>=5:\n",
    "        if num%5==0:\n",
    "            num=num//5\n",
    "            return check_ugly5(num)\n",
    "        else:\n",
    "            return check_ugly3(num)\n",
    "            return check_ugly2(num)\n",
    "    else:\n",
    "        return check_ugly3(num)\n",
    "        return check_ugly2(num)\n",
    "def check_ugly3(num):\n",
    "    if num<=1:\n",
    "        return True\n",
    "    if num>=3:\n",
    "        if num%3==0:\n",
    "            num=num//3\n",
    "            return check_ugly3(num)\n",
    "        else:\n",
    "            return check_ugly2(num)\n",
    "    else:\n",
    "        return check_ugly2(num)\n",
    "def check_ugly2(num):\n",
    "    if num>=2:\n",
    "        if num%2==0:\n",
    "            num=num//2\n",
    "            return check_ugly2(num)\n",
    "        else:\n",
    "            return False\n",
    "    if num<=1:\n",
    "        return True"
   ]
  },
  {
   "cell_type": "code",
   "execution_count": 18,
   "metadata": {},
   "outputs": [
    {
     "name": "stdout",
     "output_type": "stream",
     "text": [
      "10\n"
     ]
    }
   ],
   "source": [
    "nth_num=int(input())\n",
    "count=0\n",
    "i=1\n",
    "li=[]\n",
    "while count!=nth_num:\n",
    "    if check_ugly5(i):\n",
    "        li.append(i)\n",
    "        count+=1\n",
    "        i+=1\n",
    "        continue\n",
    "    else:\n",
    "        i+=1"
   ]
  },
  {
   "cell_type": "code",
   "execution_count": 20,
   "metadata": {},
   "outputs": [
    {
     "name": "stdout",
     "output_type": "stream",
     "text": [
      "[1, 2, 3, 4, 5, 6, 8, 9, 10, 12]\n"
     ]
    }
   ],
   "source": [
    "#All ugly numbers till that value\n",
    "print(li)"
   ]
  },
  {
   "cell_type": "code",
   "execution_count": 21,
   "metadata": {},
   "outputs": [
    {
     "data": {
      "text/plain": [
       "12"
      ]
     },
     "execution_count": 21,
     "metadata": {},
     "output_type": "execute_result"
    }
   ],
   "source": [
    "#our answer:\n",
    "li[-1]"
   ]
  },
  {
   "cell_type": "code",
   "execution_count": null,
   "metadata": {},
   "outputs": [],
   "source": []
  }
 ],
 "metadata": {
  "kernelspec": {
   "display_name": "Python 3",
   "language": "python",
   "name": "python3"
  },
  "language_info": {
   "codemirror_mode": {
    "name": "ipython",
    "version": 3
   },
   "file_extension": ".py",
   "mimetype": "text/x-python",
   "name": "python",
   "nbconvert_exporter": "python",
   "pygments_lexer": "ipython3",
   "version": "3.7.3"
  }
 },
 "nbformat": 4,
 "nbformat_minor": 2
}
