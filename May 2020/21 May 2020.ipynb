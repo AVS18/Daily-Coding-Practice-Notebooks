{
 "cells": [
  {
   "cell_type": "markdown",
   "metadata": {},
   "source": [
    "# Question\n",
    "\n",
    "Given two words word1 and word2, find the minimum number of steps required to make word1 and word2 same. In each step we can delete only one character in either string.<br>\n",
    "\n",
    "Input: 'sea','eat'<br>\n",
    "Output: 2<br>\n",
    "Explanation: sea - > ea -> eat<br>"
   ]
  },
  {
   "cell_type": "code",
   "execution_count": null,
   "metadata": {},
   "outputs": [],
   "source": [
    "#https://leetcode.com/articles/delete-operation-for-two-strings/\n",
    "\n",
    "# output will be str1 length + str2 length - 2*lcs\n",
    "def lcs(X,Y,m,n):\n",
    "    LCSuff = [[0 for k in range(n+1)] for l in range(m+1)] \n",
    "    result = 0 \n",
    "    for i in range(m + 1): \n",
    "        for j in range(n + 1): \n",
    "            if (i == 0 or j == 0): \n",
    "                LCSuff[i][j] = 0\n",
    "            elif (X[i-1] == Y[j-1]): \n",
    "                LCSuff[i][j] = LCSuff[i-1][j-1] + 1\n",
    "                result = max(result, LCSuff[i][j]) \n",
    "            else: \n",
    "                LCSuff[i][j] = 0\n",
    "    return result\n",
    "X,Y=input().split()\n",
    "result=lcs(X,Y,3,3)\n",
    "print(len(X)+len(Y)-2*result)"
   ]
  },
  {
   "cell_type": "markdown",
   "metadata": {},
   "source": [
    "# Question 2\n",
    "\n",
    "Write a program to find the nth super ugly number. Super ugly numbers are postive numbers whose prime factors in the given list primes of size k.<br>\n",
    "Input: n=12, primes=[2,7,13,9]<br>\n",
    "Output: 49<br>\n",
    "Explanation: [1,2,4,7,8,13,14,16,26,28,32,49] is the sequence of first 12 super ugly numbers for the given primes.<br>"
   ]
  },
  {
   "cell_type": "code",
   "execution_count": 6,
   "metadata": {},
   "outputs": [
    {
     "name": "stdout",
     "output_type": "stream",
     "text": [
      "12\n",
      "2 13 7 9\n",
      "[1, 2, 4, 7, 8, 13, 14, 16, 26, 28, 32, 49]\n",
      "49\n"
     ]
    }
   ],
   "source": [
    "#backtrack technique\n",
    "import math \n",
    "def primeFactors(n): \n",
    "    val=[]\n",
    "    while n % 2 == 0: \n",
    "        val.append(2) \n",
    "        n=n//2\n",
    "    for k in range(3,int(math.sqrt(n))+1,2): \n",
    "        while n % k== 0: \n",
    "            val.append(k) \n",
    "            n = n / k \n",
    "    if n > 2: \n",
    "        val.append(n)\n",
    "    return val    \n",
    "n=int(input())\n",
    "primes=list(map(int,input().split()))\n",
    "count,i,ans=0,1,[]\n",
    "while count!=n:\n",
    "    val=primeFactors(i)\n",
    "    l=0\n",
    "    for item in val:\n",
    "        if item not in primes:\n",
    "            l=1\n",
    "    if l==0:\n",
    "        ans.append(i)\n",
    "        count+=1\n",
    "    i+=1\n",
    "print(ans)\n",
    "ans.sort()\n",
    "print(ans[n-1])    "
   ]
  },
  {
   "cell_type": "markdown",
   "metadata": {},
   "source": [
    "# Question\n",
    "\n",
    "Given a binary array. Find the number of consecutive 1's in the array.<br> \n",
    "\n",
    "Input: [1,1,0,1,1,1]<br> Output: 3<br>"
   ]
  },
  {
   "cell_type": "code",
   "execution_count": 12,
   "metadata": {},
   "outputs": [
    {
     "name": "stdout",
     "output_type": "stream",
     "text": [
      "1 1 1 0 1 1 1\n",
      "3\n"
     ]
    }
   ],
   "source": [
    "arr=list(map(int,input().split()))\n",
    "zero_indx=[i for i in range(0,len(arr)) if arr[i]==0]\n",
    "max_values=[zero_indx[i+1]-zero_indx[i]-1 for i in range(1,len(zero_indx)-1)]\n",
    "max_values.append(len(arr)-1-(zero_indx[-1]))\n",
    "print(max(max_values))\n"
   ]
  },
  {
   "cell_type": "code",
   "execution_count": null,
   "metadata": {},
   "outputs": [],
   "source": []
  }
 ],
 "metadata": {
  "kernelspec": {
   "display_name": "Python 3",
   "language": "python",
   "name": "python3"
  },
  "language_info": {
   "codemirror_mode": {
    "name": "ipython",
    "version": 3
   },
   "file_extension": ".py",
   "mimetype": "text/x-python",
   "name": "python",
   "nbconvert_exporter": "python",
   "pygments_lexer": "ipython3",
   "version": "3.7.3"
  }
 },
 "nbformat": 4,
 "nbformat_minor": 2
}
