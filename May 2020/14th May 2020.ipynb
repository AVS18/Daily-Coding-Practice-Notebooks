{
 "cells": [
  {
   "cell_type": "markdown",
   "metadata": {},
   "source": [
    "# Question\n",
    "\n",
    "Given the coordinates of four points in 2D space. Return whether the four coordinates could construct a square. The coordinate of a point (x,y) is represented by an integer array with two integers.<br>\n",
    "\n",
    "Input: p1=[0,0]<br>\n",
    "p2=[1,1]<br>\n",
    "p3=[1,0]<br>\n",
    "p4=[0,1]<br>"
   ]
  },
  {
   "cell_type": "code",
   "execution_count": 16,
   "metadata": {},
   "outputs": [
    {
     "name": "stdout",
     "output_type": "stream",
     "text": [
      "0 0\n",
      "1 1\n",
      "1 0\n",
      " 0 1\n",
      "1.0 1.4142135623730951 1.0 1.4142135623730951 1.0 1.0\n",
      "True\n"
     ]
    }
   ],
   "source": [
    "#val1,val2,val5,val6 represents length of side of square\n",
    "#val2 and val4 length of diagnol of square\n",
    "points=[]\n",
    "for i in range(0,4):\n",
    "    points.append(list(map(int,input().split())))\n",
    "points.sort()\n",
    "val1=(abs(points[0][0]-points[1][0])**2+(points[0][1]-points[1][1])**2)**0.5\n",
    "val2=(abs(points[1][0]-points[2][0])**2+(points[1][1]-points[2][1])**2)**0.5\n",
    "val3=(abs(points[2][0]-points[3][0])**2+(points[2][1]-points[3][1])**2)**0.5\n",
    "val4=(abs(points[3][0]-points[0][0])**2+(points[3][1]-points[0][1])**2)**0.5\n",
    "val5=(abs(points[0][0]-points[2][0])**2+(points[0][1]-points[2][1])**2)**0.5\n",
    "val6=(abs(points[1][0]-points[3][0])**2+(points[1][1]-points[3][1])**2)**0.5\n",
    "print(val1,val2,val3,val4,val5,val6)\n",
    "if val1==val3==val5==val6 and val2==val4:\n",
    "    print(True)\n",
    "else:\n",
    "    print(False)"
   ]
  },
  {
   "cell_type": "code",
   "execution_count": 11,
   "metadata": {},
   "outputs": [
    {
     "data": {
      "text/plain": [
       "[[0, 0], [0, 1], [1, 0], [1, 1]]"
      ]
     },
     "execution_count": 11,
     "metadata": {},
     "output_type": "execute_result"
    }
   ],
   "source": [
    "points"
   ]
  },
  {
   "cell_type": "markdown",
   "metadata": {},
   "source": [
    "# Question\n",
    "\n",
    "Given an unsorted array nums, reorder it such that nums[0]<nums[1]>nums[2]<nums[3]...<br>\n",
    "Input: nums=[1,5,1,1,6,4]<br>\n",
    "Output: [1,4,1,5,1,6]<br>\n",
    "Input: nums=[1,3,2,2,3,1]<br>\n",
    "Output: [2,3,1,3,1,2]<br>"
   ]
  },
  {
   "cell_type": "code",
   "execution_count": 23,
   "metadata": {},
   "outputs": [
    {
     "name": "stdout",
     "output_type": "stream",
     "text": [
      "1 5 1 1 6 5 8\n",
      "[1, 5, 1, 6, 1, 8, 5]\n"
     ]
    }
   ],
   "source": [
    "#technique:\n",
    "#cut the sorted array into two equal halves (array of even length)/ len(first_half)=len(Second_half)+1 in case of odd \n",
    "#zip arrays and append the output to get the result.\n",
    "nums=list(map(int,input().split()))\n",
    "nums.sort()\n",
    "split=len(nums)//2\n",
    "if len(nums)%2==1:\n",
    "    split+=1\n",
    "arr1=nums[:split]\n",
    "arr2=nums[split:]\n",
    "final_ans=[]\n",
    "for i,j in zip(arr1,arr2):\n",
    "    final_ans.append(i)\n",
    "    final_ans.append(j)\n",
    "if len(nums)%2==1:\n",
    "    final_ans.append(arr1[-1])\n",
    "print(final_ans)"
   ]
  },
  {
   "cell_type": "markdown",
   "metadata": {},
   "source": []
  }
 ],
 "metadata": {
  "kernelspec": {
   "display_name": "Python 3",
   "language": "python",
   "name": "python3"
  },
  "language_info": {
   "codemirror_mode": {
    "name": "ipython",
    "version": 3
   },
   "file_extension": ".py",
   "mimetype": "text/x-python",
   "name": "python",
   "nbconvert_exporter": "python",
   "pygments_lexer": "ipython3",
   "version": "3.7.3"
  }
 },
 "nbformat": 4,
 "nbformat_minor": 2
}
