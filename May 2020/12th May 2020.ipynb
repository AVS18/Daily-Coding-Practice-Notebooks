{
 "cells": [
  {
   "cell_type": "markdown",
   "metadata": {},
   "source": [
    "# Question\n",
    "\n",
    "Given an integer array of size n. Find the elements that appear more than n/3 times in that array.<br>\n",
    "Input:[3,2,3]<br>\n",
    "Output: [3]<br>\n",
    "Input: [1,1,1,3,3,2,2,2]<br>\n",
    "Output: [1,2]<br>"
   ]
  },
  {
   "cell_type": "code",
   "execution_count": 4,
   "metadata": {},
   "outputs": [
    {
     "name": "stdout",
     "output_type": "stream",
     "text": [
      "1 1 1 2 2 3 3 3\n",
      "1 3 "
     ]
    }
   ],
   "source": [
    "from collections import Counter\n",
    "arr=list(map(int,input().split()))\n",
    "n=len(arr)/3\n",
    "for key,value in dict(Counter(arr)).items():\n",
    "    if value>n:\n",
    "        print(key,end=' ')"
   ]
  },
  {
   "cell_type": "markdown",
   "metadata": {},
   "source": [
    "# Question\n",
    "\n",
    "Given two strings s1 and s2 write a function that returns true if s2 contains the permutation of s1.<br>\n",
    "\n",
    "Input: s1='ab' s2='baba'<br>\n",
    "Output: True<br>\n",
    "Explanation: s1 permutation 'ba' is a substring of s2<br>\n",
    "\n",
    "Input: s1='ab' s2='eidboaoo'<br>\n",
    "Output: False<br>\n",
    "Explanation: ab or ba is not a substring of s2.<br>"
   ]
  },
  {
   "cell_type": "code",
   "execution_count": 11,
   "metadata": {},
   "outputs": [
    {
     "name": "stdout",
     "output_type": "stream",
     "text": [
      "edith\n",
      "sesvdvsaieefdeht\n",
      "False\n"
     ]
    }
   ],
   "source": [
    "#General Approach\n",
    "import sys\n",
    "from itertools import permutations\n",
    "def check_substr(s1,s2):\n",
    "    return 1 if len(s2.split(s1))>=2 else 0\n",
    "s1=input()\n",
    "s2=input()\n",
    "l=1\n",
    "for item in permutations(s1):\n",
    "    if check_substr(''.join(item),s2)==1:\n",
    "        print(\"True\")\n",
    "        l=0\n",
    "        break\n",
    "if l==1:\n",
    "    print(\"False\")"
   ]
  },
  {
   "cell_type": "markdown",
   "metadata": {},
   "source": [
    "# Special Question\n",
    "\n",
    "<h3>Delete Every N Nodes</h3>\n",
    "\n",
    "Given a linked list and two integers M and N. Traverse the linked list such that you retain m nodes and delete next n nodes. Continue the same till the end of the list. In simple, you need to delete n nodes after traversing m nodes.-1 indicates end of the linked list.<br>\n",
    "\n",
    "Input: 1 2 3 4 5 6 7 8 -1<br>\n",
    "       2<br>\n",
    "       2<br>\n",
    "Output: 1 2 5 6<br>"
   ]
  },
  {
   "cell_type": "code",
   "execution_count": 1,
   "metadata": {},
   "outputs": [
    {
     "data": {
      "text/plain": [
       "'\\n#include<stdio.h>\\n#include<stdlib.h>\\nstruct node {\\n    int data;\\n    struct node *next;\\n};\\nstruct node *head=NULL,*newnode,*change;\\nvoid print_link_list(struct node *head)\\n{\\n    struct node *temp=head;\\n    while(temp!=NULL)\\n    {\\n        printf(\"%d \",temp->data);\\n        temp=temp->next;\\n    }\\n}\\nint main()\\n{\\n    int n;\\n    while(1)\\n    {\\n        scanf(\"%d\",&n);\\n        if(n==-1)\\n        break;\\n        newnode=(struct node *)malloc(sizeof(struct node));\\n        newnode->data=n;\\n        newnode->next=NULL;\\n        if(head==NULL)\\n        {\\n            head=newnode;\\n            change=newnode;\\n        }\\n        else\\n        {\\n            change->next=newnode;\\n            change=newnode;\\n        }\\n    }\\n    int m;\\n    scanf(\"%d\",&m);\\n    scanf(\"%d\",&n);\\n    int count=0;\\n    change=head;\\n    while(change!=NULL)\\n    {\\n        if(count<m)\\n        {\\n            newnode=change;\\n            change=change->next;\\n            count++;\\n        }\\n        else\\n        {\\n            if(count<m+n)\\n            {\\n                newnode->next=change->next;\\n                change=change->next;\\n                count++;\\n            }\\n            else\\n            {\\n                count=0;\\n            }\\n        }\\n    }\\n    print_link_list(head);\\n}\\n'"
      ]
     },
     "execution_count": 1,
     "metadata": {},
     "output_type": "execute_result"
    }
   ],
   "source": [
    "'''\n",
    "#include<stdio.h>\n",
    "#include<stdlib.h>\n",
    "struct node {\n",
    "    int data;\n",
    "    struct node *next;\n",
    "};\n",
    "struct node *head=NULL,*newnode,*change;\n",
    "void print_link_list(struct node *head)\n",
    "{\n",
    "    struct node *temp=head;\n",
    "    while(temp!=NULL)\n",
    "    {\n",
    "        printf(\"%d \",temp->data);\n",
    "        temp=temp->next;\n",
    "    }\n",
    "}\n",
    "int main()\n",
    "{\n",
    "    int n;\n",
    "    while(1)\n",
    "    {\n",
    "        scanf(\"%d\",&n);\n",
    "        if(n==-1)\n",
    "        break;\n",
    "        newnode=(struct node *)malloc(sizeof(struct node));\n",
    "        newnode->data=n;\n",
    "        newnode->next=NULL;\n",
    "        if(head==NULL)\n",
    "        {\n",
    "            head=newnode;\n",
    "            change=newnode;\n",
    "        }\n",
    "        else\n",
    "        {\n",
    "            change->next=newnode;\n",
    "            change=newnode;\n",
    "        }\n",
    "    }\n",
    "    int m;\n",
    "    scanf(\"%d\",&m);\n",
    "    scanf(\"%d\",&n);\n",
    "    int count=0;\n",
    "    change=head;\n",
    "    while(change!=NULL)\n",
    "    {\n",
    "        if(count<m)\n",
    "        {\n",
    "            newnode=change;\n",
    "            change=change->next;\n",
    "            count++;\n",
    "        }\n",
    "        else\n",
    "        {\n",
    "            if(count<m+n)\n",
    "            {\n",
    "                newnode->next=change->next;\n",
    "                change=change->next;\n",
    "                count++;\n",
    "            }\n",
    "            else\n",
    "            {\n",
    "                count=0;\n",
    "            }\n",
    "        }\n",
    "    }\n",
    "    print_link_list(head);\n",
    "}\n",
    "'''"
   ]
  },
  {
   "cell_type": "markdown",
   "metadata": {},
   "source": [
    "# Special Question 2\n",
    "\n",
    "In a school of tons students teacher used to maintain their students attendance record. A lot of students has very good attendance but some really don't have. The teachers are exactly found some candidates with k appearences. But there are many students with k appearences. Find the guy with the smallest roll no. <br>\n",
    "Input: N = 5<br>\n",
    "Array: 3,2,3,4,4<br>\n",
    "k=2<br>\n",
    "Output:3<br>\n",
    "Explanation: Both roll no 3 and 4 are occured 2 times but 3 is the guy with least roll number.<br>"
   ]
  },
  {
   "cell_type": "code",
   "execution_count": 5,
   "metadata": {},
   "outputs": [
    {
     "name": "stdout",
     "output_type": "stream",
     "text": [
      "5\n",
      "3 2 3 4 4\n",
      "2\n",
      "3\n"
     ]
    }
   ],
   "source": [
    "from collections import Counter\n",
    "n=int(input())\n",
    "arr=list(map(int,input().split()))\n",
    "k=int(input())\n",
    "di=dict(Counter(arr))\n",
    "for key,value in sorted(di.items()):\n",
    "    if value==k:\n",
    "        print(key)\n",
    "        break"
   ]
  },
  {
   "cell_type": "code",
   "execution_count": null,
   "metadata": {},
   "outputs": [],
   "source": []
  }
 ],
 "metadata": {
  "kernelspec": {
   "display_name": "Python 3",
   "language": "python",
   "name": "python3"
  },
  "language_info": {
   "codemirror_mode": {
    "name": "ipython",
    "version": 3
   },
   "file_extension": ".py",
   "mimetype": "text/x-python",
   "name": "python",
   "nbconvert_exporter": "python",
   "pygments_lexer": "ipython3",
   "version": "3.7.3"
  }
 },
 "nbformat": 4,
 "nbformat_minor": 2
}
