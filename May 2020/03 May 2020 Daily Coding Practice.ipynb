{
 "cells": [
  {
   "cell_type": "markdown",
   "metadata": {},
   "source": [
    "# Question1\n",
    "\n",
    "Given a set of distinct integers return all the possible subsets without duplicates\n",
    "\n",
    "Input: [1,2,3]\n",
    "Output: [[1],[2],[3],[1,2],[2,3],[1,3],[1,2,3],[]]"
   ]
  },
  {
   "cell_type": "code",
   "execution_count": 17,
   "metadata": {},
   "outputs": [
    {
     "name": "stdout",
     "output_type": "stream",
     "text": [
      "1 2 3\n",
      "[[1, 2], [1, 3], [1], [2], [3], [1, 2, 3], [2, 3], []]\n"
     ]
    }
   ],
   "source": [
    "from itertools import combinations\n",
    "numbers=list(map(int,input().split()))\n",
    "li=[]\n",
    "for i in range(1,len(numbers)+1):\n",
    "    for item in combinations(numbers,i):\n",
    "        li.append(item)\n",
    "li=list(set(li))\n",
    "li=list(map(list,li))\n",
    "li.append([])\n",
    "print(li)"
   ]
  },
  {
   "cell_type": "markdown",
   "metadata": {},
   "source": [
    "# Question2\n",
    "\n",
    "Given two binary strings return their sum (in binary). Input strings are not non empty and contains onlu characters 1 or 0.<br>\n",
    "Input: a='11',b='1'<br>\n",
    "Output: \"100\"<br>\n",
    "\n",
    "Input: a='1010' b='1011'<br>\n",
    "Output: \"10101\"<br>"
   ]
  },
  {
   "cell_type": "code",
   "execution_count": 2,
   "metadata": {},
   "outputs": [
    {
     "name": "stdout",
     "output_type": "stream",
     "text": [
      "100\n",
      "1000\n",
      "1100\n"
     ]
    }
   ],
   "source": [
    "a=input()\n",
    "b=input()\n",
    "a_len,b_len=len(a),len(b)\n",
    "if a_len<b_len:\n",
    "    a='0'*(b_len-a_len)+a\n",
    "if b_len<a_len:\n",
    "    b='0'*(a_len-b_len)+b\n",
    "op,carry=[],0\n",
    "for i,j in zip(a[::-1],b[::-1]):\n",
    "    if (i=='1' and j=='0') or (j=='1' and i=='0'):\n",
    "        if carry==0:\n",
    "            op.append('1')\n",
    "            carry=0\n",
    "        else:\n",
    "            op.append('0')\n",
    "            carry=1\n",
    "    if (i=='0' and j=='0') or (i=='1' and j=='1'):\n",
    "        if carry==0:\n",
    "            op.append('0')\n",
    "        else:\n",
    "            op.append('1')\n",
    "        if i=='0' and j=='0':\n",
    "            carry=0\n",
    "        else:\n",
    "            carry=1 \n",
    "if carry!=0:    \n",
    "    op.append(str(carry))\n",
    "print(''.join(op[::-1]))"
   ]
  },
  {
   "cell_type": "code",
   "execution_count": 7,
   "metadata": {},
   "outputs": [
    {
     "name": "stdout",
     "output_type": "stream",
     "text": [
      "100\n",
      "1000\n",
      "1100\n"
     ]
    }
   ],
   "source": [
    "#Solution:2 \n",
    "#Thanks to Cr7 for idea\n",
    "a=input()\n",
    "b=input()\n",
    "a_len,b_len=len(a),len(b)\n",
    "if a_len<b_len:\n",
    "    a='0'*(b_len-a_len)+a\n",
    "if b_len<a_len:\n",
    "    b='0'*(a_len-b_len)+b\n",
    "op,carry='',0\n",
    "for i in zip(a[::-1],b[::-1]):\n",
    "    val=sum(list(map(int,i)))+carry\n",
    "    if val%2==0:\n",
    "        op='0'+op\n",
    "    else:\n",
    "        op='1'+op\n",
    "    ex=0\n",
    "    if val>1:\n",
    "        ex=1\n",
    "print((str(carry)+op).lstrip('0'))"
   ]
  },
  {
   "cell_type": "markdown",
   "metadata": {},
   "source": [
    "# Question 3\n",
    "\n",
    "Write a function to find the longest prefix amongst an array of strings. if there are no such common prefix return a empty string<br>\n",
    "\n",
    "Input: [\"flower\",\"flow\",\"flight\"]<br>\n",
    "Output: 'fl'<br>\n",
    "Input: ['dog','racecar','car']<br>\n",
    "Output: ''<br>"
   ]
  },
  {
   "cell_type": "code",
   "execution_count": 45,
   "metadata": {},
   "outputs": [
    {
     "name": "stdout",
     "output_type": "stream",
     "text": [
      "flower flow flight\n",
      "fl\n"
     ]
    }
   ],
   "source": [
    "strings=list(map(str,input().split()))\n",
    "def get_ans(strings):\n",
    "    #i has each character of string in values\n",
    "    for i in zip(*strings):\n",
    "        #suppose i = ('a','b','b'), Condition checked is 'abb'!='aaa'\n",
    "        if ''.join(i)!=i[0]*len(strings):\n",
    "            #return all the characters before the first unmatched\n",
    "            return strings[0][:strings[0].index(i[0])] \n",
    "    #return that string if one string is completely a substring of all\n",
    "    li=[len(string) for string in strings]\n",
    "    return strings[li.index(min(li))]\n",
    "print(get_ans(strings))"
   ]
  },
  {
   "cell_type": "markdown",
   "metadata": {},
   "source": [
    "# Special Question 1\n",
    "\n",
    "You are given an input array of size n. find the next greatest element for each element in array. If not print -1.<br>\n",
    "Input: 1 10 3 24 5 6 85 <br>\n",
    "Output: 10 24 24 85 6 85 -1<br>\n",
    "\n",
    "Input: 3 5 2 1 7 4 3 6 8 1<br>\n",
    "Output: 5 7 7 7 8 6 6 8 -1 -1<br>"
   ]
  },
  {
   "cell_type": "code",
   "execution_count": 54,
   "metadata": {},
   "outputs": [
    {
     "name": "stdout",
     "output_type": "stream",
     "text": [
      "3 5 2 1 7 4 3 6 8 1\n",
      "[5, 7, 7, 7, 8, 6, 6, 8, -1, -1]\n"
     ]
    }
   ],
   "source": [
    "#Method 1 (Normal)\n",
    "inp_arr=list(map(int,input().split()))\n",
    "out_arr=[]\n",
    "for i in range(0,len(inp_arr)-1):\n",
    "    arr=[inp_arr[j] for j in range(i+1,len(inp_arr)) if inp_arr[j]>inp_arr[i]]\n",
    "    if len(arr)>0:\n",
    "        out_arr.append(arr[0])\n",
    "    else:\n",
    "        out_arr.append(-1)\n",
    "#as n-1 comparisons made\n",
    "out_arr.append(-1)\n",
    "print(out_arr)"
   ]
  },
  {
   "cell_type": "code",
   "execution_count": 59,
   "metadata": {},
   "outputs": [
    {
     "name": "stdout",
     "output_type": "stream",
     "text": [
      "3 5 2 1 7 4 3 6 8 1\n",
      "[5, 7, 7, 7, 8, 6, 6, 8, -1, -1]\n"
     ]
    }
   ],
   "source": [
    "#Solution Explanation Video link \n",
    "#Method2 using stack\n",
    "inp_arr=list(map(int,input().split()))\n",
    "out_arr=[]\n",
    "stack=[]\n",
    "for i in range(len(inp_arr)-1,-1,-1):\n",
    "    if len(stack)==0:\n",
    "        out_arr.append(-1)\n",
    "        stack.append(inp_arr[i])\n",
    "    else:\n",
    "        while len(stack)!=0 and inp_arr[i]>stack[-1]:\n",
    "            stack.pop()\n",
    "        if len(stack)!=0:\n",
    "            out_arr.append(stack[-1])    \n",
    "        else:\n",
    "            out_arr.append(-1)\n",
    "        stack.append(inp_arr[i])\n",
    "print(out_arr[::-1])"
   ]
  },
  {
   "cell_type": "code",
   "execution_count": null,
   "metadata": {},
   "outputs": [],
   "source": []
  }
 ],
 "metadata": {
  "kernelspec": {
   "display_name": "Python 3",
   "language": "python",
   "name": "python3"
  },
  "language_info": {
   "codemirror_mode": {
    "name": "ipython",
    "version": 3
   },
   "file_extension": ".py",
   "mimetype": "text/x-python",
   "name": "python",
   "nbconvert_exporter": "python",
   "pygments_lexer": "ipython3",
   "version": "3.7.3"
  }
 },
 "nbformat": 4,
 "nbformat_minor": 2
}
