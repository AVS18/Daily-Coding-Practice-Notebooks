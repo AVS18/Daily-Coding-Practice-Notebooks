{
 "cells": [
  {
   "cell_type": "markdown",
   "metadata": {},
   "source": [
    "# Question 1\n",
    "\n",
    "Given an array of numbers a0,a1,a2,... where 0<=a[i]<=2^31. Find the maximum result of ai XOR aj where 0<=i,j<=n. <br>\n",
    "\n",
    "Input: [3,10,5,25,2,8]<br>\n",
    "Output: 28<br>\n",
    "Explanation: The maximum result is 5 xor 25 = 28."
   ]
  },
  {
   "cell_type": "code",
   "execution_count": 3,
   "metadata": {},
   "outputs": [
    {
     "name": "stdout",
     "output_type": "stream",
     "text": [
      "3 10 5 25 2 8 \n",
      "28\n"
     ]
    }
   ],
   "source": [
    "from itertools import combinations\n",
    "arr=list(map(int,input().split()))\n",
    "xor_val=arr[0]^arr[1]\n",
    "for i,j in combinations(list(range(0,len(arr))),2):\n",
    "    val=arr[i]^arr[j]\n",
    "    if xor_val<=val:\n",
    "        xor_val=val\n",
    "print(xor_val)"
   ]
  },
  {
   "cell_type": "markdown",
   "metadata": {},
   "source": [
    "# Question 2\n",
    "\n",
    "Given an array of numns coontaining n+1 integers where each integer is in between 1 and n(inclusive). Prove that atleast one duplicate number exist. Assume that there is only one duplicate number. Find it.<br>\n",
    "\n",
    "Input: [1,3,4,2,2]<br>\n",
    "Output: 2<br>\n",
    "Input: [3,1,3,4,2]<br>\n",
    "Output: 3<br>"
   ]
  },
  {
   "cell_type": "code",
   "execution_count": 17,
   "metadata": {},
   "outputs": [
    {
     "name": "stdout",
     "output_type": "stream",
     "text": [
      "2 1 8 6 5 4 2 4\n",
      "Duplicate Exist\n",
      "6\n"
     ]
    }
   ],
   "source": [
    "arr=list(map(int,input().split()))\n",
    "n=len(arr)-1\n",
    "val=len(arr)-len(set(arr))\n",
    "if val>0:\n",
    "    print(\"Duplicate Exist\")\n",
    "    print(sum(arr)-sum(set(arr)))\n",
    "else:\n",
    "    print(\"No Duplicates\")"
   ]
  },
  {
   "cell_type": "markdown",
   "metadata": {},
   "source": [
    "# Question 3\n",
    "\n",
    "Given an array containing n distinct numbers from 0...n, find the missing number from that array.<br>\n",
    "\n",
    "Input: [3,0,1]<br>\n",
    "Output: 2<br>\n",
    "Input: [9,6,4,2,3,5,7,0,1]<br>\n",
    "Output: 8<br>"
   ]
  },
  {
   "cell_type": "code",
   "execution_count": 19,
   "metadata": {},
   "outputs": [
    {
     "name": "stdout",
     "output_type": "stream",
     "text": [
      "9 6 4 2 3 5 7 0 1\n",
      "8\n"
     ]
    }
   ],
   "source": [
    "arr=list(map(int,input().split()))\n",
    "n=len(arr)\n",
    "print((n*n+n)//2 - sum(arr))"
   ]
  },
  {
   "cell_type": "markdown",
   "metadata": {},
   "source": [
    "# General Concept \n",
    "\n",
    "**round and title methods in python"
   ]
  },
  {
   "cell_type": "code",
   "execution_count": 20,
   "metadata": {},
   "outputs": [
    {
     "data": {
      "text/plain": [
       "5"
      ]
     },
     "execution_count": 20,
     "metadata": {},
     "output_type": "execute_result"
    }
   ],
   "source": [
    "round(5.33)"
   ]
  },
  {
   "cell_type": "code",
   "execution_count": 21,
   "metadata": {},
   "outputs": [
    {
     "data": {
      "text/plain": [
       "6"
      ]
     },
     "execution_count": 21,
     "metadata": {},
     "output_type": "execute_result"
    }
   ],
   "source": [
    "round(5.95)"
   ]
  },
  {
   "cell_type": "code",
   "execution_count": 22,
   "metadata": {},
   "outputs": [
    {
     "data": {
      "text/plain": [
       "'This Is A String'"
      ]
     },
     "execution_count": 22,
     "metadata": {},
     "output_type": "execute_result"
    }
   ],
   "source": [
    "'this is a string'.title()"
   ]
  },
  {
   "cell_type": "code",
   "execution_count": 23,
   "metadata": {},
   "outputs": [
    {
     "data": {
      "text/plain": [
       "'This is a stirng'"
      ]
     },
     "execution_count": 23,
     "metadata": {},
     "output_type": "execute_result"
    }
   ],
   "source": [
    "'this is a stirng'.capitalize()"
   ]
  },
  {
   "cell_type": "code",
   "execution_count": null,
   "metadata": {},
   "outputs": [],
   "source": []
  }
 ],
 "metadata": {
  "kernelspec": {
   "display_name": "Python 3",
   "language": "python",
   "name": "python3"
  },
  "language_info": {
   "codemirror_mode": {
    "name": "ipython",
    "version": 3
   },
   "file_extension": ".py",
   "mimetype": "text/x-python",
   "name": "python",
   "nbconvert_exporter": "python",
   "pygments_lexer": "ipython3",
   "version": "3.7.3"
  }
 },
 "nbformat": 4,
 "nbformat_minor": 2
}
