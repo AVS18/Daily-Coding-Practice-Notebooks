{
 "cells": [
  {
   "cell_type": "markdown",
   "metadata": {},
   "source": [
    "# Question1\n",
    "\n",
    "Given an array of anagrams in a list group anangrams together.<br>\n",
    "Input: [tan, bat, eat,ate,tea,nat]<br>\n",
    "Output:<br>\n",
    "[[tan,nat],<br>\n",
    "[eat,ate,tea],<br>\n",
    "[bat,]<br>\n",
    "]<br>"
   ]
  },
  {
   "cell_type": "code",
   "execution_count": 10,
   "metadata": {},
   "outputs": [
    {
     "name": "stdout",
     "output_type": "stream",
     "text": [
      "united untied god dog flow wolf cheater teacher break baker  rebuild builder  treason senator  thicken kitchen\n",
      "[['united', 'untied'], ['god', 'dog'], ['flow', 'wolf'], ['cheater', 'teacher'], ['break', 'baker'], ['rebuild', 'builder'], ['treason', 'senator'], ['thicken', 'kitchen']]\n"
     ]
    }
   ],
   "source": [
    "import copy\n",
    "arr=input().split()\n",
    "d={}\n",
    "for i in range(0,len(arr)):\n",
    "    original_val=arr[i]\n",
    "    li=list(arr[i])\n",
    "    li.sort()\n",
    "    val2=''.join(li)\n",
    "    if val2 not in d:\n",
    "        d[val2]=[original_val]\n",
    "    else:\n",
    "        d[val2].append(original_val)\n",
    "req_list=list(d.values())\n",
    "print(req_list)"
   ]
  },
  {
   "cell_type": "markdown",
   "metadata": {},
   "source": [
    "# Question 2\n",
    "\n",
    "Writing a program interview questions hasn't made me rich yet. So i might give up and start trading apple stocks all the day instead. First I need to know how much money I could have made yesterday if I'd been trading apple stocks all the day. <br>\n",
    "\n",
    "So I grabbed Apple's stock prices from yesterday and put that in a list. Each index of the list represents the opening time starting from 9:30. for eg; index 0 has the stock value at 9:30am, 1 has the stock value at 9:31am..., Write an efficient program so that I can get more profit by selling it.\n",
    "\n",
    "Conditions:\n",
    "\n",
    "1. I can't leave the stock if I buy it. I should sell that. \n",
    "2. I can't buy and sell at the same time\n",
    "3. you need to buy before you sell.\n",
    "\n",
    "Sample - Input:10,7,5,8,11,9<br>\n",
    "Output  - 6<br>\n",
    "Explanation - I can buy at stock price at 5 and sell that for 11.<br>\n"
   ]
  },
  {
   "cell_type": "code",
   "execution_count": null,
   "metadata": {},
   "outputs": [],
   "source": [
    "arr=list(map(int,input().split()))\n",
    "profit_price=[]\n",
    "for i in range(0,len(arr)-1):\n",
    "    max_selling_price=max(arr[i+1:])\n",
    "    if arr[i]<max_selling_price:\n",
    "        profit_price.append(max_selling_price-arr[i])\n",
    "    else:\n",
    "        continue\n",
    "print(max(profit_price))"
   ]
  },
  {
   "cell_type": "markdown",
   "metadata": {},
   "source": [
    "# Question 3\n",
    "You have been given an integer array A and a number K. Now, you need to find out whether any two different elements of the array A sum to the number K. Two elements are considered to be different if they lie at different positions in the array. \n",
    "If there exists such a pair of numbers, print \"YES\" (without quotes), else print \"NO\" without quotes.<br>\n",
    "\n",
    "Input Format:<br>\n",
    "\n",
    "The first line consists of two integers N, denoting the size of array A and K. The next line consists of N space separated integers denoting the elements of the array A.<br>\n",
    "\n",
    "Output Format:<br>\n",
    "\n",
    "Print the required answer on a single line.<br>\n",
    "\n",
    "Constraints:<br>\n",
    "\n",
    "1<=N<=10^6<br>\n",
    "1<=k<=2*10^6<br>\n",
    "1<=a[i]<=10^6<br>"
   ]
  },
  {
   "cell_type": "code",
   "execution_count": 16,
   "metadata": {},
   "outputs": [
    {
     "name": "stdout",
     "output_type": "stream",
     "text": [
      "10 20\n",
      "5 4 15 78 15 6 48 368 8 12\n",
      "YES\n"
     ]
    }
   ],
   "source": [
    "from itertools import combinations\n",
    "n,k=list(map(int,input().split()))\n",
    "arr=list(map(int,input().split()))\n",
    "l=0\n",
    "for a,b in combinations(arr,2):\n",
    "    if a+b==k:\n",
    "        print(\"YES\")\n",
    "        l=1\n",
    "        break\n",
    "if l==0:\n",
    "    print(\"NO\")"
   ]
  },
  {
   "cell_type": "markdown",
   "metadata": {},
   "source": [
    "# Question 4\n",
    "\n",
    "Given an array,A , having N integers A1,A2,A3... .Two elements of the array and are called similar iff Ai=Aj+1 or Aj=Ai+1 . Also, the similarity follows transitivity. If Ai and Aj are similar and Aj and Ak are similar, then Ai and Ak are also similar. Note:i,j,k and are all distinct.<br>\n",
    "\n",
    "You need to find the number of pairs of indices(i,j) such that i< j and Ai is similar to aj .<br>\n",
    "\n",
    "Input and Output Constraints:<br>Input:<br>\n",
    "The first line contains a single integer N denoting the number of elements in the array. The second line contains N space-separated integers where ith elements indicate Ai.<br>\n",
    "Output:<br>\n",
    "Output the number of pairs of indices (i,j) such that i < j and Ai is similar to Aj in a single line.<br>\n",
    "\n",
    "SAMPLE INPUT <br>\n",
    "8<br>\n",
    "1 3 5 7 8 2 5 7<br>\n",
    "SAMPLE OUTPUT <br>\n",
    "6<br>"
   ]
  },
  {
   "cell_type": "code",
   "execution_count": 6,
   "metadata": {},
   "outputs": [
    {
     "name": "stdout",
     "output_type": "stream",
     "text": [
      "8\n",
      "1 3 5 7 8 2 5 7\n",
      "[(0, 5), (1, 5), (3, 4), (4, 7), (3, 7)]\n"
     ]
    }
   ],
   "source": [
    "#rough solution as question needs some clarification.\n",
    "#I didn't get how 6 is obtained.\n",
    "from itertools import combinations\n",
    "def check_transtivity(li):\n",
    "    for i in range(0,len(li)-1):\n",
    "        for j in range(i+1,len(li)):\n",
    "            if li[i][1]==li[j][0]:\n",
    "                li.append((li[i][0],li[j][1]))\n",
    "    return li\n",
    "n=int(input())\n",
    "arr=list(map(int,input().split()))\n",
    "indexes=[i for i in range(0,len(arr))]\n",
    "li=[]\n",
    "for i,j in combinations(indexes,2):\n",
    "    if arr[i]==arr[j]+1 or arr[j]==arr[i]+1:\n",
    "        li.append((i,j))\n",
    "li=check_transtivity(li)\n",
    "print(li)"
   ]
  },
  {
   "cell_type": "code",
   "execution_count": null,
   "metadata": {},
   "outputs": [],
   "source": []
  }
 ],
 "metadata": {
  "kernelspec": {
   "display_name": "Python 3",
   "language": "python",
   "name": "python3"
  },
  "language_info": {
   "codemirror_mode": {
    "name": "ipython",
    "version": 3
   },
   "file_extension": ".py",
   "mimetype": "text/x-python",
   "name": "python",
   "nbconvert_exporter": "python",
   "pygments_lexer": "ipython3",
   "version": "3.7.3"
  }
 },
 "nbformat": 4,
 "nbformat_minor": 2
}
