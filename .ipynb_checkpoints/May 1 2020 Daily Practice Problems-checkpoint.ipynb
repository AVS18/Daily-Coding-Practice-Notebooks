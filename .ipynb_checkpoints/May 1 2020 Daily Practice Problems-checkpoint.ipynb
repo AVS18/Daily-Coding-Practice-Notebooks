{
 "cells": [
  {
   "cell_type": "markdown",
   "metadata": {},
   "source": [
    "# Question 1:\n",
    "\n",
    "Given a string determine whether it is a palindrome, considering only alpha numeric characters and ignoring other cases. Note: Empty strings are valid palindromes<br>\n",
    "Input: \"A man, a plan, a canal: Panama\"<br>\n",
    "Output: true<br>\n",
    "Input: \"race a car\"<br>\n",
    "Output: false<br>"
   ]
  },
  {
   "cell_type": "code",
   "execution_count": 12,
   "metadata": {},
   "outputs": [
    {
     "name": "stdout",
     "output_type": "stream",
     "text": [
      "race a car\n",
      "false\n"
     ]
    }
   ],
   "source": [
    "import re\n",
    "string=input()\n",
    "string=re.split(\"[^a-zA-Z]\",string)\n",
    "string=[item.lower() for item in string]\n",
    "string=''.join(string)\n",
    "if string==string[::-1]:\n",
    "    print(\"true\")\n",
    "else:\n",
    "    print(\"false\")"
   ]
  },
  {
   "cell_type": "markdown",
   "metadata": {},
   "source": [
    "# Question 2\n",
    "\n",
    "Given a 32bit integer, reverse a digit of that integer.<br>\n",
    "Input: 321<br>\n",
    "Output: 123<br>\n",
    "Input: -321<br>\n",
    "Output: -123<br>\n",
    "Input: 120<br>\n",
    "Output: 21<br>"
   ]
  },
  {
   "cell_type": "code",
   "execution_count": 20,
   "metadata": {},
   "outputs": [
    {
     "name": "stdout",
     "output_type": "stream",
     "text": [
      "365\n",
      "563\n"
     ]
    }
   ],
   "source": [
    "#One Solution\n",
    "num=int(input())\n",
    "if num<0:\n",
    "    neg_num=True\n",
    "    num*=-1\n",
    "else:\n",
    "    neg_num=False\n",
    "req_num=0\n",
    "while num>0:\n",
    "    req_num=req_num*10+num%10\n",
    "    num//=10\n",
    "if neg_num:\n",
    "    req_num*=-1\n",
    "print(req_num)"
   ]
  },
  {
   "cell_type": "code",
   "execution_count": 28,
   "metadata": {},
   "outputs": [
    {
     "name": "stdout",
     "output_type": "stream",
     "text": [
      "-365\n",
      "-563\n"
     ]
    }
   ],
   "source": [
    "#Solution2\n",
    "num=input()\n",
    "li=list(num)\n",
    "if li[0]=='-':\n",
    "    neg_num=True\n",
    "    del li[0]\n",
    "else:\n",
    "    neg_num=False\n",
    "li=li[::-1]\n",
    "val=''.join(li)\n",
    "if neg_num:\n",
    "    val='-'+val\n",
    "print(int(val))"
   ]
  },
  {
   "cell_type": "code",
   "execution_count": null,
   "metadata": {},
   "outputs": [],
   "source": []
  }
 ],
 "metadata": {
  "kernelspec": {
   "display_name": "Python 3",
   "language": "python",
   "name": "python3"
  },
  "language_info": {
   "codemirror_mode": {
    "name": "ipython",
    "version": 3
   },
   "file_extension": ".py",
   "mimetype": "text/x-python",
   "name": "python",
   "nbconvert_exporter": "python",
   "pygments_lexer": "ipython3",
   "version": "3.7.3"
  }
 },
 "nbformat": 4,
 "nbformat_minor": 2
}
