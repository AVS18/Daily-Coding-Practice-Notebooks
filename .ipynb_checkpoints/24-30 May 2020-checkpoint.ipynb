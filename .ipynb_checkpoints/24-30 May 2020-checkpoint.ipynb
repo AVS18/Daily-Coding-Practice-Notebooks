{
 "cells": [
  {
   "cell_type": "markdown",
   "metadata": {},
   "source": [
    "# Question\n",
    "\n",
    "Given scores of N athelets, find their relative ranks and the people with the top three high scores who will be awarded medals. \"Gold Medal\", \"Silver Medal\" and \"Bronze Medal\"<br>\n",
    "\n",
    "Input: [5,4,3,2,1]<br>\n",
    "Output: [\"Gold Medal\",\"Silver Medal\",\"Bronze Medal\",4,5]<br>\n",
    "Explanation: 4 and 5 are relative ranks"
   ]
  },
  {
   "cell_type": "code",
   "execution_count": 4,
   "metadata": {},
   "outputs": [
    {
     "name": "stdout",
     "output_type": "stream",
     "text": [
      "5 6 8 1 6\n",
      "['Gold Medal', 'Silver Medal', 'Bronze Medal', 4, 5]\n"
     ]
    }
   ],
   "source": [
    "import copy\n",
    "scores=list(map(int,input().split()))\n",
    "scores.sort(reverse=True)\n",
    "li=[]\n",
    "if len(scores)>3:\n",
    "    li.extend(['Gold Medal','Silver Medal','Bronze Medal'])\n",
    "    for i in range(4,len(scores)+1):\n",
    "        li.append(i)\n",
    "print(li)"
   ]
  },
  {
   "cell_type": "markdown",
   "metadata": {},
   "source": [
    "# Question\n",
    "\n",
    "Given an integer, return its base 7 string representation.\n",
    "\n",
    "Input:100<br>\n",
    "Output:\"202\"\n",
    "\n",
    "Input: -7<br>\n",
    "Output: \"-10\""
   ]
  },
  {
   "cell_type": "markdown",
   "metadata": {},
   "source": [
    "inp=int(input())\n",
    "val,l='',0\n",
    "if inp<0:\n",
    "    l=1\n",
    "    inp*=-1\n",
    "while inp>=7:\n",
    "    k=inp%7\n",
    "    val+=str(k)\n",
    "    inp//=7\n",
    "val+=str(inp)\n",
    "if l==0:\n",
    "    print(val[::-1])\n",
    "else:\n",
    "    print('-'+val[::-1])"
   ]
  },
  {
   "cell_type": "markdown",
   "metadata": {},
   "source": [
    "# Question\n",
    "\n",
    "Write a function to generate the generalized abbrevations of a word. \n",
    "\n",
    "Input: \"word\"\n",
    "\n",
    "Output: ['word','1ord','w1rd','wo1d','wor1','2rd','w2d','wo2','3d','w3','4','1o1d','1ord','w1r1','1o2','2r1']"
   ]
  },
  {
   "cell_type": "code",
   "execution_count": 23,
   "metadata": {},
   "outputs": [
    {
     "name": "stdout",
     "output_type": "stream",
     "text": [
      "word\n"
     ]
    }
   ],
   "source": [
    "word=input()\n"
   ]
  },
  {
   "cell_type": "markdown",
   "metadata": {},
   "source": [
    "# Question\n",
    "\n",
    "Given an array of size n containing 0 and 1. Find the number of subarrays that have equal number of 0s and 1s.\n",
    "\n",
    "Input: 7\n",
    "\n",
    "1 0 0 1 0 1 1\n",
    "\n",
    "Output: 8"
   ]
  },
  {
   "cell_type": "code",
   "execution_count": 2,
   "metadata": {},
   "outputs": [
    {
     "name": "stdout",
     "output_type": "stream",
     "text": [
      "1 0 0 1 0 1 1\n",
      "8\n"
     ]
    }
   ],
   "source": [
    "# general approach\n",
    "\n",
    "from itertools import combinations\n",
    "from collections import Counter\n",
    "\n",
    "arr=list(map(int,input().split()))\n",
    "count=0\n",
    "for i,j in combinations(list(range(0,len(arr)+1)),2):\n",
    "    if arr[i:j].count(0)==arr[i:j].count(1):\n",
    "        count+=1\n",
    "print(count)"
   ]
  },
  {
   "cell_type": "markdown",
   "metadata": {},
   "source": [
    "# Question\n",
    "\n",
    "Given a string, check whether it is a panagram or not. A panagram is a sentence containing every letter in english alphabets.\n",
    "\n",
    "Input: 1\n",
    "\n",
    "A quick brown fox jumps over a lazy dog which was fallen asleep by that time.\n",
    "\n",
    "Output: panagram"
   ]
  },
  {
   "cell_type": "code",
   "execution_count": 13,
   "metadata": {},
   "outputs": [
    {
     "name": "stdout",
     "output_type": "stream",
     "text": [
      "1\n",
      "Bawds jog, flick quartz, vex nymph\n",
      "panagram\n"
     ]
    }
   ],
   "source": [
    "import re\n",
    "t=int(input())\n",
    "for i in range(0,t):\n",
    "    string=input()\n",
    "    string=''.join(string.split())\n",
    "    vals=re.findall('[^a-zA-Z]',string)\n",
    "    for item in vals:\n",
    "        string=''.join(string.split(item))\n",
    "    string=string.lower()\n",
    "    if len(set(string))==26:\n",
    "        print('panagram')\n",
    "    else:\n",
    "        print('not a panagram')"
   ]
  },
  {
   "cell_type": "markdown",
   "metadata": {},
   "source": [
    "# Question\n",
    "\n",
    "Extended Eucliedan Algorithm.\n",
    "\n",
    "Given a and b find one of the solution for the equation ax+by=gcd(a,b). Print gcd x and y.\n",
    "\n",
    "Input: 35 15\n",
    "\n",
    "Output: 5 1 -2"
   ]
  },
  {
   "cell_type": "code",
   "execution_count": 24,
   "metadata": {},
   "outputs": [
    {
     "name": "stdout",
     "output_type": "stream",
     "text": [
      "35 15\n",
      "gcd 5\n",
      "1 3\n"
     ]
    }
   ],
   "source": []
  },
  {
   "cell_type": "code",
   "execution_count": null,
   "metadata": {},
   "outputs": [],
   "source": []
  }
 ],
 "metadata": {
  "kernelspec": {
   "display_name": "Python 3",
   "language": "python",
   "name": "python3"
  },
  "language_info": {
   "codemirror_mode": {
    "name": "ipython",
    "version": 3
   },
   "file_extension": ".py",
   "mimetype": "text/x-python",
   "name": "python",
   "nbconvert_exporter": "python",
   "pygments_lexer": "ipython3",
   "version": "3.7.3"
  }
 },
 "nbformat": 4,
 "nbformat_minor": 2
}
