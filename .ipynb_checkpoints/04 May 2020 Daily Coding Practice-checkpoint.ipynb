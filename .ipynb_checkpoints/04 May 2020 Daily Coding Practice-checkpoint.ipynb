{
 "cells": [
  {
   "cell_type": "markdown",
   "metadata": {},
   "source": [
    "# Question 1\n",
    "\n",
    "Given an non-empty array of intgers. Find the k most frequent elements.<br>\n",
    "Input: nums=[1,1,1,2,2,3], k=2<br>\n",
    "Output: [1,2]<br>\n",
    "Input: nums=[1], k=1<br>\n",
    "Output: [1]<br>\n",
    "\n",
    "Note: 1<=k<=number of unique elements. Algorithms time complexity must be better than O(nlogn)<br>"
   ]
  },
  {
   "cell_type": "code",
   "execution_count": 2,
   "metadata": {},
   "outputs": [
    {
     "name": "stdout",
     "output_type": "stream",
     "text": [
      "1 1 1  1 2 2 2 2 3  4 5 6 7 8 1 0 2 5 4 1 5 8 2 4\n",
      "4\n",
      "8 2\n",
      "7 1\n",
      "6 1\n",
      "5 3\n",
      "4 3\n",
      "3 1\n",
      "2 6\n",
      "1 6\n",
      "0 1\n",
      "[2, 1]\n"
     ]
    }
   ],
   "source": [
    "from collections import Counter\n",
    "def get_arr(gfg,k):\n",
    "    req_keys=[]\n",
    "    for key,value in gfg.items():\n",
    "        print(key,value)\n",
    "        if value==k:\n",
    "            req_keys.append(key)\n",
    "    return req_keys\n",
    "nums=list(map(int,input().split()))\n",
    "k=int(input())\n",
    "gfg=dict(Counter(nums))\n",
    "print(get_arr(gfg,k))"
   ]
  },
  {
   "cell_type": "markdown",
   "metadata": {},
   "source": [
    "# Question 2\n",
    "\n",
    "Given an array of n integers and an integer target. Find three integers in nums such that the sum is closest to the target. Return the sum of the three integers. Each input has exactly one solution.<br>\n",
    "\n",
    "Input: [-1,2,1,-4], target=1<br>\n",
    "\n",
    "Output: The sum that is closest to the target 1 is 2. [-1,1,2].<br>\n",
    "\n",
    "Try with input -1,2,1,4 and target=0<br> #why base conditions are used?<br>"
   ]
  },
  {
   "cell_type": "code",
   "execution_count": 10,
   "metadata": {},
   "outputs": [
    {
     "name": "stdout",
     "output_type": "stream",
     "text": [
      "-1 1 2 4 5 6 -7 -8 -9\n",
      "3\n",
      "3\n"
     ]
    }
   ],
   "source": [
    "#our solution can be either less than the target or greator than target but min to target\n",
    "from itertools import combinations\n",
    "nums=list(map(int,input().split()))\n",
    "target=int(input())\n",
    "li=[]\n",
    "for x,y,z in combinations(nums,3):\n",
    "    li.append(x+y+z)\n",
    "#greator than target\n",
    "li1=[i for i in li if i>=target]\n",
    "li1.sort()\n",
    "#less than target\n",
    "li2=[i for i in li if i<=target]\n",
    "li2.sort()\n",
    "if len(li1)==0:\n",
    "    print(li2[0])\n",
    "if len(li2)==0:\n",
    "    print(li1[0])\n",
    "if len(li1)!=0 and len(li2)!=0:\n",
    "    if abs(li1[0]-target)<abs(li2[0]-target):\n",
    "        print(li1[0])\n",
    "    else:\n",
    "        print(li2[0])"
   ]
  },
  {
   "cell_type": "code",
   "execution_count": null,
   "metadata": {},
   "outputs": [],
   "source": []
  }
 ],
 "metadata": {
  "kernelspec": {
   "display_name": "Python 3",
   "language": "python",
   "name": "python3"
  },
  "language_info": {
   "codemirror_mode": {
    "name": "ipython",
    "version": 3
   },
   "file_extension": ".py",
   "mimetype": "text/x-python",
   "name": "python",
   "nbconvert_exporter": "python",
   "pygments_lexer": "ipython3",
   "version": "3.7.3"
  }
 },
 "nbformat": 4,
 "nbformat_minor": 2
}
