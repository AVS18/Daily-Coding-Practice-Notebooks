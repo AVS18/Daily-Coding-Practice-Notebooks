{
 "cells": [
  {
   "cell_type": "markdown",
   "metadata": {},
   "source": [
    "# Question\n",
    "\n",
    "You have a set if tiles, where each tile has one letter tiles[i] printed on it. Return the number of possible non empty sequences of letters you can make.\n",
    "\n",
    "Input: \"AAB\"<br>\n",
    "Output: 8<br>\n",
    "Input: \"AAABBC\"<br>\n",
    "Output: 188<br>"
   ]
  },
  {
   "cell_type": "code",
   "execution_count": 10,
   "metadata": {},
   "outputs": [
    {
     "name": "stdout",
     "output_type": "stream",
     "text": [
      "aaabbc\n",
      "188\n"
     ]
    }
   ],
   "source": [
    "#backtracking method\n",
    "from itertools import permutations\n",
    "input_str=input()\n",
    "ans=[]\n",
    "for i in range(1,len(input_str)+1):\n",
    "    for item in permutations(input_str,i):\n",
    "        ans.append(\"\".join(item))\n",
    "ans=set(ans)\n",
    "print(len(ans))"
   ]
  },
  {
   "cell_type": "code",
   "execution_count": 25,
   "metadata": {},
   "outputs": [
    {
     "name": "stdout",
     "output_type": "stream",
     "text": [
      "aab\n",
      "ba\n",
      "baa\n",
      "aa\n",
      "a\n",
      "aba\n",
      "ab\n",
      "b\n",
      "aab\n",
      "8\n"
     ]
    }
   ],
   "source": [
    "#one more backtrack method\n",
    "from itertools import chain,permutations\n",
    "string=input()\n",
    "li=list(set(chain.from_iterable(permutations(string,i) for i in range(1,len(string)+1))))\n",
    "print(len(li))"
   ]
  },
  {
   "cell_type": "markdown",
   "metadata": {},
   "source": [
    "# Question\n",
    "\n",
    "Given a sorted array of integers nums and integer values from a,b,c. Apply the quadratic function of the form f(x)=a*x^2+b*x+c to each element in the array. The returned array must be in sorted order. Time complexity: O(n).<br>\n",
    "\n",
    "Input: nums=[-4,-2,2,4], a=1,b=3,c=5<br>\n",
    "Output: [3,9,15,33]<br>\n",
    "Input: nums=[-4,-2,2,4], a=-1,b=3,c=5<br>\n",
    "Output: [-23,-5,1,7]<br>"
   ]
  },
  {
   "cell_type": "code",
   "execution_count": 29,
   "metadata": {},
   "outputs": [
    {
     "name": "stdout",
     "output_type": "stream",
     "text": [
      "-4 -2 2 4\n",
      "-1 3 5\n",
      "[-23, -5, 1, 7]\n"
     ]
    }
   ],
   "source": [
    "def fun(x):\n",
    "    global a,b,c\n",
    "    return a*(x**2)+b*x+c\n",
    "nums=list(map(int,input().split()))\n",
    "a,b,c=list(map(int,input().split()))\n",
    "values=list(map(fun,nums))\n",
    "values.sort()\n",
    "print(values)"
   ]
  },
  {
   "cell_type": "markdown",
   "metadata": {},
   "source": [
    "# Question\n",
    "\n",
    "Alice has a hand of cards, given as array of integers. Now she wants to arrange the cards into groups so that each group of size W and consists of W consecutive cards. Return true if we can split that.<br>\n",
    "\n",
    "hand=[1,2,3,6,2,3,4,7,8]<br>\n",
    "w=3<br>\n",
    "Output: true <br>\n",
    "Explanation: [1,2,3],[2,3,4],[6,7,8]<br>"
   ]
  },
  {
   "cell_type": "code",
   "execution_count": 53,
   "metadata": {},
   "outputs": [
    {
     "name": "stdout",
     "output_type": "stream",
     "text": [
      "1 2 3 6 2 3 4 7 8\n",
      "3\n",
      "true\n",
      "[[1, 2, 3], [2, 3, 4], [6, 7, 8]]\n"
     ]
    }
   ],
   "source": [
    "from collections import Counter\n",
    "hand=list(map(int,input().split()))\n",
    "w=int(input())\n",
    "if len(hand)%w!=0:\n",
    "    print(False)\n",
    "else:\n",
    "    ans=[]\n",
    "    hand.sort()\n",
    "    count=0\n",
    "    make=True\n",
    "    while count!=w:\n",
    "        set_li=list(set(hand))\n",
    "        set_li.sort()\n",
    "        my_li=[set_li[0]]\n",
    "        hand.remove(set_li[0])\n",
    "        for i in range(1,w):\n",
    "            if set_li[i]-my_li[-1]==1:\n",
    "                my_li.append(set_li[i])\n",
    "                hand.remove(set_li[i])\n",
    "            else:\n",
    "                make=False\n",
    "        ans.append(my_li)\n",
    "        count+=1\n",
    "    if make==True:\n",
    "        print('true')\n",
    "        print(ans)\n",
    "    else:\n",
    "        print('false')"
   ]
  },
  {
   "cell_type": "markdown",
   "metadata": {},
   "source": [
    "# Question\n",
    "\n",
    "Given an array of integers, find out whether there are two distinct indices i and j in the array such that the absolute difference between nums[i] and nums[j] is atmost t and the absolute difference between i and j is atmost k.<br>\n",
    "\n",
    "Input: nums=[1,2,3,1] , k = 3, t = 0<br>\n",
    "Output: true<br>\n",
    "Input: nums=[1,0,1,1] , k = 1, t = 2<br>\n",
    "Output: true<br>\n",
    "Input: nums=[1,5,9,1,5,9] , k = 2, t = 3<br>\n",
    "Output: false<br>"
   ]
  },
  {
   "cell_type": "code",
   "execution_count": 66,
   "metadata": {},
   "outputs": [
    {
     "name": "stdout",
     "output_type": "stream",
     "text": [
      "1 0 1 1\n",
      "1 2\n",
      "true\n",
      "i , j , nums[i], nums[j]\n",
      "[0, 1, 1, 0]\n",
      "[1, 2, 0, 1]\n",
      "[2, 3, 1, 1]\n"
     ]
    }
   ],
   "source": [
    "from itertools import combinations\n",
    "nums=list(map(int,input().split()))\n",
    "k,t=list(map(int,input().split()))\n",
    "ans=[]\n",
    "for i,j in combinations(list(range(0,len(nums))),2):\n",
    "    if abs(nums[i]-nums[j])<=t and abs(i-j)<=k:\n",
    "        ans.append([i,j,nums[i],nums[j]])\n",
    "if len(ans)>0:\n",
    "    print(\"true\")\n",
    "    print('i , j , nums[i], nums[j]')\n",
    "    for item in ans:\n",
    "        print(item)\n",
    "else:\n",
    "    print(\"false\")"
   ]
  },
  {
   "cell_type": "markdown",
   "metadata": {},
   "source": [
    "# Question\n",
    "\n",
    "Write a program to print the following pattern of the number given<br>\n",
    "Input: 5<br>\n",
    "Output:<br> \n",
    "        13579<br>\n",
    "        35791<br>\n",
    "        57913<br>\n",
    "        79135<br>\n",
    "        91357<br>"
   ]
  },
  {
   "cell_type": "code",
   "execution_count": 70,
   "metadata": {},
   "outputs": [
    {
     "name": "stdout",
     "output_type": "stream",
     "text": [
      "10\n",
      "135791113151719\n",
      "357911131517191\n",
      "579111315171913\n",
      "791113151719135\n",
      "911131517191357\n",
      "111315171913579\n",
      "131517191357911\n",
      "151719135791113\n",
      "171913579111315\n",
      "191357911131517\n"
     ]
    }
   ],
   "source": [
    "num=int(input())\n",
    "li=[str(i) for i in range(1,num*2,2)]\n",
    "for i in range(0,len(li)):\n",
    "    print(''.join(li))\n",
    "    li=li[1:]+[li[0]]"
   ]
  },
  {
   "cell_type": "markdown",
   "metadata": {},
   "source": [
    "# Question\n",
    "\n",
    "Write a program to print triangle of user defined integer sum<br>\n",
    "\n",
    "Input: 5<br>\n",
    "\n",
    "Output:<br>\n",
    "         1=1<br>\n",
    "         1+2=3<br>\n",
    "         1+2+3=6<br>\n",
    "         1+2+3+4=10<br>\n",
    "         1+2+3+4+5=15<br>"
   ]
  },
  {
   "cell_type": "code",
   "execution_count": 73,
   "metadata": {},
   "outputs": [
    {
     "name": "stdout",
     "output_type": "stream",
     "text": [
      "5\n",
      "1=1\n",
      "1+2=3\n",
      "1+2+3=6\n",
      "1+2+3+4=10\n",
      "1+2+3+4+5=15\n"
     ]
    }
   ],
   "source": [
    "num=int(input())\n",
    "li=[str(i) for i in range(1,num+1)]\n",
    "for i in range(1,num+1):\n",
    "    val='+'.join(li[:i])\n",
    "    print(val,'=',eval(val),sep='')"
   ]
  },
  {
   "cell_type": "code",
   "execution_count": null,
   "metadata": {},
   "outputs": [],
   "source": []
  }
 ],
 "metadata": {
  "kernelspec": {
   "display_name": "Python 3",
   "language": "python",
   "name": "python3"
  },
  "language_info": {
   "codemirror_mode": {
    "name": "ipython",
    "version": 3
   },
   "file_extension": ".py",
   "mimetype": "text/x-python",
   "name": "python",
   "nbconvert_exporter": "python",
   "pygments_lexer": "ipython3",
   "version": "3.7.3"
  }
 },
 "nbformat": 4,
 "nbformat_minor": 2
}
