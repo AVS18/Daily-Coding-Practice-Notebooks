{
 "cells": [
  {
   "cell_type": "markdown",
   "metadata": {},
   "source": [
    "# Question\n",
    "\n",
    "Given a sorted array, two integers k and x, find the k closest elements to x in the array. The result should be sorted in ascending order. If there is a tie, the smaller elements are always preferred. k will be less than or equal to number of elements<br>\n",
    "\n",
    "Input: [1,2,3,4,5], k=4, x=3<br>\n",
    "Output: [1,2,3,4]<br>\n",
    "\n",
    "Input: [1,2,3,4,5], k=4,x=-1<br>\n",
    "Output: [1,2,3,4]<br>"
   ]
  },
  {
   "cell_type": "code",
   "execution_count": 12,
   "metadata": {},
   "outputs": [
    {
     "name": "stdout",
     "output_type": "stream",
     "text": [
      "1 2 3 4 5\n",
      "4\n",
      "-1\n",
      "[1, 2, 3, 4]\n"
     ]
    }
   ],
   "source": [
    "#approximate answer as some of the constraints are not given clearly\n",
    "def answer(arr,a,b):\n",
    "    while True:\n",
    "            if a>=0:\n",
    "                ans.append(arr[a])\n",
    "                a=a-1\n",
    "                if len(ans)==k:\n",
    "                    ans.sort()\n",
    "                    print(ans)\n",
    "                    l=1\n",
    "                    break\n",
    "            if b<len(arr):\n",
    "                ans.append(arr[b])\n",
    "                b=b+1\n",
    "                if len(ans)==k:\n",
    "                    ans.sort()\n",
    "                    print(ans)\n",
    "                    l=1\n",
    "                    break\n",
    "arr=list(map(int,input().split()))\n",
    "k=int(input())\n",
    "x=int(input())\n",
    "ans=[]\n",
    "l=0\n",
    "if x in arr:\n",
    "    indx=arr.index(x)\n",
    "    ans.append(arr[indx])\n",
    "    if k<=1:\n",
    "        print(ans)\n",
    "    else:\n",
    "        a=indx-1\n",
    "        b=indx+1\n",
    "        answer(arr,a,b)\n",
    "else:\n",
    "    nearest_indx={i:arr[i]-x for i in range(0,len(arr))}\n",
    "    indx=0\n",
    "    for key,val in sorted(nearest_indx.items()):\n",
    "        indx=key\n",
    "        break\n",
    "    b=indx\n",
    "    a=indx-1\n",
    "    answer(arr,a,b)"
   ]
  },
  {
   "cell_type": "markdown",
   "metadata": {},
   "source": [
    "# Question\n",
    "\n",
    "Given a set of distinct positive integers, find the largest subset such that every pair (si,sj) of the elements in this subset satisfies s1%sj = 0 or sj%si =0. If there are multiple solutions, return any one subset it is fine.<br>\n",
    "\n",
    "Input: [1,2,3]<br>\n",
    "Output: [1,2]<br>\n",
    "Input: [1,2,4,8]<br>\n",
    "Output: [1,2,4,8]<br>"
   ]
  },
  {
   "cell_type": "code",
   "execution_count": 33,
   "metadata": {},
   "outputs": [
    {
     "name": "stdout",
     "output_type": "stream",
     "text": [
      "1 2 4 8\n",
      "[(1, 2, 4, 8)]\n"
     ]
    }
   ],
   "source": [
    "from itertools import combinations,permutations\n",
    "def generate_subset(arr):\n",
    "    '''\n",
    "    Generates the power set of arr except 0 and 1 sized\n",
    "    '''\n",
    "    k=0\n",
    "    sub_set=[]\n",
    "    for i in range(2,len(arr)+1):\n",
    "        for item in combinations(arr,i):\n",
    "            sub_set.append(item)\n",
    "    return sub_set\n",
    "inp_arr=list(map(int,input().split()))\n",
    "ans={}\n",
    "required_arr=generate_subset(inp_arr)\n",
    "for item in required_arr:\n",
    "    l=0\n",
    "    for si,sj in permutations(list(item),2):\n",
    "        if si%sj!=0 and sj%si!=0:\n",
    "            l=1\n",
    "            break\n",
    "    if l==0:\n",
    "        if len(item) in ans:\n",
    "            ans[len(item)].append(item)\n",
    "        else:\n",
    "            ans[len(item)]=[item]\n",
    "val_req=max(ans.keys())\n",
    "print(ans[val_req])"
   ]
  },
  {
   "cell_type": "code",
   "execution_count": null,
   "metadata": {},
   "outputs": [],
   "source": []
  }
 ],
 "metadata": {
  "kernelspec": {
   "display_name": "Python 3",
   "language": "python",
   "name": "python3"
  },
  "language_info": {
   "codemirror_mode": {
    "name": "ipython",
    "version": 3
   },
   "file_extension": ".py",
   "mimetype": "text/x-python",
   "name": "python",
   "nbconvert_exporter": "python",
   "pygments_lexer": "ipython3",
   "version": "3.7.3"
  }
 },
 "nbformat": 4,
 "nbformat_minor": 2
}
