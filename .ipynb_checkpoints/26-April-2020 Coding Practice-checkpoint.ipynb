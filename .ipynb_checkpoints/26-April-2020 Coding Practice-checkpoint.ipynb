{
 "cells": [
  {
   "cell_type": "markdown",
   "metadata": {},
   "source": [
    "# Question 1\n",
    "You are given a readonly array of n integers. Find out the array which occurs strictly more than n/3 elements in array in linear time and constant additional space. If so return else return -1. If multiple solutions are there return any one. <br>\n",
    "Input:1 2 3 1 1 <br>\n",
    "output: 1 <br>\n",
    "Explanation: 1 occurs three times which is more than 5/3 times <br>"
   ]
  },
  {
   "cell_type": "code",
   "execution_count": 10,
   "metadata": {},
   "outputs": [
    {
     "name": "stdout",
     "output_type": "stream",
     "text": [
      "1 2 3 1 1\n",
      "1\n"
     ]
    }
   ],
   "source": [
    "arr=list(map(int,input().split()))\n",
    "req_val=len(arr)/3\n",
    "l=0 # flag to determine whether any element is present or not\n",
    "for item in set(arr):\n",
    "    if arr.count(item)>req_val:\n",
    "        print(item)\n",
    "        l=1\n",
    "        break\n",
    "if l==0:\n",
    "    print(-1)"
   ]
  },
  {
   "cell_type": "markdown",
   "metadata": {},
   "source": [
    "Outputs:\n",
    "\n",
    "Input 1: 1 2 3 4 <br>\n",
    "Output: -1 <br>\n",
    "Input: 1 1 1 2 2 2 3 3 3 <br>\n",
    "Output: -1 (strictly greator than) <br>\n",
    "Input: 1 1 1 2 2 2 3 3 3 3 <br>\n",
    "Output: 3 <br>"
   ]
  },
  {
   "cell_type": "markdown",
   "metadata": {},
   "source": [
    "# Question 2\n",
    "\n",
    "Given an array of integers arr, write a function that returns True if and only if the number of occurances of each value in an array is unique. <br>\n",
    "\n",
    "Input: 1 2 2 1 1 3<br>\n",
    "Output: True <br>\n",
    "Explanation: 1 occured 3 times, 2 occured 2 times and 3 occured 1 time. Occurances are unique"
   ]
  },
  {
   "cell_type": "code",
   "execution_count": 18,
   "metadata": {},
   "outputs": [
    {
     "name": "stdout",
     "output_type": "stream",
     "text": [
      "-3 0 1 -3 1 1 1 -3 10 0\n",
      "True\n"
     ]
    }
   ],
   "source": [
    "from collections import Counter\n",
    "arr=list(map(int,input().split()))\n",
    "#Counter function returns a counter object of count of values in arr.\n",
    "#It is converted to dictnoary and d.values() returns all values in dictnoary\n",
    "count_dictnoary=list(dict(Counter(arr)).values())\n",
    "count_dictnoary_unique_values=list(set(count_dictnoary))\n",
    "#values are sorted as set will return values not in an order it which we sent.\n",
    "count_dictnoary.sort()\n",
    "count_dictnoary_unique_values.sort()\n",
    "if count_dictnoary == count_dictnoary_unique_values:\n",
    "    print(True)\n",
    "else:\n",
    "    print(False)"
   ]
  },
  {
   "cell_type": "markdown",
   "metadata": {},
   "source": [
    "Input: 1 1 2 3 3 3<br>\n",
    "Output: True<br>\n",
    "Input: 1 2 <br>\n",
    "Output: False<br>\n",
    "Input: -3 0 1 -3 1 1 1 -3 10 0<br>\n",
    "Output: True<br>"
   ]
  },
  {
   "cell_type": "markdown",
   "metadata": {},
   "source": [
    "# Question 3\n",
    "\n",
    "For some fixed N, an array a is beautiful if its permutations of the integers a..n, such that for i<j there is no k with i<k<j such that a[k]*2 = a[i]+a[j]. Given N return any beautiful array <br>\n",
    "\n",
    "Input: 4 <br>\n",
    "Output: [2,1,4,3] <br>\n",
    "\n",
    "Input: 5 <br>\n",
    "Output: [3,1,2,4,5] <br>"
   ]
  },
  {
   "cell_type": "code",
   "execution_count": 35,
   "metadata": {},
   "outputs": [
    {
     "name": "stdout",
     "output_type": "stream",
     "text": [
      "5\n",
      "All Items:\n",
      "(1, 5, 3, 2, 4)\n",
      "(1, 5, 3, 4, 2)\n",
      "(2, 1, 4, 5, 3)\n",
      "(2, 4, 1, 5, 3)\n",
      "(2, 4, 3, 1, 5)\n",
      "(2, 4, 3, 5, 1)\n",
      "(2, 4, 5, 1, 3)\n",
      "(3, 1, 2, 5, 4)\n",
      "(3, 1, 5, 2, 4)\n",
      "(3, 1, 5, 4, 2)\n",
      "(3, 5, 1, 2, 4)\n",
      "(3, 5, 1, 4, 2)\n",
      "(3, 5, 4, 1, 2)\n",
      "(4, 2, 1, 5, 3)\n",
      "(4, 2, 3, 1, 5)\n",
      "(4, 2, 3, 5, 1)\n",
      "(4, 2, 5, 1, 3)\n",
      "(4, 5, 2, 1, 3)\n",
      "(5, 1, 3, 2, 4)\n",
      "(5, 1, 3, 4, 2)\n"
     ]
    }
   ],
   "source": [
    "from itertools import permutations,combinations\n",
    "def check_array(arr):\n",
    "    #this will check if a[k]*2=a[i]+a[j] present then append 1 else 0 in final_ans\n",
    "    #the i,j values founded there are used to get the different possible subarrays\n",
    "    #if 1 is not there, our requirement is satisfied\n",
    "    final_ans=[]\n",
    "    for i,j in ij_values:\n",
    "        req_sum=arr[i]+arr[j]\n",
    "        l=0\n",
    "        for k in range(i+1,j):\n",
    "            if arr[k]*2==req_sum:\n",
    "                l=1\n",
    "                break\n",
    "        if l==1:\n",
    "            final_ans.append(1)\n",
    "        else:\n",
    "            final_ans.append(0)\n",
    "    return 1 in final_ans\n",
    "n=int(input())\n",
    "li=[i for i in range(1,n+1)]\n",
    "#i,j values are used for getting number of possible slices greator than 2\n",
    "ij_values=[]\n",
    "for item in list(combinations(li,2)):\n",
    "    if item[0]+1==item[1]:\n",
    "        continue\n",
    "    else:\n",
    "        ij_values.append((item[0]-1,item[1]-1))\n",
    "print('All Items:')\n",
    "#for all premutations check it\n",
    "for item in permutations(li,n):\n",
    "    if not check_array(item):\n",
    "        print(item)"
   ]
  },
  {
   "cell_type": "markdown",
   "metadata": {},
   "source": [
    "# Question 4\n",
    "You are given an array of n numbers and q queries. For each query you have to print the floor of the expected value(mean) of the subarray from L to R. <br>\n",
    "First line contains two integers N and Q denoting number of array elements and number of queries.<br>\n",
    "Next line contains N space seperated integers denoting array elements.<br>\n",
    "Next Q lines contain two integers L and R(indices of the array).<br>\n",
    "\n",
    "print a single integer denoting the answer.:<br>\n",
    "\n",
    " Constraints:<br>\n",
    "\n",
    "1<= N ,Q,L,R <= 10^6<br>\n",
    "\n",
    "1<= Array elements <= 10^9<br>\n",
    "\n",
    "NOTE:\n",
    "\n",
    "Use Fast I/O <br>\n",
    "\n",
    "Problem setter : Sheldon Tauro<br>\n",
    "\n",
    "SAMPLE INPUT <br>\n",
    "5 3<br>\n",
    "1 2 3 4 5<br>\n",
    "1 3<br>\n",
    "2 4<br>\n",
    "2 5<br>\n",
    "SAMPLE OUTPUT:<br>\n",
    "2 <br>\n",
    "3<br>\n",
    "3<br>"
   ]
  },
  {
   "cell_type": "code",
   "execution_count": 37,
   "metadata": {},
   "outputs": [
    {
     "name": "stdout",
     "output_type": "stream",
     "text": [
      "5 3\n",
      "1 2 3 4 5\n",
      "1 3\n",
      "2\n",
      "2 4\n",
      "3\n",
      "2 5\n",
      "3\n"
     ]
    }
   ],
   "source": [
    "from math import floor\n",
    "n,q=list(map(int,input().split()))\n",
    "arr=list(map(int,input().split()))\n",
    "for query in range(0,q):\n",
    "    l,r=list(map(int,input().split()))\n",
    "    arr_req=arr[l-1:r]\n",
    "    print(floor(sum(arr_req)/len(arr_req)))"
   ]
  },
  {
   "cell_type": "code",
   "execution_count": null,
   "metadata": {},
   "outputs": [],
   "source": []
  }
 ],
 "metadata": {
  "kernelspec": {
   "display_name": "Python 3",
   "language": "python",
   "name": "python3"
  },
  "language_info": {
   "codemirror_mode": {
    "name": "ipython",
    "version": 3
   },
   "file_extension": ".py",
   "mimetype": "text/x-python",
   "name": "python",
   "nbconvert_exporter": "python",
   "pygments_lexer": "ipython3",
   "version": "3.7.3"
  }
 },
 "nbformat": 4,
 "nbformat_minor": 2
}
