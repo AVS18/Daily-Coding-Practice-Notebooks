{
 "cells": [
  {
   "cell_type": "markdown",
   "metadata": {},
   "source": [
    "# Question 1\n",
    "\n",
    "Given an array of integers A sorted in non - decreasing order, return an array of the squares of each number also sorted in non decreasing order. \n",
    "\n",
    "Input: [-4,-1,0,3,10]<br>\n",
    "Output: [0,1,9,16,100]<br>\n",
    "Input: [-7,-3,2,3,11]<br>\n",
    "Output: [4,9,9,49,121]<br>"
   ]
  },
  {
   "cell_type": "code",
   "execution_count": 3,
   "metadata": {},
   "outputs": [
    {
     "name": "stdout",
     "output_type": "stream",
     "text": [
      "-7 -3 2 3 11\n",
      "[4, 9, 9, 49, 121]\n"
     ]
    }
   ],
   "source": [
    "arr=list(map(int,input().split()))\n",
    "arr=list(map(lambda x:x**2,arr))\n",
    "arr.sort()\n",
    "print(arr)"
   ]
  },
  {
   "cell_type": "markdown",
   "metadata": {},
   "source": [
    "# Question 2\n",
    "\n",
    "Given an nXn matrix where each of thee rows and columns are sorted in ascending order. Find the kth smallest element in the matrix. Note that it is the kth smallest element in the sorted order, not the kth distinct element.<br>\n",
    "Input:<br>\n",
    "matrix=[<br>\n",
    "[1,5,9],<br>\n",
    "[10,11,13],<br>\n",
    "[12,13,15]]<br>\n",
    "k=8<br>\n",
    "Output: 13<br>"
   ]
  },
  {
   "cell_type": "code",
   "execution_count": 14,
   "metadata": {},
   "outputs": [
    {
     "name": "stdout",
     "output_type": "stream",
     "text": [
      "3\n",
      "1 5 9\n",
      "10 11 13\n",
      "12 13 15\n",
      "8\n",
      "13\n"
     ]
    }
   ],
   "source": [
    "import numpy as np\n",
    "n_rows=int(input())\n",
    "li=[]\n",
    "for i in range(0,n_rows):\n",
    "    li.append(list(map(int,input().split())))\n",
    "arr=list(np.array(li).reshape(-1))\n",
    "arr.sort()\n",
    "k=int(input())\n",
    "print(arr[k-1])"
   ]
  },
  {
   "cell_type": "markdown",
   "metadata": {},
   "source": [
    "# Question 3\n",
    "\n",
    "Given a valid IP address, return a defanged version of that IP address. A defanged IP address replaces every . with [.].<br>\n",
    "\n",
    "Input: address=\"1.1.1.1\"<br>\n",
    "Output: \"1[.]1[.]1[.]1\"<br>\n",
    "\n",
    "Input: address='192.168.1.1'<br>\n",
    "Output: \"192[.]168[.]1[.]1[.]\"<br>"
   ]
  },
  {
   "cell_type": "code",
   "execution_count": 18,
   "metadata": {},
   "outputs": [
    {
     "name": "stdout",
     "output_type": "stream",
     "text": [
      "1.1.1.1\n",
      "1[.]1[.]1[.]1\n"
     ]
    }
   ],
   "source": [
    "import re\n",
    "addr=input()\n",
    "values=re.findall('[^.]+',addr)\n",
    "values='[.]'.join(values)\n",
    "print(values)"
   ]
  },
  {
   "cell_type": "code",
   "execution_count": 25,
   "metadata": {},
   "outputs": [
    {
     "data": {
      "text/plain": [
       "['b', 'b', 'b']"
      ]
     },
     "execution_count": 25,
     "metadata": {},
     "output_type": "execute_result"
    }
   ],
   "source": [
    "#findall method is used when we need to find values\n",
    "#that are matched with regular expression\n",
    "\n",
    "string='abaabaaba'\n",
    "regex='a'\n",
    "re.findall(regex,string)\n",
    "#Output : ['a', 'a', 'a', 'a', 'a', 'a']\n",
    "regex='a+'\n",
    "re.findall(regex,string)\n",
    "#Output: ['a', 'aa', 'aa', 'a']\n",
    "regex='[^a]+'# matches other than a\n",
    "re.findall(regex,string)"
   ]
  },
  {
   "cell_type": "code",
   "execution_count": null,
   "metadata": {},
   "outputs": [],
   "source": []
  }
 ],
 "metadata": {
  "kernelspec": {
   "display_name": "Python 3",
   "language": "python",
   "name": "python3"
  },
  "language_info": {
   "codemirror_mode": {
    "name": "ipython",
    "version": 3
   },
   "file_extension": ".py",
   "mimetype": "text/x-python",
   "name": "python",
   "nbconvert_exporter": "python",
   "pygments_lexer": "ipython3",
   "version": "3.7.3"
  }
 },
 "nbformat": 4,
 "nbformat_minor": 2
}
