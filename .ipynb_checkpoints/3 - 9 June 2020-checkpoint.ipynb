{
 "cells": [
  {
   "cell_type": "markdown",
   "metadata": {},
   "source": [
    "# Question\n",
    "\n",
    "Given a square matrix of size N X N. The task is to rotate it by 90 degrees in an anti-clockwise direction without using any extra space.\n",
    "\n",
    "Input: 3\n",
    "\n",
    "1 2 3 4 5 6 7 8 9\n",
    "\n",
    "Output: 3 6 9\n",
    "\n",
    "       2 5 8\n",
    "        \n",
    "       1 4 7"
   ]
  },
  {
   "cell_type": "code",
   "execution_count": 4,
   "metadata": {},
   "outputs": [
    {
     "name": "stdout",
     "output_type": "stream",
     "text": [
      "3\n",
      "1 2 3 4 5 6 7 8 9\n",
      "[[3 6 9]\n",
      " [2 5 8]\n",
      " [1 4 7]]\n"
     ]
    }
   ],
   "source": [
    "import numpy as np\n",
    "n=int(input())\n",
    "arr=list(map(int,input().split()))\n",
    "arr=np.array(arr).reshape(n,n)\n",
    "print(np.flipud(arr.T))"
   ]
  },
  {
   "cell_type": "markdown",
   "metadata": {},
   "source": [
    "# Question\n",
    "\n",
    "Write a program to find the rank of a 3 * 3 matrix.\n",
    "\n",
    "Input: 10 20 10\n",
    "      \n",
    "      -20 -30 10\n",
    "      \n",
    "      30 50 0 \n",
    "    \n",
    "Output: 2"
   ]
  },
  {
   "cell_type": "code",
   "execution_count": 8,
   "metadata": {},
   "outputs": [
    {
     "name": "stdout",
     "output_type": "stream",
     "text": [
      "10 20 10 -20 -30 10 30 50 0\n",
      "2\n"
     ]
    }
   ],
   "source": [
    "#simple method\n",
    "import numpy as np\n",
    "arr=list(map(int,input().split()))\n",
    "arr=np.array(arr).reshape(3,3)\n",
    "print(np.linalg.matrix_rank(arr))"
   ]
  },
  {
   "cell_type": "markdown",
   "metadata": {},
   "source": [
    "# Question\n",
    "\n",
    "Given an N X N binary matrix where each row and column of the matrix is sorted in ascending order. Find the no.of zeroes in the matrix\n",
    "\n",
    "Input: 1 0 0<br>\n",
    "       0 0 1<br>\n",
    "       1 1 1<br>  \n",
    "      \n",
    "Output: 4\n",
    "\n",
    "Input: 10 11 110<br>\n",
    "       101 110 111<br>\n",
    "       110 111 1111<br>\n",
    "       \n",
    "Output: 5"
   ]
  },
  {
   "cell_type": "code",
   "execution_count": 17,
   "metadata": {},
   "outputs": [
    {
     "name": "stdout",
     "output_type": "stream",
     "text": [
      "3\n",
      "10 11 110 101 110 111 110 111 1111\n",
      "5\n"
     ]
    }
   ],
   "source": [
    "n=int(input())\n",
    "arr=input().split()\n",
    "count_0=0\n",
    "for item in arr:\n",
    "    count_0+=item.count('0')\n",
    "print(count_0)"
   ]
  },
  {
   "cell_type": "markdown",
   "metadata": {},
   "source": [
    "# Question\n",
    "\n",
    "\n",
    "Given an N X N matrix where every row and column is in non decreasing order. Print all the elements of a matrix in sorted order.\n",
    "\n",
    "Input: 4<br>\n",
    "10 20 30 40 15 25 35 45 27 29 37 48 32 33 39 50\n",
    "\n",
    "Output: 10 15 20 25 27 29 30 32 33 35 37 39 40 45 48 50"
   ]
  },
  {
   "cell_type": "code",
   "execution_count": 18,
   "metadata": {},
   "outputs": [
    {
     "name": "stdout",
     "output_type": "stream",
     "text": [
      "4\n",
      "10 20 30 40 15 25 35 45 27 29 37 48 32 33 39 50\n",
      "[10, 15, 20, 25, 27, 29, 30, 32, 33, 35, 37, 39, 40, 45, 48, 50]\n"
     ]
    }
   ],
   "source": [
    "n=int(input())\n",
    "li=list(map(int,input().split()))\n",
    "li.sort()\n",
    "print(li)"
   ]
  },
  {
   "cell_type": "markdown",
   "metadata": {},
   "source": [
    "# Question\n",
    "\n",
    "Consider a game, where a player can score 3 or 5 or 10 points in a move.Given the total score n, find the number of distinct combinations to reach the given score. <br>\n",
    "Input: 8<br>\n",
    "20<br>\n",
    "13<br>\n",
    "Output:\n",
    "1<br>\n",
    "4<br>\n",
    "2<br>"
   ]
  },
  {
   "cell_type": "code",
   "execution_count": 26,
   "metadata": {},
   "outputs": [
    {
     "name": "stdout",
     "output_type": "stream",
     "text": [
      "13\n",
      "{(1, 2, 0), (1, 0, 1)}\n"
     ]
    }
   ],
   "source": [
    "#coeficients of the equation\n",
    "from itertools import combinations\n",
    "eqn=[3,5,10]\n",
    "ans=int(input())\n",
    "a=[i for i in range(0,ans)]*3\n",
    "count=0\n",
    "ans={(a,b,c) for a,b,c in combinations(a,3) if a*eqn[0]+b*eqn[1]+c*eqn[2]==ans}\n",
    "print(ans)"
   ]
  },
  {
   "cell_type": "markdown",
   "metadata": {},
   "source": [
    "# Question\n",
    "\n",
    "Delete the given element in the linked list.\n",
    "\n",
    "Input: 4\n",
    "\n",
    "10 20 30 40\n",
    "\n",
    "40\n",
    "\n",
    "Output: 10 20 30"
   ]
  },
  {
   "cell_type": "code",
   "execution_count": 28,
   "metadata": {},
   "outputs": [
    {
     "name": "stdout",
     "output_type": "stream",
     "text": [
      "\n",
      "#include<stdio.h>\n",
      "#include<stdlib.h>\n",
      "struct node{\n",
      "    int data;\n",
      "    struct node *nextnode;\n",
      "};\n",
      "void print_list(char a[],struct node *val)\n",
      "{\n",
      "    printf(\"%s: \",a);\n",
      "    while(val!=NULL)\n",
      "    {\n",
      "        printf(\"%d \",val->data);\n",
      "        val=val->nextnode;\n",
      "    }\n",
      "}\n",
      "struct node *head=NULL, *temp, *newnode;\n",
      "int main()\n",
      "{\n",
      "    int n;\n",
      "    scanf(\"%d\",&n);\n",
      "    for(int i=0;i<n;i++)\n",
      "    {\n",
      "        int ele;\n",
      "        scanf(\"%d\",&ele);\n",
      "        newnode=(struct node *)malloc(sizeof(struct node));\n",
      "        newnode->data=ele;\n",
      "        newnode->nextnode=NULL;\n",
      "        if(head==NULL)\n",
      "        {\n",
      "            head=newnode;\n",
      "            temp=newnode;\n",
      "        }\n",
      "        else{\n",
      "            temp->nextnode=newnode;\n",
      "            temp=newnode;\n",
      "        }\n",
      "    }\n",
      "    print_list(\"Your data\",head);\n",
      "    int del_ele;\n",
      "    scanf(\"%d\",&del_ele);\n",
      "    if(head->data==del_ele)\n",
      "    {\n",
      "        temp=head;\n",
      "        head=head->nextnode;\n",
      "        free(temp);\n",
      "    }\n",
      "    newnode=head;\n",
      "    temp=head->nextnode;\n",
      "    while(temp!=NULL)\n",
      "    {\n",
      "        if(temp->data==del_ele)\n",
      "        {\n",
      "            newnode->nextnode=temp->nextnode;\n",
      "            free(temp);\n",
      "            break;\n",
      "        }\n",
      "        newnode=temp;\n",
      "        temp=temp->nextnode;\n",
      "    }\n",
      "    print_list(\"New List\",head);\n",
      "}\n",
      "\n",
      "\n"
     ]
    }
   ],
   "source": [
    "print('''\n",
    "#include<stdio.h>\n",
    "#include<stdlib.h>\n",
    "struct node{\n",
    "    int data;\n",
    "    struct node *nextnode;\n",
    "};\n",
    "void print_list(char a[],struct node *val)\n",
    "{\n",
    "    printf(\"%s: \",a);\n",
    "    while(val!=NULL)\n",
    "    {\n",
    "        printf(\"%d \",val->data);\n",
    "        val=val->nextnode;\n",
    "    }\n",
    "}\n",
    "struct node *head=NULL, *temp, *newnode;\n",
    "int main()\n",
    "{\n",
    "    int n;\n",
    "    scanf(\"%d\",&n);\n",
    "    for(int i=0;i<n;i++)\n",
    "    {\n",
    "        int ele;\n",
    "        scanf(\"%d\",&ele);\n",
    "        newnode=(struct node *)malloc(sizeof(struct node));\n",
    "        newnode->data=ele;\n",
    "        newnode->nextnode=NULL;\n",
    "        if(head==NULL)\n",
    "        {\n",
    "            head=newnode;\n",
    "            temp=newnode;\n",
    "        }\n",
    "        else{\n",
    "            temp->nextnode=newnode;\n",
    "            temp=newnode;\n",
    "        }\n",
    "    }\n",
    "    print_list(\"Your data\",head);\n",
    "    int del_ele;\n",
    "    scanf(\"%d\",&del_ele);\n",
    "    if(head->data==del_ele)\n",
    "    {\n",
    "        temp=head;\n",
    "        head=head->nextnode;\n",
    "        free(temp);\n",
    "    }\n",
    "    newnode=head;\n",
    "    temp=head->nextnode;\n",
    "    while(temp!=NULL)\n",
    "    {\n",
    "        if(temp->data==del_ele)\n",
    "        {\n",
    "            newnode->nextnode=temp->nextnode;\n",
    "            free(temp);\n",
    "            break;\n",
    "        }\n",
    "        newnode=temp;\n",
    "        temp=temp->nextnode;\n",
    "    }\n",
    "    print_list(\"New List\",head);\n",
    "}\n",
    "\n",
    "''')"
   ]
  },
  {
   "cell_type": "markdown",
   "metadata": {},
   "source": [
    "# Question\n",
    "\n",
    "*Given a 2d plane and a robot which is located at (0,0), who can move only one unit step at a time in any direction i.e if its initial  position is (x,y), he can go to the positions (x,y+1),(x,y-1),(x+1,y),(x-1,y). Given the final position x and y and steps taken to reach that position. Determine whether the robot can reach that position in those steps. <br>\n",
    "\n",
    "Input: 10,15,25.\n",
    "\n",
    "Output: Yes"
   ]
  },
  {
   "cell_type": "code",
   "execution_count": 3,
   "metadata": {},
   "outputs": [
    {
     "name": "stdout",
     "output_type": "stream",
     "text": [
      "10 15 25\n",
      "Yes\n"
     ]
    }
   ],
   "source": [
    "x,y,s=list(map(int,input().split()))\n",
    "if x+y<=s:\n",
    "    print(\"Yes\")\n",
    "else:\n",
    "    print(\"No\")"
   ]
  },
  {
   "cell_type": "markdown",
   "metadata": {},
   "source": [
    "# Question\n",
    "\n",
    "Given a number, change all bits at even positions to 0.\n",
    "\n",
    "Input: 30\n",
    "\n",
    "Output: 10"
   ]
  },
  {
   "cell_type": "code",
   "execution_count": 13,
   "metadata": {},
   "outputs": [
    {
     "name": "stdout",
     "output_type": "stream",
     "text": [
      "500\n",
      "160\n"
     ]
    }
   ],
   "source": [
    "n=int(input())\n",
    "bin_val=bin(n).replace('0b','')\n",
    "for i in range(0,len(bin_val),2):\n",
    "    bin_val=bin_val[:i]+'0'+bin_val[i+1:]\n",
    "print(int(bin_val,2))"
   ]
  },
  {
   "cell_type": "markdown",
   "metadata": {},
   "source": [
    "# Question\n",
    "\n",
    "Invert all bits in an array i.e change 1 -> 0 and 0 -> 1.\n",
    "\n",
    "Input: 4289384 \n",
    "\n",
    "Output: 4290677911"
   ]
  },
  {
   "cell_type": "code",
   "execution_count": 27,
   "metadata": {},
   "outputs": [
    {
     "name": "stdout",
     "output_type": "stream",
     "text": [
      "4289384\n",
      "4290677911\n"
     ]
    }
   ],
   "source": [
    "n=int(input())\n",
    "n=bin(n).replace('0b','')\n",
    "n='0'*(32-len(n))+n\n",
    "val=['1' if x=='0' else '0' for x in n]\n",
    "val=''.join(val)\n",
    "print(int(val,2))"
   ]
  },
  {
   "cell_type": "markdown",
   "metadata": {},
   "source": [
    "# Question\n",
    "\n",
    "Calculate the sum of the series 1, 1+2, 1+2+3, 1+2+3+4,..\n",
    "\n",
    "Input: 5\n",
    "\n",
    "Output: 35"
   ]
  },
  {
   "cell_type": "code",
   "execution_count": 30,
   "metadata": {},
   "outputs": [
    {
     "name": "stdout",
     "output_type": "stream",
     "text": [
      "10\n",
      "220\n"
     ]
    }
   ],
   "source": [
    "n=int(input())\n",
    "print((((n*(n+1)*(2*n+1))//6)+(n*(n+1)//2))//2)"
   ]
  },
  {
   "cell_type": "markdown",
   "metadata": {},
   "source": [
    "# Question\n",
    "\n",
    "You are given two arrays A and B. find the minimum value of A[0]XB[0]+A[1]XB[1]+...+A[n-1]XB[n-1]. Shuffling of elements in a and b are allowed.\n",
    "\n",
    "Input: 5<br>\n",
    "6 1 9 5 4<br>\n",
    "3 4 8 2 4<br>\n",
    "\n",
    "Output: 80"
   ]
  },
  {
   "cell_type": "code",
   "execution_count": 50,
   "metadata": {},
   "outputs": [
    {
     "name": "stdout",
     "output_type": "stream",
     "text": [
      "5\n",
      "6 1 9 5 4\n",
      "3 4 8 2 4\n",
      "80\n"
     ]
    }
   ],
   "source": [
    "from itertools import permutations,combinations\n",
    "n=int(input())\n",
    "a=list(map(int,input().split()))\n",
    "b=list(map(int,input().split()))\n",
    "ans=[]\n",
    "for vals in set(permutations(a,n)):\n",
    "    for vals2 in set(permutations(b,n)):\n",
    "        li=[vals[i]*vals2[i] for i in range(0,n)]\n",
    "        ans.append(sum(li))\n",
    "print(min(ans))"
   ]
  },
  {
   "cell_type": "code",
   "execution_count": 51,
   "metadata": {},
   "outputs": [],
   "source": [
    "a.sort()"
   ]
  },
  {
   "cell_type": "code",
   "execution_count": 58,
   "metadata": {},
   "outputs": [
    {
     "name": "stdout",
     "output_type": "stream",
     "text": [
      "23\n"
     ]
    }
   ],
   "source": [
    "def minValue(A, B, n):\n",
    "    # Sort A and B so that minimum and maximum\n",
    "    # value can easily be fetched.\n",
    "    A.sort()\n",
    "    B.sort()\n",
    " \n",
    "    # Multiplying minimum value of A and maximum\n",
    "    # value of B\n",
    "    result = 0\n",
    "    for i in range(n):\n",
    "        result += (A[i] * B[n - i - 1])\n",
    " \n",
    "    return result\n",
    " \n",
    "# Driven Program\n",
    "A = [3, 1, 1]\n",
    "B = [6, 5, 4]\n",
    "n = len(A)\n",
    "print(minValue(A, B, n))"
   ]
  },
  {
   "cell_type": "code",
   "execution_count": 61,
   "metadata": {},
   "outputs": [
    {
     "name": "stdout",
     "output_type": "stream",
     "text": [
      "1 2 3 6 9 8 7 4 5 "
     ]
    }
   ],
   "source": [
    "def gfg(arr,i,j,m,n): \n",
    "    # If i or j lies outside the matrix \n",
    "    if (i >= m or j >= n) :\n",
    "        return; \n",
    "    # Print First Row \n",
    "    for p in range(i,n):\n",
    "        print(arr[i][p],end=\" \")\n",
    "    # Print Last Column \n",
    "    for p in range(i+1,m):\n",
    "        print(arr[p][n-1],end=\" \")\n",
    "    # Print Last Row, if Last and \n",
    "    # First Row are not same \n",
    "    if ((m - 1) != i): \n",
    "        for p in range(n-2,j,-1):\n",
    "            print(arr[m-1][p],end=\" \")\n",
    "    # Print First Column,  if Last and \n",
    "    # First Column are not same \n",
    "    if ((n - 1) != j):\n",
    "        for p in range(m-1,i,-1):\n",
    "            print(arr[p][j],end=\" \")\n",
    "    gfg(arr, i + 1, j + 1, m - 1, n - 1) \n",
    "\n",
    "r=3\n",
    "c=3\n",
    "arr= [[ 1, 2, 3],\n",
    "    [ 4 , 5, 6 ],\n",
    "    [7,8,9]] \n",
    "gfg(arr, 0, 0, r, c)\n"
   ]
  },
  {
   "cell_type": "markdown",
   "metadata": {},
   "source": [
    "# Question\n",
    "\n",
    "Given an array with n distinct elements, convert the given array to a reduced formed where all elements are in range from 0 to n-1/ The order of the elements is same, 0 is placed in place of smallest element, 1 for second smallest,.., n-1 for large element.\n",
    "\n",
    "Input: 5<br>\n",
    "5 10 40 30 20<br>\n",
    "Output: 0 1 4 3 2<br>"
   ]
  },
  {
   "cell_type": "code",
   "execution_count": 63,
   "metadata": {},
   "outputs": [
    {
     "name": "stdout",
     "output_type": "stream",
     "text": [
      "6\n",
      "10 20 30 40 90 60\n",
      "[0, 1, 2, 3, 5, 4]\n"
     ]
    }
   ],
   "source": [
    "import copy\n",
    "n=int(input())\n",
    "arr=list(map(int,input().split()))\n",
    "arr2=copy.deepcopy(arr)\n",
    "arr2.sort()\n",
    "di={arr2[i]:i for i in range(0,len(arr2))}\n",
    "arr=[di[item] for item in arr]\n",
    "print(arr)"
   ]
  },
  {
   "cell_type": "markdown",
   "metadata": {},
   "source": [
    "# Question\n",
    "\n",
    "You are given an array of postive integers, a1,a2,a3,...,an. Count pairs such that ai<aj\n",
    "\n",
    "Input: 3<br>\n",
    "2 3 2\n",
    "\n",
    "Output: 2"
   ]
  },
  {
   "cell_type": "code",
   "execution_count": 66,
   "metadata": {},
   "outputs": [
    {
     "name": "stdout",
     "output_type": "stream",
     "text": [
      "3\n",
      "2 3 2\n",
      "2\n"
     ]
    }
   ],
   "source": [
    "from itertools import combinations\n",
    "n=int(input())\n",
    "arr=list(map(int,input().split()))\n",
    "count=0\n",
    "for a,b in combinations(arr,2):\n",
    "    if a<=b:\n",
    "        count+=1\n",
    "print(count)"
   ]
  },
  {
   "cell_type": "markdown",
   "metadata": {},
   "source": [
    "# Question\n",
    "\n",
    "\n",
    "Given a string with both upper and lower case letters, sort that without changing the uppercase and lowercase indexes.\n",
    "\n",
    "Input: 12\n",
    "\n",
    "defRTSersUXI\n",
    "\n",
    "Output: deeIRSfrsTUX"
   ]
  },
  {
   "cell_type": "code",
   "execution_count": 68,
   "metadata": {},
   "outputs": [
    {
     "name": "stdout",
     "output_type": "stream",
     "text": [
      "defRTSersUXI\n",
      "deeIRSfrsTUX\n"
     ]
    }
   ],
   "source": [
    "string=input()\n",
    "upper_alpha=[item for item in string if item.isupper()]\n",
    "lower_alpha=[item for item in string if item.islower()]\n",
    "upper_alpha.sort()\n",
    "lower_alpha.sort()\n",
    "z_up,z_low=0,0\n",
    "for i in range(0,len(string)):\n",
    "    if string[i].islower():\n",
    "        string=string[:i]+lower_alpha[z_low]+string[i+1:]\n",
    "        z_low+=1\n",
    "    else:\n",
    "        string=string[:i]+upper_alpha[z_up]+string[i+1:]\n",
    "        z_up+=1\n",
    "print(string)"
   ]
  },
  {
   "cell_type": "markdown",
   "metadata": {},
   "source": [
    "# Question\n",
    "\n",
    "Given an array of names of candidates in an election. A candidate name in array represents a vote casted to that candidate. Print the name of the candidate that received maximum votes in the contest. If there is a tie, print lexographically smaller name.\n",
    "\n",
    "Input: 3<br>\n",
    "andy, blake, clark<br>\n",
    "Output: andy 1<br>"
   ]
  },
  {
   "cell_type": "code",
   "execution_count": 84,
   "metadata": {},
   "outputs": [
    {
     "name": "stdout",
     "output_type": "stream",
     "text": [
      "andy blake clark\n",
      "andy 1\n"
     ]
    }
   ],
   "source": [
    "def reverse_dict(di):\n",
    "    vals={}\n",
    "    for key,value in di.items():\n",
    "        if value not in vals:\n",
    "            vals[value]=[key]\n",
    "        else:\n",
    "            vals[value].append(key)\n",
    "    return vals\n",
    "from collections import Counter\n",
    "names=input().split()\n",
    "di=dict(Counter(names))\n",
    "di=reverse_dict(di)\n",
    "val=max(di.keys())\n",
    "ans=di[val]\n",
    "ans.sort()\n",
    "print(ans[0],val)"
   ]
  },
  {
   "cell_type": "markdown",
   "metadata": {},
   "source": [
    "# Question\n",
    "\n",
    "Given an array of N integers and an another integer K. The task is to find the sum of the maximum subsequence such that difference of the indexes is k.\n",
    "\n",
    "Input: 2 -3 -1 -1 2, k=2<br>\n",
    "Output: 3<br>\n",
    "Explanation: first index => i, second index => i+k, third index => i+2k...,"
   ]
  },
  {
   "cell_type": "code",
   "execution_count": 3,
   "metadata": {},
   "outputs": [
    {
     "name": "stdout",
     "output_type": "stream",
     "text": [
      "2 -3 -1 -1 2\n",
      "2\n",
      "3\n"
     ]
    }
   ],
   "source": [
    "arr=list(map(int,input().split()))\n",
    "k=int(input())\n",
    "max_val=[]\n",
    "for i in range(0,len(arr)):\n",
    "    max_val.append(sum(arr[i:len(arr):k]))\n",
    "print(max(max_val))"
   ]
  },
  {
   "cell_type": "code",
   "execution_count": null,
   "metadata": {},
   "outputs": [],
   "source": []
  },
  {
   "cell_type": "code",
   "execution_count": null,
   "metadata": {},
   "outputs": [],
   "source": []
  }
 ],
 "metadata": {
  "kernelspec": {
   "display_name": "Python 3",
   "language": "python",
   "name": "python3"
  }
 },
 "nbformat": 4,
 "nbformat_minor": 2
}
