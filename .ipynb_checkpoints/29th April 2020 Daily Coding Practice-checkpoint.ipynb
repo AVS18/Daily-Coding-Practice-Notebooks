{
 "cells": [
  {
   "cell_type": "markdown",
   "metadata": {},
   "source": [
    "# Question 1\n",
    "\n",
    "Given an array of integers and an integer k, you need to find a total number of continuous subarrays whose sum equals to k.<br>\n",
    "\n",
    "Example1: Input: nums=[1,1,1], k=2<br>\n",
    "Output: 2<br>\n",
    "Note: The length of the array is in the range [1,20000]. The range of numbers in the array is [-1000,1000] and the range of the integers k is [-1e^7,1e^7].<br>"
   ]
  },
  {
   "cell_type": "code",
   "execution_count": 11,
   "metadata": {},
   "outputs": [
    {
     "name": "stdout",
     "output_type": "stream",
     "text": [
      "1 1 1\n",
      "2\n",
      "Arrays\n",
      "\n",
      "[1, 1]\n",
      "[1, 1]\n",
      "Count: 2\n"
     ]
    }
   ],
   "source": [
    "from itertools import combinations\n",
    "nums=list(map(int,input().split()))\n",
    "k=int(input())\n",
    "n=[i for i in range(0,len(nums)+1)]\n",
    "count=0\n",
    "print(\"Arrays\\n\")\n",
    "for i,j in combinations(n,2):\n",
    "    if sum(nums[i:j])==k:\n",
    "        count+=1\n",
    "        print(nums[i:j])\n",
    "print('Count:',count)"
   ]
  },
  {
   "cell_type": "markdown",
   "metadata": {},
   "source": [
    "# Question 2\n",
    "\n",
    "Given an array of integers, return indices of the two numbers such that they add up to a specigic target. each input has exactly one solution, and you may not use the same element twice.<br>\n",
    "\n",
    "Given nums=[2,7,11,15], target=9<br>\n",
    "Output= [0,1]<br>"
   ]
  },
  {
   "cell_type": "code",
   "execution_count": 13,
   "metadata": {},
   "outputs": [
    {
     "name": "stdout",
     "output_type": "stream",
     "text": [
      "2 7 11 15\n",
      "9\n",
      "[0, 1]\n"
     ]
    }
   ],
   "source": [
    "from itertools import combinations\n",
    "nums=list(map(int,input().split()))\n",
    "target=int(input())\n",
    "n=[i for i in range(0,len(nums)+1)]\n",
    "for i,j in combinations(n,2):\n",
    "    if sum(nums[i:j])==target:\n",
    "        print([i,j-1])\n",
    "        break;"
   ]
  },
  {
   "cell_type": "markdown",
   "metadata": {},
   "source": [
    "# Question 3\n",
    "\n",
    "Take an input string. Write a recursive function which prints all the words possible by rearranging the characters of the string which are in dictnoary order larger than the given string.<br>\n",
    "\n",
    "The output must be lexographically sorted.<br>\n",
    "Input: cab<br>\n",
    "Output: cba<br>"
   ]
  },
  {
   "cell_type": "code",
   "execution_count": 17,
   "metadata": {},
   "outputs": [
    {
     "name": "stdout",
     "output_type": "stream",
     "text": [
      "yacc\n",
      "ycac\n",
      "ycca\n",
      "ycca\n",
      "ycac\n"
     ]
    }
   ],
   "source": [
    "#l and r are starting and ending indexes of a string\n",
    "#gfg source\n",
    "import copy\n",
    "def my_func(string2,l,r):\n",
    "    if l==r:\n",
    "        x=''.join(string2)\n",
    "        if x>string:\n",
    "            print(x)\n",
    "    else:\n",
    "        for i in range(l,r+1):\n",
    "            string2[l],string2[i]=string2[i],string2[l]\n",
    "            my_func(string2,l+1,r)\n",
    "            string2[l],string2[i]=string2[i],string2[l]\n",
    "string=input()\n",
    "string2=copy.copy(string)\n",
    "my_func(list(string2),0,len(string2)-1)"
   ]
  },
  {
   "cell_type": "code",
   "execution_count": null,
   "metadata": {},
   "outputs": [],
   "source": []
  }
 ],
 "metadata": {
  "kernelspec": {
   "display_name": "Python 3",
   "language": "python",
   "name": "python3"
  },
  "language_info": {
   "codemirror_mode": {
    "name": "ipython",
    "version": 3
   },
   "file_extension": ".py",
   "mimetype": "text/x-python",
   "name": "python",
   "nbconvert_exporter": "python",
   "pygments_lexer": "ipython3",
   "version": "3.7.3"
  }
 },
 "nbformat": 4,
 "nbformat_minor": 2
}
