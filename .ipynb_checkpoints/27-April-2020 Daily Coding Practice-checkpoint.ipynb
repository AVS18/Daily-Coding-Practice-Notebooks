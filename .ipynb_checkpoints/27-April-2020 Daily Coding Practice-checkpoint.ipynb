{
 "cells": [
  {
   "cell_type": "markdown",
   "metadata": {},
   "source": [
    "# Question 1\n",
    "\n",
    "Given a String, we need to find the total number of its distinct substrings. Example: <br>\n",
    "\n",
    "Input: ABABA<br>\n",
    "Output: 9<br>\n",
    "Explanation:<br>\n",
    "len 1 = A,B<br>\n",
    "len 2 = AB,BA<br>\n",
    "len 3= ABA,BAB<br>\n",
    "len 4: ABAB,BABA<br>\n",
    "len=5: ABABA<br>"
   ]
  },
  {
   "cell_type": "code",
   "execution_count": 3,
   "metadata": {},
   "outputs": [
    {
     "name": "stdout",
     "output_type": "stream",
     "text": [
      "aaabb\n",
      "Values: ['aa', 'b', 'ab', 'bb', 'aab', 'aabb', 'aaabb', 'abb', 'aaab', 'aaa', 'a']\n",
      "No_OF_Substrings 11\n"
     ]
    }
   ],
   "source": [
    "#Solution 1 with time complexity O(n**2)\n",
    "string=input()\n",
    "string_len=len(string)\n",
    "ans=[]\n",
    "single_digit=list(string)\n",
    "ans.extend(single_digit)\n",
    "for i in range(2,string_len+1):\n",
    "    for j in range(0,string_len):\n",
    "        ans.append(string[j:j+i])\n",
    "ans=list(set(ans))\n",
    "print('Values:',ans)\n",
    "print('No_OF_Substrings',len(ans))"
   ]
  },
  {
   "cell_type": "code",
   "execution_count": 5,
   "metadata": {},
   "outputs": [
    {
     "name": "stdout",
     "output_type": "stream",
     "text": [
      "ababa\n",
      "Values ['bab', 'ba', 'b', 'ab', 'ababa', 'baba', 'abab', 'aba', 'a']\n",
      "No_OF_Substrings 9\n"
     ]
    }
   ],
   "source": [
    "#Solution 2 using itertools.combinations\n",
    "from itertools import combinations\n",
    "string=input()\n",
    "string_len=len(string)\n",
    "#combinations tools are used to generate the indexes of the substrings \n",
    "#The below for loop returns the 2 digit combinations of [0,..,n] i.e (0,2),(0,3),(0,4),(0,5)....\n",
    "#we will slice the string to get the result.\n",
    "ans=[string[x:y] for x,y in combinations(list(range(0,len(string)+1)),2)]\n",
    "#to get the unique substrings\n",
    "ans=list(set(ans))\n",
    "print('Values',ans)\n",
    "print('No_OF_Substrings',len(ans))"
   ]
  },
  {
   "cell_type": "markdown",
   "metadata": {},
   "source": [
    "# Question 2\n",
    "\n",
    "Given a subarray of n integers, find the continguous sub array of given length k that has an maximum average value. And output the maximum average value.<br>\n",
    "\n",
    "Input: n=5 k=4<br>\n",
    "1,12,-5,-6,50,3<br>\n",
    "Output: 12.75<br>\n",
    "Explanation: Max. average is (12-5-6+50/4)=12.75"
   ]
  },
  {
   "cell_type": "code",
   "execution_count": 12,
   "metadata": {},
   "outputs": [
    {
     "name": "stdout",
     "output_type": "stream",
     "text": [
      "4\n",
      "1 12 -5 -6 50 3\n",
      "[12, -5, -6, 50] 12.75\n"
     ]
    }
   ],
   "source": [
    "k=int(input())\n",
    "arr=list(map(int,input().split()))\n",
    "ans_slice,max_val=0,0\n",
    "for i in range(0,len(arr)-3):\n",
    "    req_slice=arr[i:i+k]\n",
    "    val=sum(req_slice)/k\n",
    "    if i==0 or max_val<val:\n",
    "        ans_slice=req_slice\n",
    "        max_val=val\n",
    "print(ans_slice,max_val)"
   ]
  },
  {
   "cell_type": "markdown",
   "metadata": {},
   "source": [
    "# Question 3\n",
    "Given a matrix of 0's and 1's find the longest line of consecutive one's in the matrix. The line could be horizontal,vertical, diagonal or anti_diagnol\n",
    "Conditions: (Multiple answers are possible)<br> I gave here one of the answer.<br>\n",
    "Input:<br>\n",
    "no_of_rows,no_of_columns=3,4<br>\n",
    "[[0,1,1,0],<br>\n",
    "[0,1,1,0],<br>\n",
    "[0,0,0,1]]<br>\n",
    "Output: 3<br>\n",
    "\n",
    "Hint: No_Of_Elements won't exceed 10,000.<br>\n",
    "\n",
    "Some Base cases are excluded here To avoid confusion. Primary goal is to achieve the logic utilized.<br>"
   ]
  },
  {
   "cell_type": "code",
   "execution_count": 63,
   "metadata": {},
   "outputs": [
    {
     "name": "stdout",
     "output_type": "stream",
     "text": [
      "2 2\n",
      "1 1 \n",
      "1 1\n",
      "Row Number 1\n"
     ]
    }
   ],
   "source": [
    "#max_count is the maximum continuous sequence of 1\n",
    "def get_max_consecutive_count(req_arr):\n",
    "    count,max_count=0,0\n",
    "    for i in range(0,len(req_arr)-1):\n",
    "        if req_arr[i]==req_arr[i+1]==1:\n",
    "            count+=1\n",
    "            if max_count<count+1:\n",
    "                max_count=count+1\n",
    "        else:\n",
    "            if max_count<count+1:\n",
    "                max_count=count+1\n",
    "            count=0\n",
    "    return max_count\n",
    "import numpy as np\n",
    "n,c=list(map(int,input().split()))\n",
    "li=[]\n",
    "for i in range(0,n):\n",
    "    li.append(list(map(int,input().split())))\n",
    "array=np.array(li).reshape(n,c)\n",
    "#rc_num is the row or column or diagnol that has maximum 1's\n",
    "#rcd indicates whether it is row or column or diagnol\n",
    "#to check consecutiveness I used a loop inside for every index. This will take a time complexity of O(n**2)\n",
    "#final count is the count used to find the row / column or diagnol that has maximum consecutive ones.\n",
    "rc_num,rcd,finalcount=0,'r',0\n",
    "for i in range(0,n):\n",
    "    #Row Checking\n",
    "    req_arr=list(array[i,:])\n",
    "    max_count=get_max_consecutive_count(req_arr)\n",
    "    if finalcount<max_count:\n",
    "        finalcount=max_count\n",
    "        rcd='r'\n",
    "        rc_num=i\n",
    "    #Column Checking \n",
    "    req_arr=list(array[:,i])\n",
    "    max_count=get_max_consecutive_count(req_arr)\n",
    "    if finalcount<max_count:\n",
    "        finalcount=max_count\n",
    "        rcd='c'\n",
    "        rc_num=i\n",
    "#Diagonals are considered if we have same number of rows and columns\n",
    "if n==c:\n",
    "    req_arr=list(array.diagonal())\n",
    "    max_count=get_max_consecutive_count(req_arr)\n",
    "    if finalcount<max_count:\n",
    "        finalcount=max_count\n",
    "        rcd='principal_diagnol'\n",
    "        rc_num='diagnol'\n",
    "    #Checking anti diagnol\n",
    "    req_arr=list(np.fliplr(array).diagonal())\n",
    "    max_count=get_max_consecutive_count(req_arr)\n",
    "    if finalcount<max_count:\n",
    "        finalcount=max_count\n",
    "        rcd='anti_diagnol'\n",
    "        rc_num='diagnol'\n",
    "if rcd=='r':\n",
    "    print('Row Number',rc_num+1)\n",
    "elif rcd=='c':\n",
    "    print('Column Number',rc_num+1)\n",
    "else:\n",
    "    print(rcd)"
   ]
  },
  {
   "cell_type": "markdown",
   "metadata": {},
   "source": [
    "# Question 4\n",
    "\n",
    "Given an array n integers. are there any unique elements a,b,c in array such that a+b+c=0?<br>\n",
    "Note: Duplicate Triplets are not allowed.<br>\n",
    "Input: -1 0 1 2 -1 -4<br>\n",
    "Output: [[-1,0,1],[-1,-1,2]]<br>"
   ]
  },
  {
   "cell_type": "code",
   "execution_count": 73,
   "metadata": {},
   "outputs": [
    {
     "name": "stdout",
     "output_type": "stream",
     "text": [
      "-1 -1 -2 -3 4 -5 6 7 -2 -4\n",
      "[[-3, -1, 4], [-5, -1, 6], [-2, -2, 4], [-4, -3, 7], [-5, -2, 7], [-4, -2, 6]]\n"
     ]
    }
   ],
   "source": [
    "from itertools import combinations as cmb\n",
    "def remove_dup(li):\n",
    "    for item in li:\n",
    "        if li.count(item)>1:\n",
    "            li.remove(item)\n",
    "    return li\n",
    "arr=list(map(int,input().split()))\n",
    "li=[]\n",
    "for a,b,c in cmb(arr,3):\n",
    "    if a+b+c==0:\n",
    "        app_val=[a,b,c]\n",
    "        app_val.sort()\n",
    "        li.append(app_val)\n",
    "#I can't use set to list conversion to remove duplicates as TypeError is generated as unhashable type\n",
    "li=remove_dup(li)\n",
    "print(li)"
   ]
  },
  {
   "cell_type": "code",
   "execution_count": null,
   "metadata": {},
   "outputs": [],
   "source": []
  }
 ],
 "metadata": {
  "kernelspec": {
   "display_name": "Python 3",
   "language": "python",
   "name": "python3"
  },
  "language_info": {
   "codemirror_mode": {
    "name": "ipython",
    "version": 3
   },
   "file_extension": ".py",
   "mimetype": "text/x-python",
   "name": "python",
   "nbconvert_exporter": "python",
   "pygments_lexer": "ipython3",
   "version": "3.7.3"
  }
 },
 "nbformat": 4,
 "nbformat_minor": 2
}
