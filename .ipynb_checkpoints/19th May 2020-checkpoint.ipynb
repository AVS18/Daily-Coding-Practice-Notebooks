{
 "cells": [
  {
   "cell_type": "markdown",
   "metadata": {},
   "source": [
    "# Question\n",
    "\n",
    "Implement a function ToLowerCase() that has a string parameter str and returns the same string in lowercase<br>\n",
    "\n",
    "Input: \"Hello\"<br>\n",
    "Output: \"hello\"<br>\n",
    "Input: \"here\"<br>\n",
    "Output: \"here\"<br>\n",
    "Input: \"LOVELY\"<br>\n",
    "Output: \"lovely\"<br>"
   ]
  },
  {
   "cell_type": "code",
   "execution_count": 4,
   "metadata": {},
   "outputs": [
    {
     "name": "stdout",
     "output_type": "stream",
     "text": [
      "LOVELY\n",
      "lovely\n"
     ]
    }
   ],
   "source": [
    "def ToLowerCase(s):\n",
    "    return s.lower()\n",
    "string=input()\n",
    "print(ToLowerCase(string))"
   ]
  },
  {
   "cell_type": "markdown",
   "metadata": {},
   "source": [
    "# Question\n",
    "\n",
    "Given a string and an integer k, you need to reverse the first k characters for every 2k character counting from the start of the string. It there are less than k characters reverse all of them. If there are less than 2k but greator than k then reverse first half and leave the rest<br>\n",
    "\n",
    "Input: s='abcdefg' k=2<br>\n",
    "Output: s='bacdfeg'<br>"
   ]
  },
  {
   "cell_type": "code",
   "execution_count": 11,
   "metadata": {},
   "outputs": [
    {
     "name": "stdout",
     "output_type": "stream",
     "text": [
      "adityavardhanavs\n",
      "3\n",
      "idatyaravdhavans\n"
     ]
    }
   ],
   "source": [
    "string=input()\n",
    "k=int(input())\n",
    "for i in range(0,len(string),2*k):\n",
    "    string=string[0:i]+string[i:i+k][::-1]+string[i+k:i+2*k]+string[i+2*k:]\n",
    "print(string)"
   ]
  },
  {
   "cell_type": "markdown",
   "metadata": {},
   "source": [
    "# All Previous Questions before 26April 2020:"
   ]
  },
  {
   "cell_type": "markdown",
   "metadata": {},
   "source": [
    "Given n pairs of paranthesis. write a program function to generate and print all combinations of well formed paranthesis. <br>\n",
    "\n",
    "Input: 3<br>\n",
    "Output: ((()))<br>\n",
    "        (()())<br>\n",
    "        (())()<br>\n",
    "        ()(())<br>\n",
    "        ()()()<br>"
   ]
  },
  {
   "cell_type": "code",
   "execution_count": 24,
   "metadata": {},
   "outputs": [
    {
     "name": "stdout",
     "output_type": "stream",
     "text": [
      "3\n",
      "()()()\n",
      "()(())\n",
      "((()))\n",
      "(())()\n",
      "(()())\n"
     ]
    }
   ],
   "source": [
    "from itertools import permutations\n",
    "n=int(input())\n",
    "li=['(']*n+[')']*n\n",
    "stack=[]\n",
    "for item in set(permutations(li)):\n",
    "    l=0\n",
    "    for i in range(0,len(item)):\n",
    "        if item[i]=='(':\n",
    "            stack.append('(')\n",
    "        else:\n",
    "            if len(stack)!=0:\n",
    "                stack.pop()\n",
    "            else:\n",
    "                l=1\n",
    "                break\n",
    "    if l==0:\n",
    "        print(''.join(item))"
   ]
  },
  {
   "cell_type": "markdown",
   "metadata": {},
   "source": [
    "# Question\n",
    "\n",
    "Given a string that outputs the largest alphabetical order of all consecutive substrings.<br>\n",
    "\n",
    "Input: 'ab'<br>\n",
    "Output: {'a','ab','b'}<br>"
   ]
  },
  {
   "cell_type": "code",
   "execution_count": 28,
   "metadata": {},
   "outputs": [
    {
     "name": "stdout",
     "output_type": "stream",
     "text": [
      "ab\n",
      "['a', 'ab', 'b']\n"
     ]
    }
   ],
   "source": [
    "from itertools import combinations\n",
    "string=input()\n",
    "ans=[]\n",
    "for i,j in combinations(list(range(0,len(string)+1)),2):\n",
    "    ans.append(string[i:j])\n",
    "ans.sort()\n",
    "print(ans)"
   ]
  },
  {
   "cell_type": "markdown",
   "metadata": {},
   "source": [
    "# Question\n",
    "\n",
    "Print the gollowing pattern<br>\n",
    "Input:7"
   ]
  },
  {
   "cell_type": "code",
   "execution_count": 50,
   "metadata": {},
   "outputs": [
    {
     "name": "stdout",
     "output_type": "stream",
     "text": [
      "9\n",
      "        1\n",
      "       1  2\n",
      "      1    3\n",
      "     1      4\n",
      "    1        5\n",
      "   1          6\n",
      "  1            7\n",
      " 1              8\n",
      "1 2 3 4 5 6 7 8 9\n"
     ]
    }
   ],
   "source": [
    "n=int(input())\n",
    "for i in range(1,n):\n",
    "    print(' '*(n-i),end='')\n",
    "    print(1,end='')\n",
    "    print(' '*(2*i-2),end='')\n",
    "    if i>1:\n",
    "        print(i)\n",
    "    else:\n",
    "        print()\n",
    "li=[i for i in range(1,n+1)]\n",
    "li=list(map(str,li))\n",
    "print(' '.join(li))"
   ]
  },
  {
   "cell_type": "markdown",
   "metadata": {},
   "source": [
    "# Question\n",
    "\n",
    "Given an array of elements. You have to change the elements in such a way that the elements of an array are distinct. If we are replacing any value. The replaced value should be greator than the previous value and after modification, the sum of the elements should be as less as possible. <br>\n",
    "\n",
    "Input: 1,2,3,4,5,5,5<br>\n",
    "Output: 1,2,3,4,5,6,7<br>\n",
    "Input: 1,2,5,7,8,8,7<br>\n",
    "Output: 1,2,5,7,8,9,10<br>"
   ]
  },
  {
   "cell_type": "code",
   "execution_count": 53,
   "metadata": {},
   "outputs": [
    {
     "name": "stdout",
     "output_type": "stream",
     "text": [
      "1 2 5 7 8 8 7\n",
      "[1, 2, 5, 7, 8, 9, 10]\n"
     ]
    }
   ],
   "source": [
    "inp_list=list(map(int,input().split()))\n",
    "for i in range(1,len(inp_list)):\n",
    "    if inp_list[i]<=inp_list[i-1]:\n",
    "        inp_list[i]=inp_list[i-1]+1\n",
    "print(inp_list)"
   ]
  },
  {
   "cell_type": "markdown",
   "metadata": {},
   "source": [
    "# Question\n",
    "\n",
    "Print all jumping numbers smaller than or equal to x.<br>\n",
    "Input: 105<br>\n",
    "Output: 0 1 2 3 4 5 6 7 8 9 10 12 21 23 32 34 43 45 54 56 65 67 76 78 87 89 98 101<br>\n",
    "A number is called a jumping number if all adjacent digits are differ by 1.<br>"
   ]
  },
  {
   "cell_type": "code",
   "execution_count": 67,
   "metadata": {},
   "outputs": [
    {
     "name": "stdout",
     "output_type": "stream",
     "text": [
      "10000\n",
      "[1, 2, 3, 4, 5, 6, 7, 8, 9, 10, 12, 21, 23, 32, 34, 43, 45, 54, 56, 65, 67, 76, 78, 87, 89, 98, 101, 121, 123, 210, 212, 232, 234, 321, 323, 343, 345, 432, 434, 454, 456, 543, 545, 565, 567, 654, 656, 676, 678, 765, 767, 787, 789, 876, 878, 898, 987, 989, 1010, 1012, 1210, 1212, 1232, 1234, 2101, 2121, 2123, 2321, 2323, 2343, 2345, 3210, 3212, 3232, 3234, 3432, 3434, 3454, 3456, 4321, 4323, 4343, 4345, 4543, 4545, 4565, 4567, 5432, 5434, 5454, 5456, 5654, 5656, 5676, 5678, 6543, 6545, 6565, 6567, 6765, 6767, 6787, 6789, 7654, 7656, 7676, 7678, 7876, 7878, 7898, 8765, 8767, 8787, 8789, 8987, 8989, 9876, 9878, 9898]\n"
     ]
    }
   ],
   "source": [
    "inp=int(input())\n",
    "if inp<11:\n",
    "    for i in range(1,inp):\n",
    "        print(i,end=' ')\n",
    "else:\n",
    "    li=[i for i in range(1,11)]\n",
    "    for i in range(12,inp+1):\n",
    "        val=str(i)\n",
    "        val=list(map(int,val))\n",
    "        l=0\n",
    "        for j in range(0,len(val)-1):\n",
    "            if abs(val[j+1]-val[j])!=1:\n",
    "                l=1\n",
    "        if l==0:\n",
    "            li.append(i)\n",
    "    print(li)"
   ]
  },
  {
   "cell_type": "markdown",
   "metadata": {},
   "source": [
    "# Question\n",
    "\n",
    "Find the rank of a matrix<br>\n",
    "\n",
    "Input: [[10,20,10],<br>\n",
    "[-20,-30,10],<br>\n",
    "[30,50,0]]<br>\n",
    "Output: 2<br>"
   ]
  },
  {
   "cell_type": "code",
   "execution_count": 71,
   "metadata": {},
   "outputs": [
    {
     "name": "stdout",
     "output_type": "stream",
     "text": [
      "3\n",
      "1 0 0\n",
      "0 1 0\n",
      "0 0 1\n",
      "3\n"
     ]
    }
   ],
   "source": [
    "import numpy as np\n",
    "rows=int(input())\n",
    "li=[]\n",
    "for i in range(0,rows):\n",
    "    li.append(list(map(int,input().split())))\n",
    "arr=np.array(li)\n",
    "print(np.linalg.matrix_rank(arr))"
   ]
  },
  {
   "cell_type": "markdown",
   "metadata": {},
   "source": [
    "# Question\n",
    "\n",
    "Check whether reversing a sub array makes a list sorted.\n",
    "\n",
    "Input: 1 2 5 4 3\n",
    "\n",
    "Output: Yes "
   ]
  },
  {
   "cell_type": "code",
   "execution_count": 76,
   "metadata": {},
   "outputs": [
    {
     "name": "stdout",
     "output_type": "stream",
     "text": [
      "1 2 5 4 3 2\n",
      "Yes 3 6\n"
     ]
    }
   ],
   "source": [
    "from itertools import combinations\n",
    "import copy\n",
    "arr=list(map(int,input().split()))\n",
    "i,j,l=0,0,0\n",
    "for i,j in combinations(list(range(0,len(arr)+1)),2):\n",
    "    req_arr=copy.deepcopy(arr[i:j])\n",
    "    req_arr.sort()\n",
    "    if req_arr!=arr[i:j]:\n",
    "        new_arr=arr[:i]+arr[i:j][::-1]+arr[j:]\n",
    "        new_arr2=copy.deepcopy(new_arr)\n",
    "        new_arr2.sort()\n",
    "        if new_arr2==new_arr:\n",
    "            l=1\n",
    "            break\n",
    "if l==1:\n",
    "    print(\"Yes\",i+1,j)"
   ]
  },
  {
   "cell_type": "markdown",
   "metadata": {},
   "source": [
    "# Question\n",
    "\n",
    "Rotate the matrix k times<br>\n",
    "Input:<br>\n",
    "N=3 M=3, k=2<br>\n",
    "[[12,23,34]<br>,[45,56,67]<br>,[78,89,91]]<br>\n",
    "Output:<br>\n",
    "[[23,34,12]<br>,[56,67,45]<br>,[89,91,78]]<br>"
   ]
  },
  {
   "cell_type": "code",
   "execution_count": 82,
   "metadata": {},
   "outputs": [
    {
     "name": "stdout",
     "output_type": "stream",
     "text": [
      "3 3 2\n",
      "12 23 31 \n",
      "45 56 64\n",
      "78 89 97\n",
      "[[23 31 12]\n",
      " [56 64 45]\n",
      " [89 97 78]]\n"
     ]
    }
   ],
   "source": [
    "import numpy as np\n",
    "n,m,k=list(map(int,input().split()))\n",
    "mat=[]\n",
    "for i in range(0,n):\n",
    "    mat.append(list(map(int,input().split())))\n",
    "arr=np.array(mat)\n",
    "for i in range(0,k-1):\n",
    "    arr=np.concatenate((arr[:,1:],arr[:,0:1]),axis=1)\n",
    "print(arr)"
   ]
  },
  {
   "cell_type": "markdown",
   "metadata": {},
   "source": [
    "# Question\n",
    "\n",
    "Find the largest multiple of 3 from the array of digits in o(n) time and o(1) space.<br>\n",
    "\n",
    "Input: 5 4 3 1 1<br>\n",
    "\n",
    "Output: 4311<br>"
   ]
  },
  {
   "cell_type": "code",
   "execution_count": 88,
   "metadata": {},
   "outputs": [
    {
     "name": "stdout",
     "output_type": "stream",
     "text": [
      "9 8 7 6 5 4 3 2 1 \n",
      "987654321\n"
     ]
    }
   ],
   "source": [
    "from itertools import combinations\n",
    "array=list(map(int,input().split()))\n",
    "if sum(array)%3==0:\n",
    "    array.sort(reverse=True)\n",
    "    array=list(map(str,array))\n",
    "    print(''.join(array))\n",
    "else:\n",
    "    val=0\n",
    "    for i,j in combinations(list(range(0,len(array)+1)),2):\n",
    "        if sum(array[i:j])%3==0:\n",
    "            x=array[i:j]\n",
    "            x.sort(reverse=True)\n",
    "            x=list(map(str,x))\n",
    "            x=''.join(x)\n",
    "            x=int(x)\n",
    "            if val<x:\n",
    "                val=x\n",
    "    print(val)\n",
    "            "
   ]
  },
  {
   "cell_type": "code",
   "execution_count": null,
   "metadata": {},
   "outputs": [],
   "source": []
  }
 ],
 "metadata": {
  "kernelspec": {
   "display_name": "Python 3",
   "language": "python",
   "name": "python3"
  },
  "language_info": {
   "codemirror_mode": {
    "name": "ipython",
    "version": 3
   },
   "file_extension": ".py",
   "mimetype": "text/x-python",
   "name": "python",
   "nbconvert_exporter": "python",
   "pygments_lexer": "ipython3",
   "version": "3.7.3"
  }
 },
 "nbformat": 4,
 "nbformat_minor": 2
}
