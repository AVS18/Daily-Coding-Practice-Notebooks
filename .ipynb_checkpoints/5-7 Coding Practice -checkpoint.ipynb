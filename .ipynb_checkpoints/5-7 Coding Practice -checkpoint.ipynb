{
 "cells": [
  {
   "cell_type": "markdown",
   "metadata": {},
   "source": [
    "# Question1\n",
    "\n",
    "Given an m X n grid filled with non negative numbers. Find a path from top left to bottom right that minimises the sum of the numbers along the path. You can move either right or down. <br>\n",
    "\n",
    "Input:<br>\n",
    "[[1,3,1],<br>\n",
    "[1,5,1],<br>\n",
    "[4,2,1]]<br>\n",
    "Output: 7\n",
    "Because the path 1->3->1->1->1."
   ]
  },
  {
   "cell_type": "code",
   "execution_count": 1,
   "metadata": {},
   "outputs": [
    {
     "name": "stdout",
     "output_type": "stream",
     "text": [
      "3 3\n",
      "1 3 1\n",
      "1 5 1\n",
      "4 2 1\n",
      "7\n"
     ]
    }
   ],
   "source": [
    "#n rows , m columns\n",
    "#refer https://www.geeksforgeeks.org/min-cost-path-dp-6/ \n",
    "#rule if we use left and up starting from bottom we get the same answer\n",
    "import numpy as np\n",
    "import sys\n",
    "def calc_cost(arr,m,n):\n",
    "    if m<0 or n<0:\n",
    "        return sys.maxsize\n",
    "    if m==0 and n==0:\n",
    "        return arr[0][0]\n",
    "    else:\n",
    "        return arr[m][n] + min1(calc_cost(arr,m-1,n),calc_cost(arr,m,n-1))\n",
    "def min1(x,y=sys.maxsize):\n",
    "    return x if x<y else y\n",
    "r,c=list(map(int,input().split())) \n",
    "li=[]\n",
    "for i in range(0,r):\n",
    "    li.append(list(map(int,input().split())))\n",
    "max_ele=max(li)\n",
    "arr=np.array(li).reshape(r,c)\n",
    "print(calc_cost(arr,r-1,c-1))"
   ]
  },
  {
   "cell_type": "markdown",
   "metadata": {},
   "source": [
    "# Question  2\n",
    "\n",
    "Given a string, find the length of the longest substring T that contains at most k distinct characters.<br>\n",
    "\n",
    "Input: s='eceba' k=2. Output: 3<br>\n",
    "Explanation: T is 'ece' which its lenght is 3<br>\n",
    "\n",
    "Input: s='aa' k=1, Output: 2<br>\n",
    "Explanation: T is 'aa' which its length is 2<br>"
   ]
  },
  {
   "cell_type": "code",
   "execution_count": 3,
   "metadata": {},
   "outputs": [
    {
     "name": "stdout",
     "output_type": "stream",
     "text": [
      "eceba\n",
      "2\n",
      "3\n"
     ]
    }
   ],
   "source": [
    "from itertools import combinations\n",
    "string=input()\n",
    "k=int(input())\n",
    "out=[]\n",
    "sub_str=[i for i in range(0,len(string)+1)]\n",
    "for i,j in combinations(sub_str,2):\n",
    "    my_str=string[i:j]\n",
    "    li=list(my_str)\n",
    "    li=list(set(li))\n",
    "    if len(li)==k:\n",
    "        out.append(len(my_str))\n",
    "print(max(out))"
   ]
  },
  {
   "cell_type": "markdown",
   "metadata": {},
   "source": [
    "# Question 3\n",
    "\n",
    "Given an array of n positive integers and a positive integers s, find the minimal length of a continuous subarray of which sum>=s. If there isn't one return 0 instead.\n",
    "\n",
    "Input: s=7, nums=[2,3,1,2,4,3]\n",
    "Output: 2\n",
    "\n",
    "Explanation: the subarray [4,3] has the minimal length under the problem constraint"
   ]
  },
  {
   "cell_type": "code",
   "execution_count": 4,
   "metadata": {},
   "outputs": [
    {
     "name": "stdout",
     "output_type": "stream",
     "text": [
      "7\n",
      "2 3 1 2 4 3\n",
      "2\n"
     ]
    }
   ],
   "source": [
    "#run this code with out the min function given below.\n",
    "from itertools import combinations\n",
    "s=int(input())\n",
    "nums=list(map(int,input().split()))\n",
    "out=[]\n",
    "li=[i for i in range(0,len(nums)+1)]\n",
    "for i,j in combinations(li,2):\n",
    "    val=sum(nums[i:j])\n",
    "    if val>=s:\n",
    "        out.append(len(nums[i:j]))\n",
    "print(min(out))"
   ]
  },
  {
   "cell_type": "markdown",
   "metadata": {},
   "source": [
    "# Program to print 1-100 without loop\n"
   ]
  },
  {
   "cell_type": "code",
   "execution_count": null,
   "metadata": {},
   "outputs": [],
   "source": [
    "'''\n",
    "C program\n",
    "\n",
    "#include<stdio.h>\n",
    "void print_one_hundred()\n",
    "{\n",
    "    int n=1;\n",
    "    label:\n",
    "    printf(\"%d \",n);\n",
    "    n+=1;\n",
    "    if(n<=100)\n",
    "    goto label;\n",
    "    else\n",
    "    return;\n",
    "}\n",
    "int main()\n",
    "{\n",
    "    print_one_hundred();\n",
    "}\n",
    "'''"
   ]
  }
 ],
 "metadata": {
  "kernelspec": {
   "display_name": "Python 3",
   "language": "python",
   "name": "python3"
  },
  "language_info": {
   "codemirror_mode": {
    "name": "ipython",
    "version": 3
   },
   "file_extension": ".py",
   "mimetype": "text/x-python",
   "name": "python",
   "nbconvert_exporter": "python",
   "pygments_lexer": "ipython3",
   "version": "3.7.3"
  }
 },
 "nbformat": 4,
 "nbformat_minor": 2
}
