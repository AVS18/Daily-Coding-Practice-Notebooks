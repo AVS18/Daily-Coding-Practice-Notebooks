{
 "cells": [
  {
   "cell_type": "markdown",
   "metadata": {},
   "source": [
    "# Question 1\n",
    "\n",
    "Given an array of integers 1<=a[i]<=n where n is the size of the array, Some elements appear twice and some appear once. Find all the elements that appear twice in the array. Could you do this without extra space and o(n) runtime.<br>\n",
    "\n",
    "Input: [4,3,2,7,8,2,3,1]<br>\n",
    "Output: [2,3]"
   ]
  },
  {
   "cell_type": "code",
   "execution_count": 11,
   "metadata": {},
   "outputs": [
    {
     "name": "stdout",
     "output_type": "stream",
     "text": [
      "4 3 2 7 8 2 1 3\n",
      "[2, 3]\n"
     ]
    }
   ],
   "source": [
    "#Method 1\n",
    "arr=list(map(int,input().split()))\n",
    "print([item for item in set(arr) if arr.count(item)==2])"
   ]
  },
  {
   "cell_type": "code",
   "execution_count": 12,
   "metadata": {},
   "outputs": [
    {
     "name": "stdout",
     "output_type": "stream",
     "text": [
      "4 3 2 7 8 2 1 3\n",
      "[3, 2]\n"
     ]
    }
   ],
   "source": [
    "#Method 2\n",
    "from collections import Counter\n",
    "arr=list(map(int,input().split()))\n",
    "print([key for key,value in Counter(arr).items() if value==2])"
   ]
  },
  {
   "cell_type": "markdown",
   "metadata": {},
   "source": [
    "# Question 2\n",
    "\n",
    "Given a stream of integers and a window size, calculate the moving average of all integers in the sliding wind.<br>\n",
    "\n",
    "Link to Concept: https://www.geeksforgeeks.org/program-find-simple-moving-average/<br>\n",
    "\n",
    "Input: window_size=3 no_of_elements=4<br>\n",
    "elements=[1,10,3,5]<br>\n",
    "\n",
    "Output: Moving average = [1,5.5,4.66,6]<br>\n",
    "\n",
    "Explanation: moving average of 1 is 1/1<br>\n",
    "moving average of 10 is (1+10)/2 = 5.5<br>\n",
    "moving average of 3 is (1+10+3)/3 = 4.66<br>\n",
    "moving average of 5 is (10+3+5)/3 = 6<br>"
   ]
  },
  {
   "cell_type": "code",
   "execution_count": 38,
   "metadata": {},
   "outputs": [
    {
     "name": "stdout",
     "output_type": "stream",
     "text": [
      "3\n",
      "1 3 5 6 8\n",
      "[1.0, 2.0, 3.0, 4.666666666666667, 6.333333333333333]\n"
     ]
    }
   ],
   "source": [
    "win_size=int(input())\n",
    "ele=list(map(int,input().split()))\n",
    "output=[sum(ele[:i])/i for i in range(1,win_size+1)]\n",
    "output1=[sum(ele[i-win_size:i])/win_size for i in range(win_size+1,len(ele)+1)]\n",
    "print(output+output1)"
   ]
  },
  {
   "cell_type": "markdown",
   "metadata": {},
   "source": [
    "# Question 3\n",
    "\n",
    "Implement int sqrt(int x). Compute and return the square root of x, where x is guarenteed to be a non negative integer. Since the return type is an integer, the decimal parts of the digits are truncated and only the integer part of the result is obtained.<br>\n",
    "\n",
    "Input: 4 Output: 2<br>\n",
    "Input: 8 Output: 2<br>\n",
    "\n",
    "Explanation: root 8 is 2.8284 decimal part is converted to int"
   ]
  },
  {
   "cell_type": "code",
   "execution_count": 40,
   "metadata": {},
   "outputs": [
    {
     "name": "stdout",
     "output_type": "stream",
     "text": [
      "2\n",
      "2\n"
     ]
    }
   ],
   "source": [
    "from math import floor\n",
    "def sqrt(x):\n",
    "    return floor(x**0.5)\n",
    "x=int(input())\n",
    "print(sqrt(x))"
   ]
  },
  {
   "cell_type": "code",
   "execution_count": 43,
   "metadata": {},
   "outputs": [
    {
     "name": "stdout",
     "output_type": "stream",
     "text": [
      "3\n",
      "1\n"
     ]
    }
   ],
   "source": [
    "#One Simple method\n",
    "from math import floor\n",
    "from math import sqrt as sqt\n",
    "x=int(input())\n",
    "print(floor(sqt(x)))"
   ]
  },
  {
   "cell_type": "markdown",
   "metadata": {},
   "source": [
    "# Question 4\n",
    "\n",
    "Given a string S, check if the letters are rearranged such that the adjacent characters are not same. If possible return the string else return the empty string.<br>\n",
    "\n",
    "Input: S=\"aab\"<br>\n",
    "Output: S=\"bba\"<br>\n",
    "\n",
    "Input: S=\"aaab\"<br>\n",
    "Output: S=\"\"<br>\n",
    "\n",
    "Note: S will consists of lower case lettters and haverange n lenght [1,500]\n"
   ]
  },
  {
   "cell_type": "code",
   "execution_count": 52,
   "metadata": {},
   "outputs": [
    {
     "name": "stdout",
     "output_type": "stream",
     "text": [
      "aaab\n",
      "No possible combinations\n"
     ]
    }
   ],
   "source": [
    "#brute force technique\n",
    "from itertools import permutations\n",
    "string=input()\n",
    "j=1\n",
    "for item in set(permutations(string,len(string))):\n",
    "    val=''.join(item)\n",
    "    l=0\n",
    "    for i in range(0,len(val)-1):\n",
    "        if val[i]==val[i+1]:\n",
    "            l=1\n",
    "            break\n",
    "    if l==0:\n",
    "        print(''.join(item))\n",
    "        j=0\n",
    "        break\n",
    "if(j==1):\n",
    "    print(\"No possible combinations\")"
   ]
  },
  {
   "cell_type": "code",
   "execution_count": null,
   "metadata": {},
   "outputs": [],
   "source": [
    "\n"
   ]
  }
 ],
 "metadata": {
  "kernelspec": {
   "display_name": "Python 3",
   "language": "python",
   "name": "python3"
  },
  "language_info": {
   "codemirror_mode": {
    "name": "ipython",
    "version": 3
   },
   "file_extension": ".py",
   "mimetype": "text/x-python",
   "name": "python",
   "nbconvert_exporter": "python",
   "pygments_lexer": "ipython3",
   "version": "3.7.3"
  }
 },
 "nbformat": 4,
 "nbformat_minor": 2
}
