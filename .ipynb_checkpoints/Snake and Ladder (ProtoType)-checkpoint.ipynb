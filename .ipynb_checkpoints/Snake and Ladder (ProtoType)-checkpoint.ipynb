{
 "cells": [
  {
   "cell_type": "code",
   "execution_count": null,
   "metadata": {},
   "outputs": [],
   "source": [
    "def find_missing_val(arr):\n",
    "    arr.sort()\n",
    "    arr=[min(arr)-arr[i] for i in range(0,len(arr)]\n",
    "    arr2=[0,1,2,3,4,5]\n",
    "snake={17:2,23:2,24:7,29:14,28:16}\n",
    "ladder={18:22,4:16,8:14,9:11}\n",
    "'''\n",
    "n_snakes,n_ladders=list(map(int,input().split()))\n",
    "print('Enter snake head and snake tail point:')\n",
    "for i in range(0,n_snakes):\n",
    "    h,t=list(map(int,input().split()))\n",
    "    snake[h]=t\n",
    "print('Enter ladder start position and end position:')\n",
    "for j in range(0,n_ladders):\n",
    "    s,e=list(map(int,input().split()))\n",
    "    ladder[s]=e\n",
    "'''\n",
    "ladder_start=list(ladder.keys())\n",
    "snake_head=list(snake.keys())\n",
    "ladder_start.sort()\n",
    "snake_head.sort()\n",
    "my_movement_points=[1]\n",
    "k=0\n",
    "i=1\n",
    "while i!=30:\n",
    "    val=[item for item in ladder_start if item>i]\n",
    "    val.sort()\n",
    "    if len(val)!=0 and abs(i-val[0])<=6:\n",
    "        i=ladder[val[0]]\n",
    "        my_movement_points.append(val[0])\n",
    "        my_movement_points.append(i)\n",
    "        k+=1\n",
    "    else:\n",
    "        #identify snake head\n",
    "        sh=[val1 for val1 in snake_head if (val1>=i and val1<=(i+6))]\n",
    "        if len(sh)==0:\n",
    "            i=i+6\n",
    "            my_movement_points.append(i)\n",
    "            continue\n",
    "        else:\n",
    "            mov=max(sh)\n",
    "            if mov!=i+6:\n",
    "                i=i+6\n",
    "                my_movement_points.append(i)\n",
    "    if (30-i)<=6:\n",
    "        my_movement_points.append(30)\n",
    "        i=30\n",
    "print(my_movement_points)"
   ]
  }
 ],
 "metadata": {
  "kernelspec": {
   "display_name": "Python 3",
   "language": "python",
   "name": "python3"
  }
 },
 "nbformat": 4,
 "nbformat_minor": 2
}
