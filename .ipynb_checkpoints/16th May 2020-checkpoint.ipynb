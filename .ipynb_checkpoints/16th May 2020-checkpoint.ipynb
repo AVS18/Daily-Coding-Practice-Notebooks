{
 "cells": [
  {
   "cell_type": "markdown",
   "metadata": {},
   "source": [
    "# Question\n",
    "Given an array of n integers, your task is to check whether it could become a non-decreasing function by changing atmost 1 element. <br>\n",
    "Input: [4,2,3]<br>\n",
    "Output: True<br>\n",
    "Input: [4,2,1]<br>\n",
    "Output: False"
   ]
  },
  {
   "cell_type": "code",
   "execution_count": 7,
   "metadata": {},
   "outputs": [
    {
     "name": "stdout",
     "output_type": "stream",
     "text": [
      "4 2 3\n",
      "True\n"
     ]
    }
   ],
   "source": [
    "#general method\n",
    "import copy\n",
    "li=list(map(int,input().split()))\n",
    "l=0\n",
    "rep_val=min(li)*-1\n",
    "for i in range(0,len(li)):\n",
    "    val=li[i]\n",
    "    li[i]=rep_val\n",
    "    li2=copy.deepcopy(li)\n",
    "    li2.sort()\n",
    "    if li2==li:\n",
    "        print(\"True\")\n",
    "        l=1\n",
    "        break\n",
    "    else:\n",
    "        li[i]=val\n",
    "if l==0:\n",
    "    print(\"False\")"
   ]
  },
  {
   "cell_type": "markdown",
   "metadata": {},
   "source": [
    "# Question\n",
    "\n",
    "Given a set of points in the xy plane, determine the minimum area of rectangle formed from these points, with sides parallel to x and y axis. If there is no rectangle return zero.<br>\n",
    "\n",
    "Input:[[1,1],[1,3],[3,1],[3,3],[2,2]]<br>\n",
    "Output: 4<br>\n",
    "Input: [[1,1],[1,3],[3,1],[3,3],[4,1],[4,3]]<br>\n",
    "Output: 2<br>"
   ]
  },
  {
   "cell_type": "code",
   "execution_count": 48,
   "metadata": {},
   "outputs": [
    {
     "name": "stdout",
     "output_type": "stream",
     "text": [
      "6\n",
      "1 1\n",
      "1 3\n",
      " 3 1\n",
      "3 3\n",
      "4 1\n",
      "4 3\n",
      "2\n"
     ]
    }
   ],
   "source": [
    "from itertools import combinations\n",
    "n_points=int(input())\n",
    "li=[]\n",
    "for i in range(0,n_points):\n",
    "    li.append(list(map(int,input().split())))\n",
    "ans=[]\n",
    "for w,x,y,z in (combinations(li,4)):\n",
    "    val1=(abs(w[0]-y[0])**2+abs(w[1]-y[1])**2)**0.5\n",
    "    val2=(abs(z[0]-y[0])**2+abs(z[1]-y[1])**2)**0.5\n",
    "    val3=(abs(z[0]-x[0])**2+abs(z[1]-x[1])**2)**0.5\n",
    "    val4=(abs(x[0]-w[0])**2+abs(x[1]-w[1])**2)**0.5\n",
    "    #print(w,x,y,z,val1,val2,val3,val4)\n",
    "    if val1==val3 and val2==val4:\n",
    "        ans.append(abs(w[1]-x[1])*abs(w[0]-y[0]))\n",
    "print(min(ans))"
   ]
  },
  {
   "cell_type": "markdown",
   "metadata": {},
   "source": [
    "# Question\n",
    "\n",
    "Given an array of meeting time intervals consisting of start and end times. determine whether a person can attend all the meetings.<br>\n",
    "Input: [[0,30],[5,10],[15,20]]<br>\n",
    "Output: False<br>\n",
    "Input:[[7,10],[2,4]]<br>\n",
    "Output: True<br>"
   ]
  },
  {
   "cell_type": "code",
   "execution_count": 56,
   "metadata": {},
   "outputs": [
    {
     "name": "stdout",
     "output_type": "stream",
     "text": [
      "2\n",
      "7 10\n",
      "2 4\n",
      "[[2, 4], [7, 10]]\n",
      "True\n"
     ]
    }
   ],
   "source": [
    "n_meet=int(input())\n",
    "li=[]\n",
    "for i in range(0,n_meet):\n",
    "    li.append(list(map(int,input().split())))\n",
    "li.sort()\n",
    "l=0\n",
    "for i in range(0,n_meet):\n",
    "    for j in range(i+1,n_meet):\n",
    "        if li[i][1]>li[j][0]:\n",
    "            print(False)\n",
    "            l=1\n",
    "            break\n",
    "    if l==1:\n",
    "        break\n",
    "if l==0:\n",
    "    print(True)"
   ]
  },
  {
   "cell_type": "code",
   "execution_count": 57,
   "metadata": {},
   "outputs": [
    {
     "name": "stdout",
     "output_type": "stream",
     "text": [
      "[[2, 4], [7, 10]]\n"
     ]
    }
   ],
   "source": [
    "#Meeting Order\n",
    "print(li)"
   ]
  },
  {
   "cell_type": "code",
   "execution_count": null,
   "metadata": {},
   "outputs": [],
   "source": []
  }
 ],
 "metadata": {
  "kernelspec": {
   "display_name": "Python 3",
   "language": "python",
   "name": "python3"
  },
  "language_info": {
   "codemirror_mode": {
    "name": "ipython",
    "version": 3
   },
   "file_extension": ".py",
   "mimetype": "text/x-python",
   "name": "python",
   "nbconvert_exporter": "python",
   "pygments_lexer": "ipython3",
   "version": "3.7.3"
  }
 },
 "nbformat": 4,
 "nbformat_minor": 2
}
