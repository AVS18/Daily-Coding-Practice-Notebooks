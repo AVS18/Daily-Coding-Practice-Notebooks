{
 "cells": [
  {
   "cell_type": "code",
   "execution_count": 19,
   "metadata": {},
   "outputs": [
    {
     "name": "stdout",
     "output_type": "stream",
     "text": [
      "Enter the employee name and age\n",
      "aditya\n",
      "33\n",
      "insert into Emp(Name,age) values(\"aditya\",33);\n",
      "100\n",
      "('aditya', 100)\n"
     ]
    }
   ],
   "source": [
    "#A revision to sql in database\n",
    "\n",
    "import sqlite3\n",
    "con=sqlite3.connect('mysample1.db')\n",
    "cur=con.cursor()\n",
    "cur.execute(\"drop table Emp;\")\n",
    "cur.execute(\"create table Emp(Name varchar(20) not null, age int(3) not null);\")\n",
    "print(\"Enter the employee name and age\")\n",
    "name,age=input(),int(input())\n",
    "print(f'insert into Emp(Name,age) values(\"{name}\",{age});')\n",
    "cur.execute(f'insert into Emp(Name,age) values(\"{name}\",{age});')\n",
    "#I update the name=\"aditya\" age to enter input age\n",
    "age=int(input())\n",
    "cur.execute(f'update Emp set age={age} where name=\"{name}\";')\n",
    "cur.execute(\"select * from Emp;\")\n",
    "for item in cur.fetchall():\n",
    "    print(item)\n",
    "con.commit()\n",
    "con.close()"
   ]
  },
  {
   "cell_type": "markdown",
   "metadata": {},
   "source": [
    "# Question 1\n",
    "\n",
    "Given an array of integers. Find out the number which is repeated only once while the rest are repeated thrice in the array. Find that single one.<br>\n",
    "\n",
    "Input: [2,2,2,3].<br>\n",
    "Output: 3<br>\n",
    "\n",
    "Input: [0,1,0,99,1,0,1,]<br>\n",
    "Output: 99"
   ]
  },
  {
   "cell_type": "code",
   "execution_count": 27,
   "metadata": {},
   "outputs": [
    {
     "name": "stdout",
     "output_type": "stream",
     "text": [
      "0 1 0 99 1 0 1\n",
      "99\n"
     ]
    }
   ],
   "source": [
    "array=list(map(int,input().split()))\n",
    "print((sum(set(array))*3 - sum(array))//2)"
   ]
  },
  {
   "cell_type": "markdown",
   "metadata": {},
   "source": [
    "# Question 2\n",
    "\n",
    "Suppose an array is sorted in ascending order is rotated at some pivot unknown to you before hand i.e. [0,1,2,4,5,6,7]. This mifht become [4,5,6,7,0,1,2]. Find the minimum element assume no duplicate element exist.<br>\n",
    "\n",
    "Input: [3,4,5,1,2]<br>\n",
    "Output: 1<br>\n",
    "Input: [4,5,6,7,0,1,2]<br>\n",
    "Output: 0<br>"
   ]
  },
  {
   "cell_type": "code",
   "execution_count": 29,
   "metadata": {},
   "outputs": [
    {
     "name": "stdout",
     "output_type": "stream",
     "text": [
      "4 5 6 7 0 1 2\n",
      "0\n"
     ]
    }
   ],
   "source": [
    "#rotation changes the minuimum element position not the minimum element value\n",
    "arr=list(map(int,input().split()))\n",
    "print(min(arr))"
   ]
  },
  {
   "cell_type": "markdown",
   "metadata": {},
   "source": [
    "# Question 3\n",
    "\n",
    "Given an positive integer n. generate a square matrux filled with elements 1 to n^2 in a spiral order<br>\n",
    "\n",
    "Input: 3<br>\n",
    "Output: [<br>\n",
    "[1,2,3]<br>\n",
    "[8,9,4]<br>\n",
    "[7,5,6]<br>\n",
    "]<br>"
   ]
  },
  {
   "cell_type": "code",
   "execution_count": 75,
   "metadata": {},
   "outputs": [
    {
     "name": "stdout",
     "output_type": "stream",
     "text": [
      "4\n",
      "[[ 1  2  3  4]\n",
      " [12 13 14  5]\n",
      " [11 16 15  6]\n",
      " [10  9  8  7]]\n"
     ]
    }
   ],
   "source": [
    "#Reference : https://www.geeksforgeeks.org/print-a-given-matrix-in-spiral-form/\n",
    "# Function for printing matrix in spiral \n",
    "# form i, j: Start index of matrix, row  \n",
    "# and column respectively m, n: End index \n",
    "# of matrix row and column respectively \n",
    "def gfg(arr,i,j,m,n,count): \n",
    "    # If i or j lies outside the matrix \n",
    "    if (i >= m or j >= n) :\n",
    "        return; \n",
    "    # Print First Row \n",
    "    for p in range(i,n):\n",
    "        arr[i,p]=count\n",
    "        count+=1\n",
    "    # Print Last Column \n",
    "    for p in range(i+1,m):\n",
    "        arr[p,n-1]=count\n",
    "        count+=1\n",
    "    # Print Last Row, if Last and \n",
    "    # First Row are not same \n",
    "    if ((m-1) != i):\n",
    "        for p in range(n-2,j,-1):\n",
    "            arr[m-1, p]=count\n",
    "            count+=1\n",
    "    # Print First Column,  if Last and \n",
    "    # First Column are not same \n",
    "    if ((n-1) != j):\n",
    "        for p in range(m-1,i,-1):\n",
    "            arr[p,j]=count\n",
    "            count+=1\n",
    "    gfg(arr, i + 1, j + 1, m - 1, n - 1,count) \n",
    "n=int(input())\n",
    "arr=np.zeros(n**2,dtype=int).reshape(n,n)\n",
    "gfg(arr, 0, 0, n, n,1)\n",
    "print(arr)"
   ]
  },
  {
   "cell_type": "code",
   "execution_count": null,
   "metadata": {},
   "outputs": [],
   "source": []
  }
 ],
 "metadata": {
  "kernelspec": {
   "display_name": "Python 3",
   "language": "python",
   "name": "python3"
  },
  "language_info": {
   "codemirror_mode": {
    "name": "ipython",
    "version": 3
   },
   "file_extension": ".py",
   "mimetype": "text/x-python",
   "name": "python",
   "nbconvert_exporter": "python",
   "pygments_lexer": "ipython3",
   "version": "3.7.3"
  }
 },
 "nbformat": 4,
 "nbformat_minor": 2
}
