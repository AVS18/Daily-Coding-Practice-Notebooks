{
 "cells": [
  {
   "cell_type": "markdown",
   "metadata": {},
   "source": [
    "# Question 1\n",
    "Find the kth largest element in an unsorted array.<br>\n",
    "\n",
    "Input: [3,2,1,5,6,4] and k=2<br>\n",
    "Output: 5<br>\n",
    "\n",
    "Input: [3,2,3,1,2,4,5,5,6] and k=4<br>\n",
    "Output: 4<br>\n",
    "\n",
    "Note: 1<=k=len(arr)<br>"
   ]
  },
  {
   "cell_type": "code",
   "execution_count": null,
   "metadata": {},
   "outputs": [],
   "source": [
    "arr=list(map(int,input().split()))\n",
    "k=int(input())\n",
    "arr.sort(reverse=True)\n",
    "print(arr[k-1])"
   ]
  },
  {
   "cell_type": "markdown",
   "metadata": {},
   "source": [
    "# Question 2\n",
    "\n",
    "Given an array nums, write a function to move all 0's to the end while maintaiing the relative order of non zero elements.<br>\n",
    "\n",
    "Input: [0,1,0,3,12]<br>\n",
    "Output: [1,3,12,0,0]<br>\n",
    "\n",
    "\n",
    "Note: Do it without making a copy of the original array. Use less number of operations as possible."
   ]
  },
  {
   "cell_type": "code",
   "execution_count": 2,
   "metadata": {},
   "outputs": [
    {
     "name": "stdout",
     "output_type": "stream",
     "text": [
      "0 0 0 0 0 0 0 1 2 0 3 0 3 0\n",
      "[1, 2, 3, 3, 0, 0, 0, 0, 0, 0, 0, 0, 0, 0]\n"
     ]
    }
   ],
   "source": [
    "arr=list(map(int,input().split()))\n",
    "i=0\n",
    "count=0\n",
    "while i!=len(arr)-1:\n",
    "    if arr[i]==0:\n",
    "        arr=arr[:i]+arr[i:]\n",
    "        count+=1\n",
    "        del arr[i]\n",
    "    else:\n",
    "        i+=1\n",
    "print(arr+[0]*count)"
   ]
  },
  {
   "cell_type": "markdown",
   "metadata": {},
   "source": [
    "# Question 3\n",
    "\n",
    "Given a string. Find the first non repeating character in it and return its index. If doesn't exist, return -1.<br>\n",
    "\n",
    "s='codersnest'<br>\n",
    "return 1<br>\n",
    "\n",
    "s='codingclubindia'<br>\n",
    "return 7<br>\n",
    "\n",
    "string has only lowercase letters<br>\n"
   ]
  },
  {
   "cell_type": "code",
   "execution_count": null,
   "metadata": {},
   "outputs": [],
   "source": [
    "from collections import Counter\n",
    "s=input()\n",
    "di=dict(Counter(s))\n",
    "singles=[]\n",
    "for key,value in di.items():\n",
    "    if value==1:\n",
    "        singles.append(key)\n",
    "if len(singles)!=0:\n",
    "    #Question1 Print the first non repeating character.\n",
    "    print(singles[0],s.index(singles[0]))\n",
    "    #Question2 Print the first occurance sorted as per lexographical order\n",
    "    singles.sort()\n",
    "    print(singles[0],s.index(singles[0]))\n",
    "else:\n",
    "    print(-1)"
   ]
  },
  {
   "cell_type": "markdown",
   "metadata": {},
   "source": [
    "# Special Question\n",
    "\n",
    "I gave a cake with aplhabets written on that. I need to give it to children in such a way that each child will get all the letters written on the cake. If not they will quarell, What are the maximum number of pieces I can divide a cake so that they won't quarrel.<br>\n",
    "\n",
    "Eg: I wrote abcabc on cake. I can split the cake into two pieces abc and abc so that 2 children get all the letters once.<br>\n",
    "\n",
    "Sample Input: abcabcabcabc<br>\n",
    "Output: 4<br>\n",
    "\n",
    "Explanation: Split abc gives me 4 pieces of cake.<br>\n",
    "\n",
    "Input: abbaabba<br>\n",
    "Output: 2<br>\n",
    "\n"
   ]
  },
  {
   "cell_type": "code",
   "execution_count": null,
   "metadata": {},
   "outputs": [],
   "source": [
    "string=input()\n",
    "l=0\n",
    "for i in range(1,len(string)):\n",
    "    split_string=string[:i]\n",
    "    li=string.split(split_string)\n",
    "    if ''.join(li)=='':\n",
    "        print(len(li)-1)\n",
    "        l=1\n",
    "        break\n",
    "if l==0:\n",
    "    print(\"Not Possible to Split\")\n",
    "    print(\"One Person can eat the cake\")\n",
    "    "
   ]
  },
  {
   "cell_type": "code",
   "execution_count": null,
   "metadata": {},
   "outputs": [],
   "source": []
  }
 ],
 "metadata": {
  "kernelspec": {
   "display_name": "Python 3",
   "language": "python",
   "name": "python3"
  },
  "language_info": {
   "codemirror_mode": {
    "name": "ipython",
    "version": 3
   },
   "file_extension": ".py",
   "mimetype": "text/x-python",
   "name": "python",
   "nbconvert_exporter": "python",
   "pygments_lexer": "ipython3",
   "version": "3.7.3"
  }
 },
 "nbformat": 4,
 "nbformat_minor": 2
}
