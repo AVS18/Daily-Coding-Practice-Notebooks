{
 "cells": [
  {
   "cell_type": "markdown",
   "metadata": {},
   "source": [
    "# Question\n",
    "\n",
    "Given an array of n integers, nums and a target. find the number of index triplets i,j,k with i<j<k<n that satisfy the condition nums[i]+nums[j]+nums[k]<target.<br>\n",
    "\n",
    "Input: nums=[-2,0,1,3],target=2<br>\n",
    "Output: <br>\n",
    "[-2,0,1]<br>\n",
    "[-2,0,3]<br>"
   ]
  },
  {
   "cell_type": "code",
   "execution_count": 5,
   "metadata": {},
   "outputs": [
    {
     "name": "stdout",
     "output_type": "stream",
     "text": [
      "-2 0 1 3\n",
      "2\n",
      "-2 0 1\n",
      "-2 0 3\n"
     ]
    }
   ],
   "source": [
    "from itertools import combinations\n",
    "nums=list(map(int,input().split()))\n",
    "target=int(input())\n",
    "for i,j,k in combinations(list(range(0,len(nums))),3):\n",
    "    if nums[i]+nums[j]+nums[k]<target:\n",
    "        print(nums[i],nums[j],nums[k])"
   ]
  },
  {
   "cell_type": "markdown",
   "metadata": {},
   "source": [
    "# Question\n",
    "\n",
    "Given an integer array nums, find the sum of the elements between indices i and j. the function update(i,val) function modify nums by updating the elements at index i to val.<br>\n",
    "\n",
    "Input: nums=[1,3,5]<br>\n",
    "3<br>\n",
    "s 0 2<br>\n",
    "u 1 2<br>\n",
    "s 0 2<br>"
   ]
  },
  {
   "cell_type": "code",
   "execution_count": 9,
   "metadata": {},
   "outputs": [
    {
     "name": "stdout",
     "output_type": "stream",
     "text": [
      "1 2 5 6 7\n",
      "5\n",
      "s 4 4\n",
      "7\n",
      "u 4 8\n",
      "s 0 4\n",
      "22\n",
      "s 4 1\n",
      "0\n",
      "s 9 7\n",
      "0\n"
     ]
    }
   ],
   "source": [
    "def update_list(nums,a,b):\n",
    "    nums[a]=b\n",
    "    return nums\n",
    "nums=list(map(int,input().split()))\n",
    "n=int(input())\n",
    "for i in range(0,n):\n",
    "    vals=input().split()\n",
    "    if vals[0]=='s':\n",
    "        print(sum(nums[int(vals[1]):int(vals[2])+1]))\n",
    "    if vals[0]=='u':\n",
    "        nums=update_list(nums,int(vals[1]),int(vals[2]))"
   ]
  },
  {
   "cell_type": "markdown",
   "metadata": {},
   "source": [
    "# Question\n",
    "\n",
    "All DNA is composed of a series of nucleotides. abbrevated as A,T,C,G's. While studying DNA it is sometimes useful to identify the repeated sequences within the DNA.  Write a function to find all the 10 letter longed sequences that occured more than once in a dna.<br>\n",
    "\n",
    "Input: 'AAAAACCCCCAAAAACCCCCAAAAAGGGTTT'<br>\n",
    "Output: [AAAAACCCCC,CCCCCAAAAA]<br>"
   ]
  },
  {
   "cell_type": "code",
   "execution_count": 11,
   "metadata": {},
   "outputs": [
    {
     "name": "stdout",
     "output_type": "stream",
     "text": [
      "AAAAACCCCCAAAAACCCCCAAAAAGGGTTT\n",
      "AAAAACCCCC\n",
      "AAAACCCCCA\n",
      "AAACCCCCAA\n",
      "AACCCCCAAA\n",
      "ACCCCCAAAA\n",
      "CCCCCAAAAA\n",
      "AAAAACCCCC\n",
      "AAAACCCCCA\n",
      "AAACCCCCAA\n",
      "AACCCCCAAA\n",
      "ACCCCCAAAA\n",
      "CCCCCAAAAA\n"
     ]
    }
   ],
   "source": [
    "def print_seq(dna):\n",
    "    for i in range(0,len(dna)-10):\n",
    "        if dna.count(dna[i:i+10])>1:\n",
    "            print(dna[i:i+10])\n",
    "dna=input()\n",
    "print_seq(dna)"
   ]
  },
  {
   "cell_type": "code",
   "execution_count": null,
   "metadata": {},
   "outputs": [],
   "source": []
  }
 ],
 "metadata": {
  "kernelspec": {
   "display_name": "Python 3",
   "language": "python",
   "name": "python3"
  },
  "language_info": {
   "codemirror_mode": {
    "name": "ipython",
    "version": 3
   },
   "file_extension": ".py",
   "mimetype": "text/x-python",
   "name": "python",
   "nbconvert_exporter": "python",
   "pygments_lexer": "ipython3",
   "version": "3.7.3"
  }
 },
 "nbformat": 4,
 "nbformat_minor": 2
}
