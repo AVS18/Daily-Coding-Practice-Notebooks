{
 "cells": [
  {
   "cell_type": "markdown",
   "metadata": {},
   "source": [
    "# Question\n",
    "\n",
    "Transpose of a matrix of size n X n\n",
    "\n",
    "Input: 4\n",
    "\n",
    "1 1 1 1 2 2 2 2 3 3 3 3 4 4 4 4\n",
    "\n",
    "Output: 1 2 3 4 1 2 3 4 1 2 3 4 1 2 3 4 "
   ]
  },
  {
   "cell_type": "code",
   "execution_count": 4,
   "metadata": {},
   "outputs": [
    {
     "name": "stdout",
     "output_type": "stream",
     "text": [
      "4\n",
      "1 1 1 1 2 2 2 2 3 3 3 3 4 4 4 4\n",
      "[1, 2, 3, 4, 1, 2, 3, 4, 1, 2, 3, 4, 1, 2, 3, 4]\n"
     ]
    }
   ],
   "source": [
    "import numpy as np\n",
    "num=int(input())\n",
    "li=list(map(int,input().split()))\n",
    "arr=np.array(li).reshape(num,num)\n",
    "transposed_array=arr.T\n",
    "print(list(transposed_array.reshape(-1)))"
   ]
  },
  {
   "cell_type": "code",
   "execution_count": 7,
   "metadata": {},
   "outputs": [
    {
     "name": "stdout",
     "output_type": "stream",
     "text": [
      "4\n",
      "1 1 1 1 2 2 2 2 3 3 3 3 4 4 4 4\n",
      "[1, 2, 3, 4, 1, 2, 3, 4, 1, 2, 3, 4, 1, 2, 3, 4]\n"
     ]
    }
   ],
   "source": [
    "#Method 2\n",
    "import numpy as np\n",
    "num=int(input())\n",
    "li=list(map(int,input().split()))\n",
    "arr=np.array(li).reshape(num,num)\n",
    "ans=[]\n",
    "for i in range(0,num):\n",
    "    ans.extend(list(arr[:,i]))\n",
    "print(ans)"
   ]
  },
  {
   "cell_type": "markdown",
   "metadata": {},
   "source": [
    "# Question \n",
    "\n",
    "Given a matrix containing lower case alphabets only. We need to count the number of palindromic paths from top left to bottom right in the matrix. We can only move right and down in the matrix.\n",
    "\n",
    "Input: 3 4\n",
    "\n",
    "a a a b b a a a a b b a\n",
    "\n",
    "Output: 3"
   ]
  },
  {
   "cell_type": "code",
   "execution_count": 47,
   "metadata": {},
   "outputs": [
    {
     "name": "stdout",
     "output_type": "stream",
     "text": [
      "3 3\n",
      "m a l a y a l a m\n",
      "[['m' 'a' 'l']\n",
      " ['a' 'y' 'a']\n",
      " ['l' 'a' 'm']]\n",
      "6\n"
     ]
    }
   ],
   "source": [
    "palindromePaths = 0\n",
    "mat_paths=[]\n",
    "def findPaths(maze,m,n): \n",
    "    path = [0 for d in range(m+n-1)] \n",
    "    return findPathsUtil(maze,m,n,0,0,path,0) \n",
    "      \n",
    "def findPathsUtil(maze,m,n,i,j,path,indx): \n",
    "    global palindromePaths\n",
    "    global mat_paths\n",
    "    if i==m-1: \n",
    "        for k in range(j,n): \n",
    "            path[indx+k-j] = maze[i][k] \n",
    "        if path==path[::-1]:\n",
    "            mat_paths.append(\"\".join(path))\n",
    "            palindromePaths+=1\n",
    "        return\n",
    "    if j == n-1: \n",
    "        for k in range(i,m): \n",
    "            path[indx+k-i] = maze[k][j] \n",
    "        if path==path[::-1]:\n",
    "            mat_paths.append(\"\".join(path))\n",
    "            palindromePaths+=1\n",
    "        return\n",
    "    path[indx] = maze[i][j] \n",
    "    findPathsUtil(maze, m, n, i+1, j, path, indx+1) \n",
    "    findPathsUtil(maze, m, n, i, j+1, path, indx+1) \n",
    "\n",
    "m,n=list(map(int,input().split()))\n",
    "li=input().split()\n",
    "maze=np.array(li).reshape(m,n)\n",
    "print(maze)\n",
    "findPaths(maze,m,n) \n",
    "print(palindromePaths)"
   ]
  },
  {
   "cell_type": "code",
   "execution_count": 46,
   "metadata": {},
   "outputs": [
    {
     "name": "stdout",
     "output_type": "stream",
     "text": [
      "['malam', 'mayam', 'mayam', 'mayam', 'mayam', 'malam']\n"
     ]
    }
   ],
   "source": [
    "print(mat_paths)"
   ]
  },
  {
   "cell_type": "markdown",
   "metadata": {},
   "source": [
    "# Question\n",
    "\n",
    "Given a matrix A of size NXN. The task is to calculate the absolute difference between the sums of the diagonal.\n",
    "\n",
    "Input: 4\n",
    "\n",
    "1 2 3 4 5 9 7 8 6 10 11 12 13 14 15 16 \n",
    "\n",
    "Output: 3"
   ]
  },
  {
   "cell_type": "code",
   "execution_count": 11,
   "metadata": {},
   "outputs": [
    {
     "name": "stdout",
     "output_type": "stream",
     "text": [
      "4\n",
      "1 2 3 4 5 9 7 8 6 10 11 12 13 14 15 16\n",
      "[[ 1  2  3  4]\n",
      " [ 5  9  7  8]\n",
      " [ 6 10 11 12]\n",
      " [13 14 15 16]]\n",
      "3\n"
     ]
    }
   ],
   "source": [
    "import numpy as np\n",
    "n=int(input())\n",
    "li=list(map(int,input().split()))\n",
    "arr=np.array(li).reshape(n,n)\n",
    "print(arr)\n",
    "#diagonal Elements\n",
    "diagonal=np.diagonal(arr)\n",
    "#anti diagonal elements\n",
    "a_diagonal=np.flipud(arr).diagonal()\n",
    "print(abs(sum(diagonal)-sum(a_diagonal)))"
   ]
  },
  {
   "cell_type": "markdown",
   "metadata": {},
   "source": [
    "# Question\n",
    "\n",
    "Given a 2D array of order N X N, swap the values of the traingle above the diagonal with the values of the triangle below it like a mirror image.\n",
    "\n",
    "Input: 3 <br>\n",
    "1 2 4 5 9 0 3 1 7<br>\n",
    "Output:<br>\n",
    "1 5 3 2 9 1 4 0 7<br>"
   ]
  },
  {
   "cell_type": "code",
   "execution_count": 16,
   "metadata": {},
   "outputs": [
    {
     "name": "stdout",
     "output_type": "stream",
     "text": [
      "3\n",
      "1 2 4 5 9 0 3 1 7\n",
      "[1 5 3 2 9 1 4 0 7]\n"
     ]
    }
   ],
   "source": [
    "n=int(input())\n",
    "li=list(map(int,input().split()))\n",
    "aray=np.array(li).reshape(n,n)\n",
    "print(aray.T.reshape(-1))"
   ]
  },
  {
   "cell_type": "markdown",
   "metadata": {},
   "source": [
    "# Question \n",
    "\n",
    "Given a positive integer n that represents the dimension of a 4n X 4n matrix with values 1 to  4n X 4n. You need to form two coils from the matrix and print the coils.\n",
    "\n",
    "Input: 1<br>\n",
    "Output: 10 6 2 3 4 8 12 16<br>\n",
    "7 11 15 14 13 9 5 1 <br>\n"
   ]
  },
  {
   "cell_type": "code",
   "execution_count": 22,
   "metadata": {},
   "outputs": [
    {
     "name": "stdout",
     "output_type": "stream",
     "text": [
      "2\n",
      "[[ 1  2  3  4  5  6  7  8]\n",
      " [ 9 10 11 12 13 14 15 16]\n",
      " [17 18 19 20 21 22 23 24]\n",
      " [25 26 27 28 29 30 31 32]\n",
      " [33 34 35 36 37 38 39 40]\n",
      " [41 42 43 44 45 46 47 48]\n",
      " [49 50 51 52 53 54 55 56]\n",
      " [57 58 59 60 61 62 63 64]]\n"
     ]
    }
   ],
   "source": [
    "import numpy as np\n",
    "n=int(input())\n",
    "li=[i for i in range(1,16*(n**2)+1)]\n",
    "arr=np.array(li).reshape(4*n,4*n)\n",
    "print(arr)"
   ]
  },
  {
   "cell_type": "markdown",
   "metadata": {},
   "source": [
    "# Question\n",
    "\n",
    "Print the binomial expansion.<br>\n",
    "\n",
    "Input: a = 1 x = 1 n = 5<br>\n",
    "Output: 1 5 10 10 5 1<br>"
   ]
  },
  {
   "cell_type": "code",
   "execution_count": 110,
   "metadata": {},
   "outputs": [
    {
     "name": "stdout",
     "output_type": "stream",
     "text": [
      "2 6 4\n",
      "[16, 192, 864, 1728, 1296]\n"
     ]
    }
   ],
   "source": [
    "import math\n",
    "def pascal_traingle(li,n):\n",
    "    if n==1:\n",
    "        return [1,1]\n",
    "    if len(li)==n+1:\n",
    "        return li\n",
    "    else:\n",
    "        val=pascal_traingle(li,n-1)\n",
    "        new_li=[1]\n",
    "        for i in range(0,len(val)//2):\n",
    "            new_li.append(val[i]+val[i+1])\n",
    "        if n%2==1:\n",
    "            return new_li+new_li[::-1]\n",
    "        else:\n",
    "            return new_li+new_li[-2::-1]\n",
    "a,x,n=list(map(int,input().split()))\n",
    "coef=pascal_traingle([],n)\n",
    "for i in range(0,n+1):\n",
    "    coef[i]*=a**(n-i)*(x**i)\n",
    "print(coef)"
   ]
  },
  {
   "cell_type": "markdown",
   "metadata": {},
   "source": [
    "# Question\n",
    "\n",
    "You need to builda some sheets of rectangular shape of area A. with dimensions L and B. You have two conditions.\n",
    "\n",
    "1> L and B shouldnot be decimals.\n",
    "\n",
    "2> L and B are even then l is equal to b.\n",
    "\n",
    "#PossibleChoices?\n",
    "\n",
    "Input: 6\n",
    "\n",
    "Output: 2"
   ]
  },
  {
   "cell_type": "code",
   "execution_count": 117,
   "metadata": {},
   "outputs": [
    {
     "name": "stdout",
     "output_type": "stream",
     "text": [
      "54\n",
      "1 54\n",
      "2 27\n",
      "3 18\n",
      "6 9\n"
     ]
    }
   ],
   "source": [
    "# O(n) solution\n",
    "from itertools import combinations\n",
    "n=int(input())\n",
    "factors=[i for i in range(1,n//2+1) if n%i==0]\n",
    "factors.append(n)\n",
    "for a,b in combinations(factors,2):\n",
    "    if not (a%2==0 and b%2==0) and a*b==n:\n",
    "        print(a,b)"
   ]
  },
  {
   "cell_type": "markdown",
   "metadata": {},
   "source": [
    "# Question\n",
    "\n",
    "Given two sorted arrays of size m and n. given a value x. count all pairs from both the arrays whose sum is equal to x.\n",
    "Note: The pair has an element in each array.\n",
    "\n",
    "Input: 4 4\n",
    "   \n",
    "     1 3 5 7\n",
    "        \n",
    "     2 3 5 8\n",
    "       \n",
    "       10\n",
    "       \n",
    "Output: 2"
   ]
  },
  {
   "cell_type": "code",
   "execution_count": 119,
   "metadata": {},
   "outputs": [
    {
     "name": "stdout",
     "output_type": "stream",
     "text": [
      "4 4\n",
      "1 3 5 7\n",
      "2 3 5 8\n",
      "10\n",
      "2\n"
     ]
    }
   ],
   "source": [
    "m,n=list(map(int,input().split()))\n",
    "m_ar=list(map(int,input().split()))\n",
    "n_ar=list(map(int,input().split()))\n",
    "val=int(input())\n",
    "count=0\n",
    "for item in m_ar:\n",
    "    if x-item in n_ar:\n",
    "        count+=n_ar.count(x-item)\n",
    "print(count)"
   ]
  },
  {
   "cell_type": "markdown",
   "metadata": {},
   "source": [
    "# Question\n",
    "\n",
    "Postive Integral solutions for the equation ax+by+cz=d\n",
    "\n",
    "Input: a+b+c=10\n",
    "\n",
    "Output: 36"
   ]
  },
  {
   "cell_type": "code",
   "execution_count": 7,
   "metadata": {},
   "outputs": [
    {
     "name": "stdout",
     "output_type": "stream",
     "text": [
      "2 3 1\n",
      "6\n",
      "1\n"
     ]
    }
   ],
   "source": [
    "#coeficients of the equation\n",
    "eqn=list(map(int,input().split()))\n",
    "ans=int(input())\n",
    "a=[i for i in range(1,ans)]\n",
    "b=[i for i in range(1,ans)]\n",
    "c=[i for i in range(1,ans)]\n",
    "count=0\n",
    "for item1 in a:\n",
    "    for item2 in b:\n",
    "        if (ans-(eqn[0]*item1+eqn[1]*item2))//eqn[2] in c:\n",
    "            count+=1\n",
    "print(count)"
   ]
  },
  {
   "cell_type": "markdown",
   "metadata": {},
   "source": [
    "# Question\n",
    "\n",
    "2 players A and B take turns alternatively and play a game. The game is that they have N numbers on the paper. At any turn a player can replace one of the numbers by any of its factors (except 1 and itself). The player who is unable to make a move loses the game. Find the game winner if A starts the game and both play optimally.\n",
    "\n",
    "Hint: Replace with the nearest prime number.\n",
    "\n",
    "Input: 3\n",
    "\n",
    "      5 7 3\n",
    "      \n",
    "Output: B"
   ]
  },
  {
   "cell_type": "code",
   "execution_count": null,
   "metadata": {},
   "outputs": [],
   "source": [
    "def check_prime(val):\n",
    "    for i in range(2,val):\n",
    "        if val%i==0:\n",
    "            return False\n",
    "    return True\n",
    "n=int(input())\n",
    "vals=list(map(int,input().split()))\n",
    "count_prime=0\n",
    "for item in vals:\n",
    "    if check_prime(item):\n",
    "        count_prime+=1\n",
    "if (n-count_prime)%2==0:\n",
    "    print(\"B\")\n",
    "else:\n",
    "    print(\"A\")"
   ]
  }
 ],
 "metadata": {
  "kernelspec": {
   "display_name": "Python 3",
   "language": "python",
   "name": "python3"
  },
  "language_info": {
   "codemirror_mode": {
    "name": "ipython",
    "version": 3
   },
   "file_extension": ".py",
   "mimetype": "text/x-python",
   "name": "python",
   "nbconvert_exporter": "python",
   "pygments_lexer": "ipython3",
   "version": "3.7.3"
  }
 },
 "nbformat": 4,
 "nbformat_minor": 2
}
